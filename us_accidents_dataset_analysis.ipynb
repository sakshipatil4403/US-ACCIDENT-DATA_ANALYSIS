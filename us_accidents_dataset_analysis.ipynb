{
  "cells": [
    {
      "cell_type": "markdown",
      "metadata": {
        "id": "8ChBypjYhZtU"
      },
      "source": [
        "# us-accidents-dataset-analysis\n",
        "\n",
        "Use the \"Run\" button to execute the code."
      ]
    },
    {
      "cell_type": "markdown",
      "metadata": {
        "id": "pzEzOY1kj-To"
      },
      "source": [
        "# US Accidents Exploratory Data Analysis\n",
        " TODO  1. Talk about EDA\n",
        "       2. Talk about the dataset (source, whatit contains, how it will be useful)\n",
        "   - kaggle\n",
        "   - Information about Accidents\n",
        "   - Can be useful to prevent accidents\n",
        "   - Mention that this does not contain data about New York.\n",
        "\n"
      ]
    },
    {
      "cell_type": "code",
      "execution_count": 8,
      "metadata": {
        "id": "jC0dEqXFgn6O"
      },
      "outputs": [],
      "source": [
        "#Jovian Commit Essentials\n",
        "# Please retain and execute this cell without modifying the contents for `jovian.com`\n",
        "!pip install jovian --upgrade -q\n",
        "import jovian\n",
        "jovian.set_project('us-accidents-dataset-analysis')\n",
        "jovian.set_colab_id('1vrLH8BhAmhSCeNFLMcZi3rR_zKTnXng')"
      ]
    },
    {
      "cell_type": "code",
      "execution_count": 9,
      "metadata": {
        "id": "Llt-mUnRmyad"
      },
      "outputs": [],
      "source": [
        "pip install opendatasets --upgrade --quiet\n"
      ]
    },
    {
      "cell_type": "code",
      "execution_count": 10,
      "metadata": {
        "colab": {
          "base_uri": "https://localhost:8080/"
        },
        "id": "gVS8ZkkWpAbA",
        "outputId": "fef57656-9571-44ff-bc77-337dd386cb12"
      },
      "outputs": [
        {
          "output_type": "stream",
          "name": "stdout",
          "text": [
            "Skipping, found downloaded files in \"./us-accidents\" (use force=True to force download)\n"
          ]
        }
      ],
      "source": [
        "import opendatasets as od\n",
        "\n",
        "download_url = 'https://www.kaggle.com/datasets/sobhanmoosavi/us-accidents'\n",
        "\n",
        "od.download(download_url)"
      ]
    },
    {
      "cell_type": "code",
      "execution_count": 11,
      "metadata": {
        "id": "oZ5gUcS_quQT"
      },
      "outputs": [],
      "source": [
        "data_filename = './us-accidents/US_Accidents_Dec21_updated.csv'"
      ]
    },
    {
      "cell_type": "markdown",
      "metadata": {
        "id": "2Dx4Cfuzki7_"
      },
      "source": [
        "## Data Preparation and Cleaning\n",
        "\n",
        "1. Load the file using Pandas\n",
        "2. Load at some information about the data and the columns\n",
        "3. Fix any missing or incorrect values"
      ]
    },
    {
      "cell_type": "code",
      "execution_count": 12,
      "metadata": {
        "id": "EWYV6tmJrzK8"
      },
      "outputs": [],
      "source": [
        "import pandas as pd"
      ]
    },
    {
      "cell_type": "code",
      "execution_count": 13,
      "metadata": {
        "id": "_JdfFiTRr4NK"
      },
      "outputs": [],
      "source": [
        "df = pd.read_csv(data_filename)"
      ]
    },
    {
      "cell_type": "code",
      "execution_count": 14,
      "metadata": {
        "colab": {
          "base_uri": "https://localhost:8080/",
          "height": 939
        },
        "id": "jETiRfmLsTQ6",
        "outputId": "e54d9920-3fe3-4716-8975-14313720ee81"
      },
      "outputs": [
        {
          "output_type": "execute_result",
          "data": {
            "text/plain": [
              "                ID  Severity           Start_Time             End_Time  \\\n",
              "0              A-1         3  2016-02-08 00:37:08  2016-02-08 06:37:08   \n",
              "1              A-2         2  2016-02-08 05:56:20  2016-02-08 11:56:20   \n",
              "2              A-3         2  2016-02-08 06:15:39  2016-02-08 12:15:39   \n",
              "3              A-4         2  2016-02-08 06:51:45  2016-02-08 12:51:45   \n",
              "4              A-5         3  2016-02-08 07:53:43  2016-02-08 13:53:43   \n",
              "...            ...       ...                  ...                  ...   \n",
              "2845337  A-2845338         2  2019-08-23 18:03:25  2019-08-23 18:32:01   \n",
              "2845338  A-2845339         2  2019-08-23 19:11:30  2019-08-23 19:38:23   \n",
              "2845339  A-2845340         2  2019-08-23 19:00:21  2019-08-23 19:28:49   \n",
              "2845340  A-2845341         2  2019-08-23 19:00:21  2019-08-23 19:29:42   \n",
              "2845341  A-2845342         2  2019-08-23 18:52:06  2019-08-23 19:21:31   \n",
              "\n",
              "         Start_Lat   Start_Lng    End_Lat     End_Lng  Distance(mi)  \\\n",
              "0        40.108910  -83.092860  40.112060  -83.031870         3.230   \n",
              "1        39.865420  -84.062800  39.865010  -84.048730         0.747   \n",
              "2        39.102660  -84.524680  39.102090  -84.523960         0.055   \n",
              "3        41.062130  -81.537840  41.062170  -81.535470         0.123   \n",
              "4        39.172393  -84.492792  39.170476  -84.501798         0.500   \n",
              "...            ...         ...        ...         ...           ...   \n",
              "2845337  34.002480 -117.379360  33.998880 -117.370940         0.543   \n",
              "2845338  32.766960 -117.148060  32.765550 -117.153630         0.338   \n",
              "2845339  33.775450 -117.847790  33.777400 -117.857270         0.561   \n",
              "2845340  33.992460 -118.403020  33.983110 -118.395650         0.772   \n",
              "2845341  34.133930 -117.230920  34.137360 -117.239340         0.537   \n",
              "\n",
              "                                               Description  ...  Roundabout  \\\n",
              "0        Between Sawmill Rd/Exit 20 and OH-315/Olentang...  ...       False   \n",
              "1                       At OH-4/OH-235/Exit 41 - Accident.  ...       False   \n",
              "2                         At I-71/US-50/Exit 1 - Accident.  ...       False   \n",
              "3                          At Dart Ave/Exit 21 - Accident.  ...       False   \n",
              "4                       At Mitchell Ave/Exit 6 - Accident.  ...       False   \n",
              "...                                                    ...  ...         ...   \n",
              "2845337                           At Market St - Accident.  ...       False   \n",
              "2845338    At Camino Del Rio/Mission Center Rd - Accident.  ...       False   \n",
              "2845339  At Glassell St/Grand Ave - Accident. in the ri...  ...       False   \n",
              "2845340     At CA-90/Marina Fwy/Jefferson Blvd - Accident.  ...       False   \n",
              "2845341              At Highland Ave/Arden Ave - Accident.  ...       False   \n",
              "\n",
              "        Station   Stop Traffic_Calming Traffic_Signal Turning_Loop  \\\n",
              "0         False  False           False          False        False   \n",
              "1         False  False           False          False        False   \n",
              "2         False  False           False          False        False   \n",
              "3         False  False           False          False        False   \n",
              "4         False  False           False          False        False   \n",
              "...         ...    ...             ...            ...          ...   \n",
              "2845337   False  False           False          False        False   \n",
              "2845338   False  False           False          False        False   \n",
              "2845339   False  False           False          False        False   \n",
              "2845340   False  False           False          False        False   \n",
              "2845341   False  False           False          False        False   \n",
              "\n",
              "        Sunrise_Sunset Civil_Twilight Nautical_Twilight Astronomical_Twilight  \n",
              "0                Night          Night             Night                 Night  \n",
              "1                Night          Night             Night                 Night  \n",
              "2                Night          Night             Night                   Day  \n",
              "3                Night          Night               Day                   Day  \n",
              "4                  Day            Day               Day                   Day  \n",
              "...                ...            ...               ...                   ...  \n",
              "2845337            Day            Day               Day                   Day  \n",
              "2845338            Day            Day               Day                   Day  \n",
              "2845339            Day            Day               Day                   Day  \n",
              "2845340            Day            Day               Day                   Day  \n",
              "2845341            Day            Day               Day                   Day  \n",
              "\n",
              "[2845342 rows x 47 columns]"
            ],
            "text/html": [
              "\n",
              "  <div id=\"df-76d6cfc5-de98-4906-9f1a-c7587f0025b4\">\n",
              "    <div class=\"colab-df-container\">\n",
              "      <div>\n",
              "<style scoped>\n",
              "    .dataframe tbody tr th:only-of-type {\n",
              "        vertical-align: middle;\n",
              "    }\n",
              "\n",
              "    .dataframe tbody tr th {\n",
              "        vertical-align: top;\n",
              "    }\n",
              "\n",
              "    .dataframe thead th {\n",
              "        text-align: right;\n",
              "    }\n",
              "</style>\n",
              "<table border=\"1\" class=\"dataframe\">\n",
              "  <thead>\n",
              "    <tr style=\"text-align: right;\">\n",
              "      <th></th>\n",
              "      <th>ID</th>\n",
              "      <th>Severity</th>\n",
              "      <th>Start_Time</th>\n",
              "      <th>End_Time</th>\n",
              "      <th>Start_Lat</th>\n",
              "      <th>Start_Lng</th>\n",
              "      <th>End_Lat</th>\n",
              "      <th>End_Lng</th>\n",
              "      <th>Distance(mi)</th>\n",
              "      <th>Description</th>\n",
              "      <th>...</th>\n",
              "      <th>Roundabout</th>\n",
              "      <th>Station</th>\n",
              "      <th>Stop</th>\n",
              "      <th>Traffic_Calming</th>\n",
              "      <th>Traffic_Signal</th>\n",
              "      <th>Turning_Loop</th>\n",
              "      <th>Sunrise_Sunset</th>\n",
              "      <th>Civil_Twilight</th>\n",
              "      <th>Nautical_Twilight</th>\n",
              "      <th>Astronomical_Twilight</th>\n",
              "    </tr>\n",
              "  </thead>\n",
              "  <tbody>\n",
              "    <tr>\n",
              "      <th>0</th>\n",
              "      <td>A-1</td>\n",
              "      <td>3</td>\n",
              "      <td>2016-02-08 00:37:08</td>\n",
              "      <td>2016-02-08 06:37:08</td>\n",
              "      <td>40.108910</td>\n",
              "      <td>-83.092860</td>\n",
              "      <td>40.112060</td>\n",
              "      <td>-83.031870</td>\n",
              "      <td>3.230</td>\n",
              "      <td>Between Sawmill Rd/Exit 20 and OH-315/Olentang...</td>\n",
              "      <td>...</td>\n",
              "      <td>False</td>\n",
              "      <td>False</td>\n",
              "      <td>False</td>\n",
              "      <td>False</td>\n",
              "      <td>False</td>\n",
              "      <td>False</td>\n",
              "      <td>Night</td>\n",
              "      <td>Night</td>\n",
              "      <td>Night</td>\n",
              "      <td>Night</td>\n",
              "    </tr>\n",
              "    <tr>\n",
              "      <th>1</th>\n",
              "      <td>A-2</td>\n",
              "      <td>2</td>\n",
              "      <td>2016-02-08 05:56:20</td>\n",
              "      <td>2016-02-08 11:56:20</td>\n",
              "      <td>39.865420</td>\n",
              "      <td>-84.062800</td>\n",
              "      <td>39.865010</td>\n",
              "      <td>-84.048730</td>\n",
              "      <td>0.747</td>\n",
              "      <td>At OH-4/OH-235/Exit 41 - Accident.</td>\n",
              "      <td>...</td>\n",
              "      <td>False</td>\n",
              "      <td>False</td>\n",
              "      <td>False</td>\n",
              "      <td>False</td>\n",
              "      <td>False</td>\n",
              "      <td>False</td>\n",
              "      <td>Night</td>\n",
              "      <td>Night</td>\n",
              "      <td>Night</td>\n",
              "      <td>Night</td>\n",
              "    </tr>\n",
              "    <tr>\n",
              "      <th>2</th>\n",
              "      <td>A-3</td>\n",
              "      <td>2</td>\n",
              "      <td>2016-02-08 06:15:39</td>\n",
              "      <td>2016-02-08 12:15:39</td>\n",
              "      <td>39.102660</td>\n",
              "      <td>-84.524680</td>\n",
              "      <td>39.102090</td>\n",
              "      <td>-84.523960</td>\n",
              "      <td>0.055</td>\n",
              "      <td>At I-71/US-50/Exit 1 - Accident.</td>\n",
              "      <td>...</td>\n",
              "      <td>False</td>\n",
              "      <td>False</td>\n",
              "      <td>False</td>\n",
              "      <td>False</td>\n",
              "      <td>False</td>\n",
              "      <td>False</td>\n",
              "      <td>Night</td>\n",
              "      <td>Night</td>\n",
              "      <td>Night</td>\n",
              "      <td>Day</td>\n",
              "    </tr>\n",
              "    <tr>\n",
              "      <th>3</th>\n",
              "      <td>A-4</td>\n",
              "      <td>2</td>\n",
              "      <td>2016-02-08 06:51:45</td>\n",
              "      <td>2016-02-08 12:51:45</td>\n",
              "      <td>41.062130</td>\n",
              "      <td>-81.537840</td>\n",
              "      <td>41.062170</td>\n",
              "      <td>-81.535470</td>\n",
              "      <td>0.123</td>\n",
              "      <td>At Dart Ave/Exit 21 - Accident.</td>\n",
              "      <td>...</td>\n",
              "      <td>False</td>\n",
              "      <td>False</td>\n",
              "      <td>False</td>\n",
              "      <td>False</td>\n",
              "      <td>False</td>\n",
              "      <td>False</td>\n",
              "      <td>Night</td>\n",
              "      <td>Night</td>\n",
              "      <td>Day</td>\n",
              "      <td>Day</td>\n",
              "    </tr>\n",
              "    <tr>\n",
              "      <th>4</th>\n",
              "      <td>A-5</td>\n",
              "      <td>3</td>\n",
              "      <td>2016-02-08 07:53:43</td>\n",
              "      <td>2016-02-08 13:53:43</td>\n",
              "      <td>39.172393</td>\n",
              "      <td>-84.492792</td>\n",
              "      <td>39.170476</td>\n",
              "      <td>-84.501798</td>\n",
              "      <td>0.500</td>\n",
              "      <td>At Mitchell Ave/Exit 6 - Accident.</td>\n",
              "      <td>...</td>\n",
              "      <td>False</td>\n",
              "      <td>False</td>\n",
              "      <td>False</td>\n",
              "      <td>False</td>\n",
              "      <td>False</td>\n",
              "      <td>False</td>\n",
              "      <td>Day</td>\n",
              "      <td>Day</td>\n",
              "      <td>Day</td>\n",
              "      <td>Day</td>\n",
              "    </tr>\n",
              "    <tr>\n",
              "      <th>...</th>\n",
              "      <td>...</td>\n",
              "      <td>...</td>\n",
              "      <td>...</td>\n",
              "      <td>...</td>\n",
              "      <td>...</td>\n",
              "      <td>...</td>\n",
              "      <td>...</td>\n",
              "      <td>...</td>\n",
              "      <td>...</td>\n",
              "      <td>...</td>\n",
              "      <td>...</td>\n",
              "      <td>...</td>\n",
              "      <td>...</td>\n",
              "      <td>...</td>\n",
              "      <td>...</td>\n",
              "      <td>...</td>\n",
              "      <td>...</td>\n",
              "      <td>...</td>\n",
              "      <td>...</td>\n",
              "      <td>...</td>\n",
              "      <td>...</td>\n",
              "    </tr>\n",
              "    <tr>\n",
              "      <th>2845337</th>\n",
              "      <td>A-2845338</td>\n",
              "      <td>2</td>\n",
              "      <td>2019-08-23 18:03:25</td>\n",
              "      <td>2019-08-23 18:32:01</td>\n",
              "      <td>34.002480</td>\n",
              "      <td>-117.379360</td>\n",
              "      <td>33.998880</td>\n",
              "      <td>-117.370940</td>\n",
              "      <td>0.543</td>\n",
              "      <td>At Market St - Accident.</td>\n",
              "      <td>...</td>\n",
              "      <td>False</td>\n",
              "      <td>False</td>\n",
              "      <td>False</td>\n",
              "      <td>False</td>\n",
              "      <td>False</td>\n",
              "      <td>False</td>\n",
              "      <td>Day</td>\n",
              "      <td>Day</td>\n",
              "      <td>Day</td>\n",
              "      <td>Day</td>\n",
              "    </tr>\n",
              "    <tr>\n",
              "      <th>2845338</th>\n",
              "      <td>A-2845339</td>\n",
              "      <td>2</td>\n",
              "      <td>2019-08-23 19:11:30</td>\n",
              "      <td>2019-08-23 19:38:23</td>\n",
              "      <td>32.766960</td>\n",
              "      <td>-117.148060</td>\n",
              "      <td>32.765550</td>\n",
              "      <td>-117.153630</td>\n",
              "      <td>0.338</td>\n",
              "      <td>At Camino Del Rio/Mission Center Rd - Accident.</td>\n",
              "      <td>...</td>\n",
              "      <td>False</td>\n",
              "      <td>False</td>\n",
              "      <td>False</td>\n",
              "      <td>False</td>\n",
              "      <td>False</td>\n",
              "      <td>False</td>\n",
              "      <td>Day</td>\n",
              "      <td>Day</td>\n",
              "      <td>Day</td>\n",
              "      <td>Day</td>\n",
              "    </tr>\n",
              "    <tr>\n",
              "      <th>2845339</th>\n",
              "      <td>A-2845340</td>\n",
              "      <td>2</td>\n",
              "      <td>2019-08-23 19:00:21</td>\n",
              "      <td>2019-08-23 19:28:49</td>\n",
              "      <td>33.775450</td>\n",
              "      <td>-117.847790</td>\n",
              "      <td>33.777400</td>\n",
              "      <td>-117.857270</td>\n",
              "      <td>0.561</td>\n",
              "      <td>At Glassell St/Grand Ave - Accident. in the ri...</td>\n",
              "      <td>...</td>\n",
              "      <td>False</td>\n",
              "      <td>False</td>\n",
              "      <td>False</td>\n",
              "      <td>False</td>\n",
              "      <td>False</td>\n",
              "      <td>False</td>\n",
              "      <td>Day</td>\n",
              "      <td>Day</td>\n",
              "      <td>Day</td>\n",
              "      <td>Day</td>\n",
              "    </tr>\n",
              "    <tr>\n",
              "      <th>2845340</th>\n",
              "      <td>A-2845341</td>\n",
              "      <td>2</td>\n",
              "      <td>2019-08-23 19:00:21</td>\n",
              "      <td>2019-08-23 19:29:42</td>\n",
              "      <td>33.992460</td>\n",
              "      <td>-118.403020</td>\n",
              "      <td>33.983110</td>\n",
              "      <td>-118.395650</td>\n",
              "      <td>0.772</td>\n",
              "      <td>At CA-90/Marina Fwy/Jefferson Blvd - Accident.</td>\n",
              "      <td>...</td>\n",
              "      <td>False</td>\n",
              "      <td>False</td>\n",
              "      <td>False</td>\n",
              "      <td>False</td>\n",
              "      <td>False</td>\n",
              "      <td>False</td>\n",
              "      <td>Day</td>\n",
              "      <td>Day</td>\n",
              "      <td>Day</td>\n",
              "      <td>Day</td>\n",
              "    </tr>\n",
              "    <tr>\n",
              "      <th>2845341</th>\n",
              "      <td>A-2845342</td>\n",
              "      <td>2</td>\n",
              "      <td>2019-08-23 18:52:06</td>\n",
              "      <td>2019-08-23 19:21:31</td>\n",
              "      <td>34.133930</td>\n",
              "      <td>-117.230920</td>\n",
              "      <td>34.137360</td>\n",
              "      <td>-117.239340</td>\n",
              "      <td>0.537</td>\n",
              "      <td>At Highland Ave/Arden Ave - Accident.</td>\n",
              "      <td>...</td>\n",
              "      <td>False</td>\n",
              "      <td>False</td>\n",
              "      <td>False</td>\n",
              "      <td>False</td>\n",
              "      <td>False</td>\n",
              "      <td>False</td>\n",
              "      <td>Day</td>\n",
              "      <td>Day</td>\n",
              "      <td>Day</td>\n",
              "      <td>Day</td>\n",
              "    </tr>\n",
              "  </tbody>\n",
              "</table>\n",
              "<p>2845342 rows × 47 columns</p>\n",
              "</div>\n",
              "      <button class=\"colab-df-convert\" onclick=\"convertToInteractive('df-76d6cfc5-de98-4906-9f1a-c7587f0025b4')\"\n",
              "              title=\"Convert this dataframe to an interactive table.\"\n",
              "              style=\"display:none;\">\n",
              "        \n",
              "  <svg xmlns=\"http://www.w3.org/2000/svg\" height=\"24px\"viewBox=\"0 0 24 24\"\n",
              "       width=\"24px\">\n",
              "    <path d=\"M0 0h24v24H0V0z\" fill=\"none\"/>\n",
              "    <path d=\"M18.56 5.44l.94 2.06.94-2.06 2.06-.94-2.06-.94-.94-2.06-.94 2.06-2.06.94zm-11 1L8.5 8.5l.94-2.06 2.06-.94-2.06-.94L8.5 2.5l-.94 2.06-2.06.94zm10 10l.94 2.06.94-2.06 2.06-.94-2.06-.94-.94-2.06-.94 2.06-2.06.94z\"/><path d=\"M17.41 7.96l-1.37-1.37c-.4-.4-.92-.59-1.43-.59-.52 0-1.04.2-1.43.59L10.3 9.45l-7.72 7.72c-.78.78-.78 2.05 0 2.83L4 21.41c.39.39.9.59 1.41.59.51 0 1.02-.2 1.41-.59l7.78-7.78 2.81-2.81c.8-.78.8-2.07 0-2.86zM5.41 20L4 18.59l7.72-7.72 1.47 1.35L5.41 20z\"/>\n",
              "  </svg>\n",
              "      </button>\n",
              "      \n",
              "  <style>\n",
              "    .colab-df-container {\n",
              "      display:flex;\n",
              "      flex-wrap:wrap;\n",
              "      gap: 12px;\n",
              "    }\n",
              "\n",
              "    .colab-df-convert {\n",
              "      background-color: #E8F0FE;\n",
              "      border: none;\n",
              "      border-radius: 50%;\n",
              "      cursor: pointer;\n",
              "      display: none;\n",
              "      fill: #1967D2;\n",
              "      height: 32px;\n",
              "      padding: 0 0 0 0;\n",
              "      width: 32px;\n",
              "    }\n",
              "\n",
              "    .colab-df-convert:hover {\n",
              "      background-color: #E2EBFA;\n",
              "      box-shadow: 0px 1px 2px rgba(60, 64, 67, 0.3), 0px 1px 3px 1px rgba(60, 64, 67, 0.15);\n",
              "      fill: #174EA6;\n",
              "    }\n",
              "\n",
              "    [theme=dark] .colab-df-convert {\n",
              "      background-color: #3B4455;\n",
              "      fill: #D2E3FC;\n",
              "    }\n",
              "\n",
              "    [theme=dark] .colab-df-convert:hover {\n",
              "      background-color: #434B5C;\n",
              "      box-shadow: 0px 1px 3px 1px rgba(0, 0, 0, 0.15);\n",
              "      filter: drop-shadow(0px 1px 2px rgba(0, 0, 0, 0.3));\n",
              "      fill: #FFFFFF;\n",
              "    }\n",
              "  </style>\n",
              "\n",
              "      <script>\n",
              "        const buttonEl =\n",
              "          document.querySelector('#df-76d6cfc5-de98-4906-9f1a-c7587f0025b4 button.colab-df-convert');\n",
              "        buttonEl.style.display =\n",
              "          google.colab.kernel.accessAllowed ? 'block' : 'none';\n",
              "\n",
              "        async function convertToInteractive(key) {\n",
              "          const element = document.querySelector('#df-76d6cfc5-de98-4906-9f1a-c7587f0025b4');\n",
              "          const dataTable =\n",
              "            await google.colab.kernel.invokeFunction('convertToInteractive',\n",
              "                                                     [key], {});\n",
              "          if (!dataTable) return;\n",
              "\n",
              "          const docLinkHtml = 'Like what you see? Visit the ' +\n",
              "            '<a target=\"_blank\" href=https://colab.research.google.com/notebooks/data_table.ipynb>data table notebook</a>'\n",
              "            + ' to learn more about interactive tables.';\n",
              "          element.innerHTML = '';\n",
              "          dataTable['output_type'] = 'display_data';\n",
              "          await google.colab.output.renderOutput(dataTable, element);\n",
              "          const docLink = document.createElement('div');\n",
              "          docLink.innerHTML = docLinkHtml;\n",
              "          element.appendChild(docLink);\n",
              "        }\n",
              "      </script>\n",
              "    </div>\n",
              "  </div>\n",
              "  "
            ]
          },
          "metadata": {},
          "execution_count": 14
        }
      ],
      "source": [
        "df"
      ]
    },
    {
      "cell_type": "markdown",
      "metadata": {
        "id": "TG_w3XlX-w0k"
      },
      "source": [
        "The data has about 2.9 million rows and 47 columns."
      ]
    },
    {
      "cell_type": "code",
      "execution_count": 15,
      "metadata": {
        "colab": {
          "base_uri": "https://localhost:8080/"
        },
        "id": "mIi8tQ75j3Hx",
        "outputId": "7eb7ee8d-992b-407a-99d7-bc9393aa5bd9"
      },
      "outputs": [
        {
          "output_type": "execute_result",
          "data": {
            "text/plain": [
              "Index(['ID', 'Severity', 'Start_Time', 'End_Time', 'Start_Lat', 'Start_Lng',\n",
              "       'End_Lat', 'End_Lng', 'Distance(mi)', 'Description', 'Number', 'Street',\n",
              "       'Side', 'City', 'County', 'State', 'Zipcode', 'Country', 'Timezone',\n",
              "       'Airport_Code', 'Weather_Timestamp', 'Temperature(F)', 'Wind_Chill(F)',\n",
              "       'Humidity(%)', 'Pressure(in)', 'Visibility(mi)', 'Wind_Direction',\n",
              "       'Wind_Speed(mph)', 'Precipitation(in)', 'Weather_Condition', 'Amenity',\n",
              "       'Bump', 'Crossing', 'Give_Way', 'Junction', 'No_Exit', 'Railway',\n",
              "       'Roundabout', 'Station', 'Stop', 'Traffic_Calming', 'Traffic_Signal',\n",
              "       'Turning_Loop', 'Sunrise_Sunset', 'Civil_Twilight', 'Nautical_Twilight',\n",
              "       'Astronomical_Twilight'],\n",
              "      dtype='object')"
            ]
          },
          "metadata": {},
          "execution_count": 15
        }
      ],
      "source": [
        "df.columns"
      ]
    },
    {
      "cell_type": "code",
      "execution_count": 16,
      "metadata": {
        "colab": {
          "base_uri": "https://localhost:8080/"
        },
        "id": "xddpH1lpkBp4",
        "outputId": "06d149a3-6dff-4fe5-e813-097d2a030190"
      },
      "outputs": [
        {
          "output_type": "execute_result",
          "data": {
            "text/plain": [
              "47"
            ]
          },
          "metadata": {},
          "execution_count": 16
        }
      ],
      "source": [
        "len(df.columns)"
      ]
    },
    {
      "cell_type": "code",
      "execution_count": 17,
      "metadata": {
        "colab": {
          "base_uri": "https://localhost:8080/"
        },
        "id": "kIJ38URqkJfM",
        "outputId": "d5dc5d38-bb0a-4566-ba06-8331e562dc15"
      },
      "outputs": [
        {
          "output_type": "execute_result",
          "data": {
            "text/plain": [
              "2845342"
            ]
          },
          "metadata": {},
          "execution_count": 17
        }
      ],
      "source": [
        "len(df)"
      ]
    },
    {
      "cell_type": "code",
      "execution_count": 18,
      "metadata": {
        "colab": {
          "base_uri": "https://localhost:8080/"
        },
        "id": "FoR1dynzkS7V",
        "outputId": "314ea7e5-c538-46ed-ebed-bb03595ace6f"
      },
      "outputs": [
        {
          "output_type": "stream",
          "name": "stdout",
          "text": [
            "<class 'pandas.core.frame.DataFrame'>\n",
            "RangeIndex: 2845342 entries, 0 to 2845341\n",
            "Data columns (total 47 columns):\n",
            " #   Column                 Dtype  \n",
            "---  ------                 -----  \n",
            " 0   ID                     object \n",
            " 1   Severity               int64  \n",
            " 2   Start_Time             object \n",
            " 3   End_Time               object \n",
            " 4   Start_Lat              float64\n",
            " 5   Start_Lng              float64\n",
            " 6   End_Lat                float64\n",
            " 7   End_Lng                float64\n",
            " 8   Distance(mi)           float64\n",
            " 9   Description            object \n",
            " 10  Number                 float64\n",
            " 11  Street                 object \n",
            " 12  Side                   object \n",
            " 13  City                   object \n",
            " 14  County                 object \n",
            " 15  State                  object \n",
            " 16  Zipcode                object \n",
            " 17  Country                object \n",
            " 18  Timezone               object \n",
            " 19  Airport_Code           object \n",
            " 20  Weather_Timestamp      object \n",
            " 21  Temperature(F)         float64\n",
            " 22  Wind_Chill(F)          float64\n",
            " 23  Humidity(%)            float64\n",
            " 24  Pressure(in)           float64\n",
            " 25  Visibility(mi)         float64\n",
            " 26  Wind_Direction         object \n",
            " 27  Wind_Speed(mph)        float64\n",
            " 28  Precipitation(in)      float64\n",
            " 29  Weather_Condition      object \n",
            " 30  Amenity                bool   \n",
            " 31  Bump                   bool   \n",
            " 32  Crossing               bool   \n",
            " 33  Give_Way               bool   \n",
            " 34  Junction               bool   \n",
            " 35  No_Exit                bool   \n",
            " 36  Railway                bool   \n",
            " 37  Roundabout             bool   \n",
            " 38  Station                bool   \n",
            " 39  Stop                   bool   \n",
            " 40  Traffic_Calming        bool   \n",
            " 41  Traffic_Signal         bool   \n",
            " 42  Turning_Loop           bool   \n",
            " 43  Sunrise_Sunset         object \n",
            " 44  Civil_Twilight         object \n",
            " 45  Nautical_Twilight      object \n",
            " 46  Astronomical_Twilight  object \n",
            "dtypes: bool(13), float64(13), int64(1), object(20)\n",
            "memory usage: 773.4+ MB\n"
          ]
        }
      ],
      "source": [
        "df.info()"
      ]
    },
    {
      "cell_type": "markdown",
      "metadata": {
        "id": "d_hcrgwO_D6W"
      },
      "source": [
        "Summary statistics of the columns"
      ]
    },
    {
      "cell_type": "code",
      "execution_count": 19,
      "metadata": {
        "colab": {
          "base_uri": "https://localhost:8080/",
          "height": 364
        },
        "id": "lVJLGZv6kmx5",
        "outputId": "0d54c4bc-5860-4524-b9b6-c0919aab3f2b"
      },
      "outputs": [
        {
          "output_type": "execute_result",
          "data": {
            "text/plain": [
              "           Severity     Start_Lat     Start_Lng       End_Lat       End_Lng  \\\n",
              "count  2.845342e+06  2.845342e+06  2.845342e+06  2.845342e+06  2.845342e+06   \n",
              "mean   2.137572e+00  3.624520e+01 -9.711463e+01  3.624532e+01 -9.711439e+01   \n",
              "std    4.787216e-01  5.363797e+00  1.831782e+01  5.363873e+00  1.831763e+01   \n",
              "min    1.000000e+00  2.456603e+01 -1.245481e+02  2.456601e+01 -1.245457e+02   \n",
              "25%    2.000000e+00  3.344517e+01 -1.180331e+02  3.344628e+01 -1.180333e+02   \n",
              "50%    2.000000e+00  3.609861e+01 -9.241808e+01  3.609799e+01 -9.241772e+01   \n",
              "75%    2.000000e+00  4.016024e+01 -8.037243e+01  4.016105e+01 -8.037338e+01   \n",
              "max    4.000000e+00  4.900058e+01 -6.711317e+01  4.907500e+01 -6.710924e+01   \n",
              "\n",
              "       Distance(mi)        Number  Temperature(F)  Wind_Chill(F)  \\\n",
              "count  2.845342e+06  1.101431e+06    2.776068e+06   2.375699e+06   \n",
              "mean   7.026779e-01  8.089408e+03    6.179356e+01   5.965823e+01   \n",
              "std    1.560361e+00  1.836009e+04    1.862263e+01   2.116097e+01   \n",
              "min    0.000000e+00  0.000000e+00   -8.900000e+01  -8.900000e+01   \n",
              "25%    5.200000e-02  1.270000e+03    5.000000e+01   4.600000e+01   \n",
              "50%    2.440000e-01  4.007000e+03    6.400000e+01   6.300000e+01   \n",
              "75%    7.640000e-01  9.567000e+03    7.600000e+01   7.600000e+01   \n",
              "max    1.551860e+02  9.999997e+06    1.960000e+02   1.960000e+02   \n",
              "\n",
              "        Humidity(%)  Pressure(in)  Visibility(mi)  Wind_Speed(mph)  \\\n",
              "count  2.772250e+06  2.786142e+06    2.774796e+06     2.687398e+06   \n",
              "mean   6.436545e+01  2.947234e+01    9.099391e+00     7.395044e+00   \n",
              "std    2.287457e+01  1.045286e+00    2.717546e+00     5.527454e+00   \n",
              "min    1.000000e+00  0.000000e+00    0.000000e+00     0.000000e+00   \n",
              "25%    4.800000e+01  2.931000e+01    1.000000e+01     3.500000e+00   \n",
              "50%    6.700000e+01  2.982000e+01    1.000000e+01     7.000000e+00   \n",
              "75%    8.300000e+01  3.001000e+01    1.000000e+01     1.000000e+01   \n",
              "max    1.000000e+02  5.890000e+01    1.400000e+02     1.087000e+03   \n",
              "\n",
              "       Precipitation(in)  \n",
              "count       2.295884e+06  \n",
              "mean        7.016940e-03  \n",
              "std         9.348831e-02  \n",
              "min         0.000000e+00  \n",
              "25%         0.000000e+00  \n",
              "50%         0.000000e+00  \n",
              "75%         0.000000e+00  \n",
              "max         2.400000e+01  "
            ],
            "text/html": [
              "\n",
              "  <div id=\"df-7df558b6-911c-4bdc-b740-92c655bfc22d\">\n",
              "    <div class=\"colab-df-container\">\n",
              "      <div>\n",
              "<style scoped>\n",
              "    .dataframe tbody tr th:only-of-type {\n",
              "        vertical-align: middle;\n",
              "    }\n",
              "\n",
              "    .dataframe tbody tr th {\n",
              "        vertical-align: top;\n",
              "    }\n",
              "\n",
              "    .dataframe thead th {\n",
              "        text-align: right;\n",
              "    }\n",
              "</style>\n",
              "<table border=\"1\" class=\"dataframe\">\n",
              "  <thead>\n",
              "    <tr style=\"text-align: right;\">\n",
              "      <th></th>\n",
              "      <th>Severity</th>\n",
              "      <th>Start_Lat</th>\n",
              "      <th>Start_Lng</th>\n",
              "      <th>End_Lat</th>\n",
              "      <th>End_Lng</th>\n",
              "      <th>Distance(mi)</th>\n",
              "      <th>Number</th>\n",
              "      <th>Temperature(F)</th>\n",
              "      <th>Wind_Chill(F)</th>\n",
              "      <th>Humidity(%)</th>\n",
              "      <th>Pressure(in)</th>\n",
              "      <th>Visibility(mi)</th>\n",
              "      <th>Wind_Speed(mph)</th>\n",
              "      <th>Precipitation(in)</th>\n",
              "    </tr>\n",
              "  </thead>\n",
              "  <tbody>\n",
              "    <tr>\n",
              "      <th>count</th>\n",
              "      <td>2.845342e+06</td>\n",
              "      <td>2.845342e+06</td>\n",
              "      <td>2.845342e+06</td>\n",
              "      <td>2.845342e+06</td>\n",
              "      <td>2.845342e+06</td>\n",
              "      <td>2.845342e+06</td>\n",
              "      <td>1.101431e+06</td>\n",
              "      <td>2.776068e+06</td>\n",
              "      <td>2.375699e+06</td>\n",
              "      <td>2.772250e+06</td>\n",
              "      <td>2.786142e+06</td>\n",
              "      <td>2.774796e+06</td>\n",
              "      <td>2.687398e+06</td>\n",
              "      <td>2.295884e+06</td>\n",
              "    </tr>\n",
              "    <tr>\n",
              "      <th>mean</th>\n",
              "      <td>2.137572e+00</td>\n",
              "      <td>3.624520e+01</td>\n",
              "      <td>-9.711463e+01</td>\n",
              "      <td>3.624532e+01</td>\n",
              "      <td>-9.711439e+01</td>\n",
              "      <td>7.026779e-01</td>\n",
              "      <td>8.089408e+03</td>\n",
              "      <td>6.179356e+01</td>\n",
              "      <td>5.965823e+01</td>\n",
              "      <td>6.436545e+01</td>\n",
              "      <td>2.947234e+01</td>\n",
              "      <td>9.099391e+00</td>\n",
              "      <td>7.395044e+00</td>\n",
              "      <td>7.016940e-03</td>\n",
              "    </tr>\n",
              "    <tr>\n",
              "      <th>std</th>\n",
              "      <td>4.787216e-01</td>\n",
              "      <td>5.363797e+00</td>\n",
              "      <td>1.831782e+01</td>\n",
              "      <td>5.363873e+00</td>\n",
              "      <td>1.831763e+01</td>\n",
              "      <td>1.560361e+00</td>\n",
              "      <td>1.836009e+04</td>\n",
              "      <td>1.862263e+01</td>\n",
              "      <td>2.116097e+01</td>\n",
              "      <td>2.287457e+01</td>\n",
              "      <td>1.045286e+00</td>\n",
              "      <td>2.717546e+00</td>\n",
              "      <td>5.527454e+00</td>\n",
              "      <td>9.348831e-02</td>\n",
              "    </tr>\n",
              "    <tr>\n",
              "      <th>min</th>\n",
              "      <td>1.000000e+00</td>\n",
              "      <td>2.456603e+01</td>\n",
              "      <td>-1.245481e+02</td>\n",
              "      <td>2.456601e+01</td>\n",
              "      <td>-1.245457e+02</td>\n",
              "      <td>0.000000e+00</td>\n",
              "      <td>0.000000e+00</td>\n",
              "      <td>-8.900000e+01</td>\n",
              "      <td>-8.900000e+01</td>\n",
              "      <td>1.000000e+00</td>\n",
              "      <td>0.000000e+00</td>\n",
              "      <td>0.000000e+00</td>\n",
              "      <td>0.000000e+00</td>\n",
              "      <td>0.000000e+00</td>\n",
              "    </tr>\n",
              "    <tr>\n",
              "      <th>25%</th>\n",
              "      <td>2.000000e+00</td>\n",
              "      <td>3.344517e+01</td>\n",
              "      <td>-1.180331e+02</td>\n",
              "      <td>3.344628e+01</td>\n",
              "      <td>-1.180333e+02</td>\n",
              "      <td>5.200000e-02</td>\n",
              "      <td>1.270000e+03</td>\n",
              "      <td>5.000000e+01</td>\n",
              "      <td>4.600000e+01</td>\n",
              "      <td>4.800000e+01</td>\n",
              "      <td>2.931000e+01</td>\n",
              "      <td>1.000000e+01</td>\n",
              "      <td>3.500000e+00</td>\n",
              "      <td>0.000000e+00</td>\n",
              "    </tr>\n",
              "    <tr>\n",
              "      <th>50%</th>\n",
              "      <td>2.000000e+00</td>\n",
              "      <td>3.609861e+01</td>\n",
              "      <td>-9.241808e+01</td>\n",
              "      <td>3.609799e+01</td>\n",
              "      <td>-9.241772e+01</td>\n",
              "      <td>2.440000e-01</td>\n",
              "      <td>4.007000e+03</td>\n",
              "      <td>6.400000e+01</td>\n",
              "      <td>6.300000e+01</td>\n",
              "      <td>6.700000e+01</td>\n",
              "      <td>2.982000e+01</td>\n",
              "      <td>1.000000e+01</td>\n",
              "      <td>7.000000e+00</td>\n",
              "      <td>0.000000e+00</td>\n",
              "    </tr>\n",
              "    <tr>\n",
              "      <th>75%</th>\n",
              "      <td>2.000000e+00</td>\n",
              "      <td>4.016024e+01</td>\n",
              "      <td>-8.037243e+01</td>\n",
              "      <td>4.016105e+01</td>\n",
              "      <td>-8.037338e+01</td>\n",
              "      <td>7.640000e-01</td>\n",
              "      <td>9.567000e+03</td>\n",
              "      <td>7.600000e+01</td>\n",
              "      <td>7.600000e+01</td>\n",
              "      <td>8.300000e+01</td>\n",
              "      <td>3.001000e+01</td>\n",
              "      <td>1.000000e+01</td>\n",
              "      <td>1.000000e+01</td>\n",
              "      <td>0.000000e+00</td>\n",
              "    </tr>\n",
              "    <tr>\n",
              "      <th>max</th>\n",
              "      <td>4.000000e+00</td>\n",
              "      <td>4.900058e+01</td>\n",
              "      <td>-6.711317e+01</td>\n",
              "      <td>4.907500e+01</td>\n",
              "      <td>-6.710924e+01</td>\n",
              "      <td>1.551860e+02</td>\n",
              "      <td>9.999997e+06</td>\n",
              "      <td>1.960000e+02</td>\n",
              "      <td>1.960000e+02</td>\n",
              "      <td>1.000000e+02</td>\n",
              "      <td>5.890000e+01</td>\n",
              "      <td>1.400000e+02</td>\n",
              "      <td>1.087000e+03</td>\n",
              "      <td>2.400000e+01</td>\n",
              "    </tr>\n",
              "  </tbody>\n",
              "</table>\n",
              "</div>\n",
              "      <button class=\"colab-df-convert\" onclick=\"convertToInteractive('df-7df558b6-911c-4bdc-b740-92c655bfc22d')\"\n",
              "              title=\"Convert this dataframe to an interactive table.\"\n",
              "              style=\"display:none;\">\n",
              "        \n",
              "  <svg xmlns=\"http://www.w3.org/2000/svg\" height=\"24px\"viewBox=\"0 0 24 24\"\n",
              "       width=\"24px\">\n",
              "    <path d=\"M0 0h24v24H0V0z\" fill=\"none\"/>\n",
              "    <path d=\"M18.56 5.44l.94 2.06.94-2.06 2.06-.94-2.06-.94-.94-2.06-.94 2.06-2.06.94zm-11 1L8.5 8.5l.94-2.06 2.06-.94-2.06-.94L8.5 2.5l-.94 2.06-2.06.94zm10 10l.94 2.06.94-2.06 2.06-.94-2.06-.94-.94-2.06-.94 2.06-2.06.94z\"/><path d=\"M17.41 7.96l-1.37-1.37c-.4-.4-.92-.59-1.43-.59-.52 0-1.04.2-1.43.59L10.3 9.45l-7.72 7.72c-.78.78-.78 2.05 0 2.83L4 21.41c.39.39.9.59 1.41.59.51 0 1.02-.2 1.41-.59l7.78-7.78 2.81-2.81c.8-.78.8-2.07 0-2.86zM5.41 20L4 18.59l7.72-7.72 1.47 1.35L5.41 20z\"/>\n",
              "  </svg>\n",
              "      </button>\n",
              "      \n",
              "  <style>\n",
              "    .colab-df-container {\n",
              "      display:flex;\n",
              "      flex-wrap:wrap;\n",
              "      gap: 12px;\n",
              "    }\n",
              "\n",
              "    .colab-df-convert {\n",
              "      background-color: #E8F0FE;\n",
              "      border: none;\n",
              "      border-radius: 50%;\n",
              "      cursor: pointer;\n",
              "      display: none;\n",
              "      fill: #1967D2;\n",
              "      height: 32px;\n",
              "      padding: 0 0 0 0;\n",
              "      width: 32px;\n",
              "    }\n",
              "\n",
              "    .colab-df-convert:hover {\n",
              "      background-color: #E2EBFA;\n",
              "      box-shadow: 0px 1px 2px rgba(60, 64, 67, 0.3), 0px 1px 3px 1px rgba(60, 64, 67, 0.15);\n",
              "      fill: #174EA6;\n",
              "    }\n",
              "\n",
              "    [theme=dark] .colab-df-convert {\n",
              "      background-color: #3B4455;\n",
              "      fill: #D2E3FC;\n",
              "    }\n",
              "\n",
              "    [theme=dark] .colab-df-convert:hover {\n",
              "      background-color: #434B5C;\n",
              "      box-shadow: 0px 1px 3px 1px rgba(0, 0, 0, 0.15);\n",
              "      filter: drop-shadow(0px 1px 2px rgba(0, 0, 0, 0.3));\n",
              "      fill: #FFFFFF;\n",
              "    }\n",
              "  </style>\n",
              "\n",
              "      <script>\n",
              "        const buttonEl =\n",
              "          document.querySelector('#df-7df558b6-911c-4bdc-b740-92c655bfc22d button.colab-df-convert');\n",
              "        buttonEl.style.display =\n",
              "          google.colab.kernel.accessAllowed ? 'block' : 'none';\n",
              "\n",
              "        async function convertToInteractive(key) {\n",
              "          const element = document.querySelector('#df-7df558b6-911c-4bdc-b740-92c655bfc22d');\n",
              "          const dataTable =\n",
              "            await google.colab.kernel.invokeFunction('convertToInteractive',\n",
              "                                                     [key], {});\n",
              "          if (!dataTable) return;\n",
              "\n",
              "          const docLinkHtml = 'Like what you see? Visit the ' +\n",
              "            '<a target=\"_blank\" href=https://colab.research.google.com/notebooks/data_table.ipynb>data table notebook</a>'\n",
              "            + ' to learn more about interactive tables.';\n",
              "          element.innerHTML = '';\n",
              "          dataTable['output_type'] = 'display_data';\n",
              "          await google.colab.output.renderOutput(dataTable, element);\n",
              "          const docLink = document.createElement('div');\n",
              "          docLink.innerHTML = docLinkHtml;\n",
              "          element.appendChild(docLink);\n",
              "        }\n",
              "      </script>\n",
              "    </div>\n",
              "  </div>\n",
              "  "
            ]
          },
          "metadata": {},
          "execution_count": 19
        }
      ],
      "source": [
        "df.describe()"
      ]
    },
    {
      "cell_type": "code",
      "execution_count": 20,
      "metadata": {
        "colab": {
          "base_uri": "https://localhost:8080/"
        },
        "id": "wNsw_ShJmCNM",
        "outputId": "28fc2b69-2acd-403f-fb2a-ae664c4ef495"
      },
      "outputs": [
        {
          "output_type": "execute_result",
          "data": {
            "text/plain": [
              "14"
            ]
          },
          "metadata": {},
          "execution_count": 20
        }
      ],
      "source": [
        "numerics = ['int16', 'int32', 'int64', 'float16', 'float32', 'float64']\n",
        "\n",
        "numeric_df = df.select_dtypes(include=numerics)\n",
        "len(numeric_df.columns)"
      ]
    },
    {
      "cell_type": "markdown",
      "metadata": {
        "id": "5nyx458N_jLz"
      },
      "source": [
        "Running the df.isna() converted everything into a boolean. It returned False for columns that do not have missing values; True otherwise."
      ]
    },
    {
      "cell_type": "code",
      "execution_count": 21,
      "metadata": {
        "colab": {
          "base_uri": "https://localhost:8080/",
          "height": 488
        },
        "id": "JKSrWtoimqr4",
        "outputId": "f48864b2-6b99-45c8-a287-aac4eef14f87"
      },
      "outputs": [
        {
          "output_type": "execute_result",
          "data": {
            "text/plain": [
              "            ID  Severity  Start_Time  End_Time  Start_Lat  Start_Lng  End_Lat  \\\n",
              "0        False     False       False     False      False      False    False   \n",
              "1        False     False       False     False      False      False    False   \n",
              "2        False     False       False     False      False      False    False   \n",
              "3        False     False       False     False      False      False    False   \n",
              "4        False     False       False     False      False      False    False   \n",
              "...        ...       ...         ...       ...        ...        ...      ...   \n",
              "2845337  False     False       False     False      False      False    False   \n",
              "2845338  False     False       False     False      False      False    False   \n",
              "2845339  False     False       False     False      False      False    False   \n",
              "2845340  False     False       False     False      False      False    False   \n",
              "2845341  False     False       False     False      False      False    False   \n",
              "\n",
              "         End_Lng  Distance(mi)  Description  ...  Roundabout  Station   Stop  \\\n",
              "0          False         False        False  ...       False    False  False   \n",
              "1          False         False        False  ...       False    False  False   \n",
              "2          False         False        False  ...       False    False  False   \n",
              "3          False         False        False  ...       False    False  False   \n",
              "4          False         False        False  ...       False    False  False   \n",
              "...          ...           ...          ...  ...         ...      ...    ...   \n",
              "2845337    False         False        False  ...       False    False  False   \n",
              "2845338    False         False        False  ...       False    False  False   \n",
              "2845339    False         False        False  ...       False    False  False   \n",
              "2845340    False         False        False  ...       False    False  False   \n",
              "2845341    False         False        False  ...       False    False  False   \n",
              "\n",
              "         Traffic_Calming  Traffic_Signal  Turning_Loop  Sunrise_Sunset  \\\n",
              "0                  False           False         False           False   \n",
              "1                  False           False         False           False   \n",
              "2                  False           False         False           False   \n",
              "3                  False           False         False           False   \n",
              "4                  False           False         False           False   \n",
              "...                  ...             ...           ...             ...   \n",
              "2845337            False           False         False           False   \n",
              "2845338            False           False         False           False   \n",
              "2845339            False           False         False           False   \n",
              "2845340            False           False         False           False   \n",
              "2845341            False           False         False           False   \n",
              "\n",
              "         Civil_Twilight  Nautical_Twilight  Astronomical_Twilight  \n",
              "0                 False              False                  False  \n",
              "1                 False              False                  False  \n",
              "2                 False              False                  False  \n",
              "3                 False              False                  False  \n",
              "4                 False              False                  False  \n",
              "...                 ...                ...                    ...  \n",
              "2845337           False              False                  False  \n",
              "2845338           False              False                  False  \n",
              "2845339           False              False                  False  \n",
              "2845340           False              False                  False  \n",
              "2845341           False              False                  False  \n",
              "\n",
              "[2845342 rows x 47 columns]"
            ],
            "text/html": [
              "\n",
              "  <div id=\"df-af74ddad-2161-4730-9335-3c208203a4e3\">\n",
              "    <div class=\"colab-df-container\">\n",
              "      <div>\n",
              "<style scoped>\n",
              "    .dataframe tbody tr th:only-of-type {\n",
              "        vertical-align: middle;\n",
              "    }\n",
              "\n",
              "    .dataframe tbody tr th {\n",
              "        vertical-align: top;\n",
              "    }\n",
              "\n",
              "    .dataframe thead th {\n",
              "        text-align: right;\n",
              "    }\n",
              "</style>\n",
              "<table border=\"1\" class=\"dataframe\">\n",
              "  <thead>\n",
              "    <tr style=\"text-align: right;\">\n",
              "      <th></th>\n",
              "      <th>ID</th>\n",
              "      <th>Severity</th>\n",
              "      <th>Start_Time</th>\n",
              "      <th>End_Time</th>\n",
              "      <th>Start_Lat</th>\n",
              "      <th>Start_Lng</th>\n",
              "      <th>End_Lat</th>\n",
              "      <th>End_Lng</th>\n",
              "      <th>Distance(mi)</th>\n",
              "      <th>Description</th>\n",
              "      <th>...</th>\n",
              "      <th>Roundabout</th>\n",
              "      <th>Station</th>\n",
              "      <th>Stop</th>\n",
              "      <th>Traffic_Calming</th>\n",
              "      <th>Traffic_Signal</th>\n",
              "      <th>Turning_Loop</th>\n",
              "      <th>Sunrise_Sunset</th>\n",
              "      <th>Civil_Twilight</th>\n",
              "      <th>Nautical_Twilight</th>\n",
              "      <th>Astronomical_Twilight</th>\n",
              "    </tr>\n",
              "  </thead>\n",
              "  <tbody>\n",
              "    <tr>\n",
              "      <th>0</th>\n",
              "      <td>False</td>\n",
              "      <td>False</td>\n",
              "      <td>False</td>\n",
              "      <td>False</td>\n",
              "      <td>False</td>\n",
              "      <td>False</td>\n",
              "      <td>False</td>\n",
              "      <td>False</td>\n",
              "      <td>False</td>\n",
              "      <td>False</td>\n",
              "      <td>...</td>\n",
              "      <td>False</td>\n",
              "      <td>False</td>\n",
              "      <td>False</td>\n",
              "      <td>False</td>\n",
              "      <td>False</td>\n",
              "      <td>False</td>\n",
              "      <td>False</td>\n",
              "      <td>False</td>\n",
              "      <td>False</td>\n",
              "      <td>False</td>\n",
              "    </tr>\n",
              "    <tr>\n",
              "      <th>1</th>\n",
              "      <td>False</td>\n",
              "      <td>False</td>\n",
              "      <td>False</td>\n",
              "      <td>False</td>\n",
              "      <td>False</td>\n",
              "      <td>False</td>\n",
              "      <td>False</td>\n",
              "      <td>False</td>\n",
              "      <td>False</td>\n",
              "      <td>False</td>\n",
              "      <td>...</td>\n",
              "      <td>False</td>\n",
              "      <td>False</td>\n",
              "      <td>False</td>\n",
              "      <td>False</td>\n",
              "      <td>False</td>\n",
              "      <td>False</td>\n",
              "      <td>False</td>\n",
              "      <td>False</td>\n",
              "      <td>False</td>\n",
              "      <td>False</td>\n",
              "    </tr>\n",
              "    <tr>\n",
              "      <th>2</th>\n",
              "      <td>False</td>\n",
              "      <td>False</td>\n",
              "      <td>False</td>\n",
              "      <td>False</td>\n",
              "      <td>False</td>\n",
              "      <td>False</td>\n",
              "      <td>False</td>\n",
              "      <td>False</td>\n",
              "      <td>False</td>\n",
              "      <td>False</td>\n",
              "      <td>...</td>\n",
              "      <td>False</td>\n",
              "      <td>False</td>\n",
              "      <td>False</td>\n",
              "      <td>False</td>\n",
              "      <td>False</td>\n",
              "      <td>False</td>\n",
              "      <td>False</td>\n",
              "      <td>False</td>\n",
              "      <td>False</td>\n",
              "      <td>False</td>\n",
              "    </tr>\n",
              "    <tr>\n",
              "      <th>3</th>\n",
              "      <td>False</td>\n",
              "      <td>False</td>\n",
              "      <td>False</td>\n",
              "      <td>False</td>\n",
              "      <td>False</td>\n",
              "      <td>False</td>\n",
              "      <td>False</td>\n",
              "      <td>False</td>\n",
              "      <td>False</td>\n",
              "      <td>False</td>\n",
              "      <td>...</td>\n",
              "      <td>False</td>\n",
              "      <td>False</td>\n",
              "      <td>False</td>\n",
              "      <td>False</td>\n",
              "      <td>False</td>\n",
              "      <td>False</td>\n",
              "      <td>False</td>\n",
              "      <td>False</td>\n",
              "      <td>False</td>\n",
              "      <td>False</td>\n",
              "    </tr>\n",
              "    <tr>\n",
              "      <th>4</th>\n",
              "      <td>False</td>\n",
              "      <td>False</td>\n",
              "      <td>False</td>\n",
              "      <td>False</td>\n",
              "      <td>False</td>\n",
              "      <td>False</td>\n",
              "      <td>False</td>\n",
              "      <td>False</td>\n",
              "      <td>False</td>\n",
              "      <td>False</td>\n",
              "      <td>...</td>\n",
              "      <td>False</td>\n",
              "      <td>False</td>\n",
              "      <td>False</td>\n",
              "      <td>False</td>\n",
              "      <td>False</td>\n",
              "      <td>False</td>\n",
              "      <td>False</td>\n",
              "      <td>False</td>\n",
              "      <td>False</td>\n",
              "      <td>False</td>\n",
              "    </tr>\n",
              "    <tr>\n",
              "      <th>...</th>\n",
              "      <td>...</td>\n",
              "      <td>...</td>\n",
              "      <td>...</td>\n",
              "      <td>...</td>\n",
              "      <td>...</td>\n",
              "      <td>...</td>\n",
              "      <td>...</td>\n",
              "      <td>...</td>\n",
              "      <td>...</td>\n",
              "      <td>...</td>\n",
              "      <td>...</td>\n",
              "      <td>...</td>\n",
              "      <td>...</td>\n",
              "      <td>...</td>\n",
              "      <td>...</td>\n",
              "      <td>...</td>\n",
              "      <td>...</td>\n",
              "      <td>...</td>\n",
              "      <td>...</td>\n",
              "      <td>...</td>\n",
              "      <td>...</td>\n",
              "    </tr>\n",
              "    <tr>\n",
              "      <th>2845337</th>\n",
              "      <td>False</td>\n",
              "      <td>False</td>\n",
              "      <td>False</td>\n",
              "      <td>False</td>\n",
              "      <td>False</td>\n",
              "      <td>False</td>\n",
              "      <td>False</td>\n",
              "      <td>False</td>\n",
              "      <td>False</td>\n",
              "      <td>False</td>\n",
              "      <td>...</td>\n",
              "      <td>False</td>\n",
              "      <td>False</td>\n",
              "      <td>False</td>\n",
              "      <td>False</td>\n",
              "      <td>False</td>\n",
              "      <td>False</td>\n",
              "      <td>False</td>\n",
              "      <td>False</td>\n",
              "      <td>False</td>\n",
              "      <td>False</td>\n",
              "    </tr>\n",
              "    <tr>\n",
              "      <th>2845338</th>\n",
              "      <td>False</td>\n",
              "      <td>False</td>\n",
              "      <td>False</td>\n",
              "      <td>False</td>\n",
              "      <td>False</td>\n",
              "      <td>False</td>\n",
              "      <td>False</td>\n",
              "      <td>False</td>\n",
              "      <td>False</td>\n",
              "      <td>False</td>\n",
              "      <td>...</td>\n",
              "      <td>False</td>\n",
              "      <td>False</td>\n",
              "      <td>False</td>\n",
              "      <td>False</td>\n",
              "      <td>False</td>\n",
              "      <td>False</td>\n",
              "      <td>False</td>\n",
              "      <td>False</td>\n",
              "      <td>False</td>\n",
              "      <td>False</td>\n",
              "    </tr>\n",
              "    <tr>\n",
              "      <th>2845339</th>\n",
              "      <td>False</td>\n",
              "      <td>False</td>\n",
              "      <td>False</td>\n",
              "      <td>False</td>\n",
              "      <td>False</td>\n",
              "      <td>False</td>\n",
              "      <td>False</td>\n",
              "      <td>False</td>\n",
              "      <td>False</td>\n",
              "      <td>False</td>\n",
              "      <td>...</td>\n",
              "      <td>False</td>\n",
              "      <td>False</td>\n",
              "      <td>False</td>\n",
              "      <td>False</td>\n",
              "      <td>False</td>\n",
              "      <td>False</td>\n",
              "      <td>False</td>\n",
              "      <td>False</td>\n",
              "      <td>False</td>\n",
              "      <td>False</td>\n",
              "    </tr>\n",
              "    <tr>\n",
              "      <th>2845340</th>\n",
              "      <td>False</td>\n",
              "      <td>False</td>\n",
              "      <td>False</td>\n",
              "      <td>False</td>\n",
              "      <td>False</td>\n",
              "      <td>False</td>\n",
              "      <td>False</td>\n",
              "      <td>False</td>\n",
              "      <td>False</td>\n",
              "      <td>False</td>\n",
              "      <td>...</td>\n",
              "      <td>False</td>\n",
              "      <td>False</td>\n",
              "      <td>False</td>\n",
              "      <td>False</td>\n",
              "      <td>False</td>\n",
              "      <td>False</td>\n",
              "      <td>False</td>\n",
              "      <td>False</td>\n",
              "      <td>False</td>\n",
              "      <td>False</td>\n",
              "    </tr>\n",
              "    <tr>\n",
              "      <th>2845341</th>\n",
              "      <td>False</td>\n",
              "      <td>False</td>\n",
              "      <td>False</td>\n",
              "      <td>False</td>\n",
              "      <td>False</td>\n",
              "      <td>False</td>\n",
              "      <td>False</td>\n",
              "      <td>False</td>\n",
              "      <td>False</td>\n",
              "      <td>False</td>\n",
              "      <td>...</td>\n",
              "      <td>False</td>\n",
              "      <td>False</td>\n",
              "      <td>False</td>\n",
              "      <td>False</td>\n",
              "      <td>False</td>\n",
              "      <td>False</td>\n",
              "      <td>False</td>\n",
              "      <td>False</td>\n",
              "      <td>False</td>\n",
              "      <td>False</td>\n",
              "    </tr>\n",
              "  </tbody>\n",
              "</table>\n",
              "<p>2845342 rows × 47 columns</p>\n",
              "</div>\n",
              "      <button class=\"colab-df-convert\" onclick=\"convertToInteractive('df-af74ddad-2161-4730-9335-3c208203a4e3')\"\n",
              "              title=\"Convert this dataframe to an interactive table.\"\n",
              "              style=\"display:none;\">\n",
              "        \n",
              "  <svg xmlns=\"http://www.w3.org/2000/svg\" height=\"24px\"viewBox=\"0 0 24 24\"\n",
              "       width=\"24px\">\n",
              "    <path d=\"M0 0h24v24H0V0z\" fill=\"none\"/>\n",
              "    <path d=\"M18.56 5.44l.94 2.06.94-2.06 2.06-.94-2.06-.94-.94-2.06-.94 2.06-2.06.94zm-11 1L8.5 8.5l.94-2.06 2.06-.94-2.06-.94L8.5 2.5l-.94 2.06-2.06.94zm10 10l.94 2.06.94-2.06 2.06-.94-2.06-.94-.94-2.06-.94 2.06-2.06.94z\"/><path d=\"M17.41 7.96l-1.37-1.37c-.4-.4-.92-.59-1.43-.59-.52 0-1.04.2-1.43.59L10.3 9.45l-7.72 7.72c-.78.78-.78 2.05 0 2.83L4 21.41c.39.39.9.59 1.41.59.51 0 1.02-.2 1.41-.59l7.78-7.78 2.81-2.81c.8-.78.8-2.07 0-2.86zM5.41 20L4 18.59l7.72-7.72 1.47 1.35L5.41 20z\"/>\n",
              "  </svg>\n",
              "      </button>\n",
              "      \n",
              "  <style>\n",
              "    .colab-df-container {\n",
              "      display:flex;\n",
              "      flex-wrap:wrap;\n",
              "      gap: 12px;\n",
              "    }\n",
              "\n",
              "    .colab-df-convert {\n",
              "      background-color: #E8F0FE;\n",
              "      border: none;\n",
              "      border-radius: 50%;\n",
              "      cursor: pointer;\n",
              "      display: none;\n",
              "      fill: #1967D2;\n",
              "      height: 32px;\n",
              "      padding: 0 0 0 0;\n",
              "      width: 32px;\n",
              "    }\n",
              "\n",
              "    .colab-df-convert:hover {\n",
              "      background-color: #E2EBFA;\n",
              "      box-shadow: 0px 1px 2px rgba(60, 64, 67, 0.3), 0px 1px 3px 1px rgba(60, 64, 67, 0.15);\n",
              "      fill: #174EA6;\n",
              "    }\n",
              "\n",
              "    [theme=dark] .colab-df-convert {\n",
              "      background-color: #3B4455;\n",
              "      fill: #D2E3FC;\n",
              "    }\n",
              "\n",
              "    [theme=dark] .colab-df-convert:hover {\n",
              "      background-color: #434B5C;\n",
              "      box-shadow: 0px 1px 3px 1px rgba(0, 0, 0, 0.15);\n",
              "      filter: drop-shadow(0px 1px 2px rgba(0, 0, 0, 0.3));\n",
              "      fill: #FFFFFF;\n",
              "    }\n",
              "  </style>\n",
              "\n",
              "      <script>\n",
              "        const buttonEl =\n",
              "          document.querySelector('#df-af74ddad-2161-4730-9335-3c208203a4e3 button.colab-df-convert');\n",
              "        buttonEl.style.display =\n",
              "          google.colab.kernel.accessAllowed ? 'block' : 'none';\n",
              "\n",
              "        async function convertToInteractive(key) {\n",
              "          const element = document.querySelector('#df-af74ddad-2161-4730-9335-3c208203a4e3');\n",
              "          const dataTable =\n",
              "            await google.colab.kernel.invokeFunction('convertToInteractive',\n",
              "                                                     [key], {});\n",
              "          if (!dataTable) return;\n",
              "\n",
              "          const docLinkHtml = 'Like what you see? Visit the ' +\n",
              "            '<a target=\"_blank\" href=https://colab.research.google.com/notebooks/data_table.ipynb>data table notebook</a>'\n",
              "            + ' to learn more about interactive tables.';\n",
              "          element.innerHTML = '';\n",
              "          dataTable['output_type'] = 'display_data';\n",
              "          await google.colab.output.renderOutput(dataTable, element);\n",
              "          const docLink = document.createElement('div');\n",
              "          docLink.innerHTML = docLinkHtml;\n",
              "          element.appendChild(docLink);\n",
              "        }\n",
              "      </script>\n",
              "    </div>\n",
              "  </div>\n",
              "  "
            ]
          },
          "metadata": {},
          "execution_count": 21
        }
      ],
      "source": [
        "df.isna()"
      ]
    },
    {
      "cell_type": "markdown",
      "metadata": {
        "id": "6zJ3B-DAnE-2"
      },
      "source": [
        "Percentage of missing values per column"
      ]
    },
    {
      "cell_type": "code",
      "execution_count": 22,
      "metadata": {
        "colab": {
          "base_uri": "https://localhost:8080/"
        },
        "id": "n25wjlPhmzU1",
        "outputId": "a1163934-0966-43ef-986a-694c75b127a4"
      },
      "outputs": [
        {
          "output_type": "execute_result",
          "data": {
            "text/plain": [
              "ID                             0\n",
              "Crossing                       0\n",
              "Give_Way                       0\n",
              "Junction                       0\n",
              "No_Exit                        0\n",
              "Railway                        0\n",
              "Roundabout                     0\n",
              "Station                        0\n",
              "Stop                           0\n",
              "Traffic_Calming                0\n",
              "Traffic_Signal                 0\n",
              "Turning_Loop                   0\n",
              "Country                        0\n",
              "Amenity                        0\n",
              "State                          0\n",
              "End_Lng                        0\n",
              "Severity                       0\n",
              "Start_Time                     0\n",
              "End_Time                       0\n",
              "Start_Lat                      0\n",
              "Start_Lng                      0\n",
              "End_Lat                        0\n",
              "County                         0\n",
              "Bump                           0\n",
              "Description                    0\n",
              "Side                           0\n",
              "Distance(mi)                   0\n",
              "Street                         2\n",
              "City                         137\n",
              "Zipcode                     1319\n",
              "Civil_Twilight              2867\n",
              "Sunrise_Sunset              2867\n",
              "Astronomical_Twilight       2867\n",
              "Nautical_Twilight           2867\n",
              "Timezone                    3659\n",
              "Airport_Code                9549\n",
              "Weather_Timestamp          50736\n",
              "Pressure(in)               59200\n",
              "Temperature(F)             69274\n",
              "Visibility(mi)             70546\n",
              "Weather_Condition          70636\n",
              "Humidity(%)                73092\n",
              "Wind_Direction             73775\n",
              "Wind_Speed(mph)           157944\n",
              "Wind_Chill(F)             469643\n",
              "Precipitation(in)         549458\n",
              "Number                   1743911\n",
              "dtype: int64"
            ]
          },
          "metadata": {},
          "execution_count": 22
        }
      ],
      "source": [
        "df.isna().sum().sort_values()"
      ]
    },
    {
      "cell_type": "code",
      "execution_count": 23,
      "metadata": {
        "colab": {
          "base_uri": "https://localhost:8080/"
        },
        "id": "Ot4Y3O8Enavf",
        "outputId": "1728f5b8-55cd-4265-db58-ef59bd33176e"
      },
      "outputs": [
        {
          "output_type": "execute_result",
          "data": {
            "text/plain": [
              "Number                   6.129003e-01\n",
              "Precipitation(in)        1.931079e-01\n",
              "Wind_Chill(F)            1.650568e-01\n",
              "Wind_Speed(mph)          5.550967e-02\n",
              "Wind_Direction           2.592834e-02\n",
              "Humidity(%)              2.568830e-02\n",
              "Weather_Condition        2.482514e-02\n",
              "Visibility(mi)           2.479350e-02\n",
              "Temperature(F)           2.434646e-02\n",
              "Pressure(in)             2.080593e-02\n",
              "Weather_Timestamp        1.783125e-02\n",
              "Airport_Code             3.356011e-03\n",
              "Timezone                 1.285961e-03\n",
              "Nautical_Twilight        1.007612e-03\n",
              "Civil_Twilight           1.007612e-03\n",
              "Sunrise_Sunset           1.007612e-03\n",
              "Astronomical_Twilight    1.007612e-03\n",
              "Zipcode                  4.635647e-04\n",
              "City                     4.814887e-05\n",
              "Street                   7.029032e-07\n",
              "Country                  0.000000e+00\n",
              "Junction                 0.000000e+00\n",
              "Start_Time               0.000000e+00\n",
              "End_Time                 0.000000e+00\n",
              "Start_Lat                0.000000e+00\n",
              "Turning_Loop             0.000000e+00\n",
              "Traffic_Signal           0.000000e+00\n",
              "Traffic_Calming          0.000000e+00\n",
              "Stop                     0.000000e+00\n",
              "Station                  0.000000e+00\n",
              "Roundabout               0.000000e+00\n",
              "Railway                  0.000000e+00\n",
              "No_Exit                  0.000000e+00\n",
              "Crossing                 0.000000e+00\n",
              "Give_Way                 0.000000e+00\n",
              "Bump                     0.000000e+00\n",
              "Amenity                  0.000000e+00\n",
              "Start_Lng                0.000000e+00\n",
              "End_Lat                  0.000000e+00\n",
              "End_Lng                  0.000000e+00\n",
              "Distance(mi)             0.000000e+00\n",
              "Description              0.000000e+00\n",
              "Severity                 0.000000e+00\n",
              "Side                     0.000000e+00\n",
              "County                   0.000000e+00\n",
              "State                    0.000000e+00\n",
              "ID                       0.000000e+00\n",
              "dtype: float64"
            ]
          },
          "metadata": {},
          "execution_count": 23
        }
      ],
      "source": [
        "missing_percentages = df.isna().sum().sort_values(ascending=False) / len(df) \n",
        "missing_percentages"
      ]
    },
    {
      "cell_type": "code",
      "execution_count": 24,
      "metadata": {
        "colab": {
          "base_uri": "https://localhost:8080/"
        },
        "id": "9Q6Mcsxw567m",
        "outputId": "d1bc75b5-1645-4459-da2d-df60eaca6ae6"
      },
      "outputs": [
        {
          "output_type": "execute_result",
          "data": {
            "text/plain": [
              "Number                   6.129003e-01\n",
              "Precipitation(in)        1.931079e-01\n",
              "Wind_Chill(F)            1.650568e-01\n",
              "Wind_Speed(mph)          5.550967e-02\n",
              "Wind_Direction           2.592834e-02\n",
              "Humidity(%)              2.568830e-02\n",
              "Weather_Condition        2.482514e-02\n",
              "Visibility(mi)           2.479350e-02\n",
              "Temperature(F)           2.434646e-02\n",
              "Pressure(in)             2.080593e-02\n",
              "Weather_Timestamp        1.783125e-02\n",
              "Airport_Code             3.356011e-03\n",
              "Timezone                 1.285961e-03\n",
              "Nautical_Twilight        1.007612e-03\n",
              "Civil_Twilight           1.007612e-03\n",
              "Sunrise_Sunset           1.007612e-03\n",
              "Astronomical_Twilight    1.007612e-03\n",
              "Zipcode                  4.635647e-04\n",
              "City                     4.814887e-05\n",
              "Street                   7.029032e-07\n",
              "dtype: float64"
            ]
          },
          "metadata": {},
          "execution_count": 24
        }
      ],
      "source": [
        "missing_percentages[missing_percentages != 0]"
      ]
    },
    {
      "cell_type": "code",
      "execution_count": 25,
      "metadata": {
        "colab": {
          "base_uri": "https://localhost:8080/"
        },
        "id": "ox9HFqwwoSWr",
        "outputId": "ae6b0221-af68-43b9-fdad-b6b8af01c2d4"
      },
      "outputs": [
        {
          "output_type": "execute_result",
          "data": {
            "text/plain": [
              "pandas.core.series.Series"
            ]
          },
          "metadata": {},
          "execution_count": 25
        }
      ],
      "source": [
        "type(missing_percentages)"
      ]
    },
    {
      "cell_type": "code",
      "execution_count": 26,
      "metadata": {
        "colab": {
          "base_uri": "https://localhost:8080/",
          "height": 282
        },
        "id": "sc5zja1loLgf",
        "outputId": "7ea3dabd-9f63-4689-ba4d-f5a1bf90f0b1"
      },
      "outputs": [
        {
          "output_type": "execute_result",
          "data": {
            "text/plain": [
              "<Axes: >"
            ]
          },
          "metadata": {},
          "execution_count": 26
        },
        {
          "output_type": "display_data",
          "data": {
            "text/plain": [
              "<Figure size 432x288 with 1 Axes>"
            ],
            "image/png": "[encoded data removed]"
          },
          "metadata": {
            "needs_background": "light"
          }
        }
      ],
      "source": [
        "missing_percentages[missing_percentages != 0].plot(kind='barh')"
      ]
    },
    {
      "cell_type": "markdown",
      "metadata": {
        "id": "M5EfDrMX8WnQ"
      },
      "source": [
        "The columns ‘Number’, ‘Precipitation(in)’ and ‘Wind_Chill(F)’ have the most missing values (15–60% of the data). "
      ]
    },
    {
      "cell_type": "markdown",
      "metadata": {
        "id": "5DkfLG9Gkq9y"
      },
      "source": [
        "## Exploratory Analysis and Visualization\n",
        "\n",
        "Columns we analyzed:\n",
        "\n",
        "1. City\n",
        "2. Start Time\n",
        "3. Start Lat, Start Lng\n",
        "4. Temperature\n",
        "5. Weather Condition\n"
      ]
    },
    {
      "cell_type": "code",
      "execution_count": 27,
      "metadata": {
        "colab": {
          "base_uri": "https://localhost:8080/"
        },
        "id": "Px1moK7z8pvY",
        "outputId": "38e50a45-265c-42c7-a1a8-6b706dc02801"
      },
      "outputs": [
        {
          "output_type": "execute_result",
          "data": {
            "text/plain": [
              "Index(['ID', 'Severity', 'Start_Time', 'End_Time', 'Start_Lat', 'Start_Lng',\n",
              "       'End_Lat', 'End_Lng', 'Distance(mi)', 'Description', 'Number', 'Street',\n",
              "       'Side', 'City', 'County', 'State', 'Zipcode', 'Country', 'Timezone',\n",
              "       'Airport_Code', 'Weather_Timestamp', 'Temperature(F)', 'Wind_Chill(F)',\n",
              "       'Humidity(%)', 'Pressure(in)', 'Visibility(mi)', 'Wind_Direction',\n",
              "       'Wind_Speed(mph)', 'Precipitation(in)', 'Weather_Condition', 'Amenity',\n",
              "       'Bump', 'Crossing', 'Give_Way', 'Junction', 'No_Exit', 'Railway',\n",
              "       'Roundabout', 'Station', 'Stop', 'Traffic_Calming', 'Traffic_Signal',\n",
              "       'Turning_Loop', 'Sunrise_Sunset', 'Civil_Twilight', 'Nautical_Twilight',\n",
              "       'Astronomical_Twilight'],\n",
              "      dtype='object')"
            ]
          },
          "metadata": {},
          "execution_count": 27
        }
      ],
      "source": [
        "df.columns\n"
      ]
    },
    {
      "cell_type": "markdown",
      "metadata": {
        "id": "iMSS9TmfH3c9"
      },
      "source": [
        "###City"
      ]
    },
    {
      "cell_type": "code",
      "execution_count": 28,
      "metadata": {
        "colab": {
          "base_uri": "https://localhost:8080/"
        },
        "id": "JCjgzu6R9rpM",
        "outputId": "a6360bfc-905f-406c-bd8e-81236f1843eb"
      },
      "outputs": [
        {
          "output_type": "execute_result",
          "data": {
            "text/plain": [
              "0               Dublin\n",
              "1               Dayton\n",
              "2           Cincinnati\n",
              "3                Akron\n",
              "4           Cincinnati\n",
              "              ...     \n",
              "2845337      Riverside\n",
              "2845338      San Diego\n",
              "2845339         Orange\n",
              "2845340    Culver City\n",
              "2845341       Highland\n",
              "Name: City, Length: 2845342, dtype: object"
            ]
          },
          "metadata": {},
          "execution_count": 28
        }
      ],
      "source": [
        "df.City"
      ]
    },
    {
      "cell_type": "code",
      "execution_count": 29,
      "metadata": {
        "colab": {
          "base_uri": "https://localhost:8080/"
        },
        "id": "Q00c4KaB9wEi",
        "outputId": "68dcf5af-0d6b-40b7-f29c-bde640f733d0"
      },
      "outputs": [
        {
          "output_type": "execute_result",
          "data": {
            "text/plain": [
              "11682"
            ]
          },
          "metadata": {},
          "execution_count": 29
        }
      ],
      "source": [
        "cities = df.City.unique()\n",
        "len(cities)"
      ]
    },
    {
      "cell_type": "code",
      "execution_count": 30,
      "metadata": {
        "colab": {
          "base_uri": "https://localhost:8080/"
        },
        "id": "nJJaqsRm-Vs6",
        "outputId": "5b07abf1-2cdc-404a-9aac-514268a4885c"
      },
      "outputs": [
        {
          "output_type": "execute_result",
          "data": {
            "text/plain": [
              "Miami                           106966\n",
              "Los Angeles                      68956\n",
              "Orlando                          54691\n",
              "Dallas                           41979\n",
              "Houston                          39448\n",
              "                                 ...  \n",
              "Ridgedale                            1\n",
              "Sekiu                                1\n",
              "Wooldridge                           1\n",
              "Bullock                              1\n",
              "American Fork-Pleasant Grove         1\n",
              "Name: City, Length: 11681, dtype: int64"
            ]
          },
          "metadata": {},
          "execution_count": 30
        }
      ],
      "source": [
        "cities_by_accident = df.City.value_counts()\n",
        "cities_by_accident"
      ]
    },
    {
      "cell_type": "code",
      "execution_count": 31,
      "metadata": {
        "colab": {
          "base_uri": "https://localhost:8080/"
        },
        "id": "dUy18-BU_Bhk",
        "outputId": "3f0cd096-974d-4fea-9961-c3d1964ffc01"
      },
      "outputs": [
        {
          "output_type": "execute_result",
          "data": {
            "text/plain": [
              "Miami           106966\n",
              "Los Angeles      68956\n",
              "Orlando          54691\n",
              "Dallas           41979\n",
              "Houston          39448\n",
              "Charlotte        33152\n",
              "Sacramento       32559\n",
              "San Diego        26627\n",
              "Raleigh          22840\n",
              "Minneapolis      22768\n",
              "Portland         20944\n",
              "Nashville        20267\n",
              "Austin           18301\n",
              "Baton Rouge      18182\n",
              "Phoenix          17143\n",
              "Saint Paul       16869\n",
              "New Orleans      16251\n",
              "Atlanta          15622\n",
              "Jacksonville     14967\n",
              "Richmond         14349\n",
              "Name: City, dtype: int64"
            ]
          },
          "metadata": {},
          "execution_count": 31
        }
      ],
      "source": [
        "cities_by_accident[:20]"
      ]
    },
    {
      "cell_type": "code",
      "execution_count": 32,
      "metadata": {
        "colab": {
          "base_uri": "https://localhost:8080/"
        },
        "id": "HWNnBRpgCmyP",
        "outputId": "b10c4428-6304-4dec-9d6a-edca627fcd1b"
      },
      "outputs": [
        {
          "output_type": "execute_result",
          "data": {
            "text/plain": [
              "pandas.core.series.Series"
            ]
          },
          "metadata": {},
          "execution_count": 32
        }
      ],
      "source": [
        "type(cities_by_accident)"
      ]
    },
    {
      "cell_type": "code",
      "execution_count": 33,
      "metadata": {
        "colab": {
          "base_uri": "https://localhost:8080/",
          "height": 282
        },
        "id": "CQd1HyvAAtsV",
        "outputId": "de288d3e-46c3-480a-9ddf-2c4560dec88a"
      },
      "outputs": [
        {
          "output_type": "execute_result",
          "data": {
            "text/plain": [
              "<Axes: >"
            ]
          },
          "metadata": {},
          "execution_count": 33
        },
        {
          "output_type": "display_data",
          "data": {
            "text/plain": [
              "<Figure size 432x288 with 1 Axes>"
            ],
            "image/png": "[encoded data removed]"
          },
          "metadata": {
            "needs_background": "light"
          }
        }
      ],
      "source": [
        "cities_by_accident[:20].plot(kind = 'barh')"
      ]
    },
    {
      "cell_type": "markdown",
      "metadata": {
        "id": "_2JAVgtPFPer"
      },
      "source": [
        "TOP 20 Cities by the number of ACCIDENTS"
      ]
    },
    {
      "cell_type": "code",
      "execution_count": 34,
      "metadata": {
        "id": "ij6KKZFUB1Nf"
      },
      "outputs": [],
      "source": [
        "import seaborn as sns\n",
        "sns.set_style('darkgrid')"
      ]
    },
    {
      "cell_type": "code",
      "execution_count": 35,
      "metadata": {
        "colab": {
          "base_uri": "https://localhost:8080/",
          "height": 300
        },
        "id": "WB7m4V7OFHa-",
        "outputId": "b181b641-8d2e-4147-e737-1b4fb30388e0"
      },
      "outputs": [
        {
          "output_type": "execute_result",
          "data": {
            "text/plain": [
              "<Axes: xlabel='City', ylabel='Count'>"
            ]
          },
          "metadata": {},
          "execution_count": 35
        },
        {
          "output_type": "display_data",
          "data": {
            "text/plain": [
              "<Figure size 432x288 with 1 Axes>"
            ],
            "image/png": "[encoded data removed]"
          },
          "metadata": {}
        }
      ],
      "source": [
        "sns.histplot(cities_by_accident, log_scale= True)"
      ]
    },
    {
      "cell_type": "markdown",
      "metadata": {
        "id": "zZ_gpuUOF_Zy"
      },
      "source": [
        "DISTRIBUTION OF CITIES BY THE NUMBER OF ACCIDENTS"
      ]
    },
    {
      "cell_type": "markdown",
      "metadata": {
        "id": "SaNQkOnPGQ-I"
      },
      "source": [
        "Over 1000 cities have reported only one accident during the entire period. This could either be very good news or it could be a result of missing data."
      ]
    },
    {
      "cell_type": "markdown",
      "metadata": {
        "id": "XYa8F__BH4o-"
      },
      "source": [
        "\n",
        "\n",
        "*  High accident cities where the number of accidents is greater and equal to 1000\n",
        "*   Low accident cities where the number is less than 1000.\n",
        "\n"
      ]
    },
    {
      "cell_type": "code",
      "execution_count": 36,
      "metadata": {
        "id": "zVZx8KBoDRNT"
      },
      "outputs": [],
      "source": [
        "high_accident_cities = cities_by_accident[cities_by_accident >= 1000]\n",
        "low_accident_cities = cities_by_accident[cities_by_accident < 1000]"
      ]
    },
    {
      "cell_type": "code",
      "execution_count": 37,
      "metadata": {
        "colab": {
          "base_uri": "https://localhost:8080/"
        },
        "id": "dubqzAqQDwMM",
        "outputId": "ac508390-8981-43f5-f1a2-23224e555580"
      },
      "outputs": [
        {
          "output_type": "execute_result",
          "data": {
            "text/plain": [
              "0.04245848313644924"
            ]
          },
          "metadata": {},
          "execution_count": 37
        }
      ],
      "source": [
        "len(high_accident_cities) / len(cities)"
      ]
    },
    {
      "cell_type": "markdown",
      "metadata": {
        "id": "3299dBu2IE9w"
      },
      "source": [
        "4.24% of the total number of cities have an accident number greater than 1000."
      ]
    },
    {
      "cell_type": "code",
      "execution_count": 38,
      "metadata": {
        "colab": {
          "base_uri": "https://localhost:8080/",
          "height": 300
        },
        "id": "gXjLtPktEWjC",
        "outputId": "98cf185f-4d80-4958-e779-e5005577eded"
      },
      "outputs": [
        {
          "output_type": "execute_result",
          "data": {
            "text/plain": [
              "<Axes: xlabel='City', ylabel='Count'>"
            ]
          },
          "metadata": {},
          "execution_count": 38
        },
        {
          "output_type": "display_data",
          "data": {
            "text/plain": [
              "<Figure size 432x288 with 1 Axes>"
            ],
            "image/png": "[encoded data removed]"
          },
          "metadata": {}
        }
      ],
      "source": [
        "sns.histplot(high_accident_cities, log_scale=True)"
      ]
    },
    {
      "cell_type": "markdown",
      "metadata": {
        "id": "8tkFplkSIRpQ"
      },
      "source": [
        "Distribution of cities with accidents ≥1000"
      ]
    },
    {
      "cell_type": "markdown",
      "metadata": {
        "id": "x-87ScaDKEMR"
      },
      "source": [
        "Less than 100 cities (out of 11,682) reported more than 1000 accidents during the period between February 2016 and December 2021. \n",
        "Similarly, the cities with the low number of accidents are picturized as-"
      ]
    },
    {
      "cell_type": "code",
      "execution_count": 39,
      "metadata": {
        "colab": {
          "base_uri": "https://localhost:8080/",
          "height": 300
        },
        "id": "JvAxNtHbEllN",
        "outputId": "80c5cb17-3505-42f8-d939-5130cf62a3e5"
      },
      "outputs": [
        {
          "output_type": "execute_result",
          "data": {
            "text/plain": [
              "<Axes: xlabel='City', ylabel='Count'>"
            ]
          },
          "metadata": {},
          "execution_count": 39
        },
        {
          "output_type": "display_data",
          "data": {
            "text/plain": [
              "<Figure size 432x288 with 1 Axes>"
            ],
            "image/png": "[encoded data removed]"
          },
          "metadata": {}
        }
      ],
      "source": [
        "sns.histplot(low_accident_cities, log_scale = True)"
      ]
    },
    {
      "cell_type": "markdown",
      "metadata": {
        "id": "AFvsJRt4nbMn"
      },
      "source": [
        "Distribution of cities having <1000 accidents"
      ]
    },
    {
      "cell_type": "markdown",
      "metadata": {
        "id": "CK4DS2RinFlN"
      },
      "source": [
        "\n",
        "\n",
        "*   Over 1200 cities have had just one accident in 4years- needs further investigation.\n",
        "*  The majority of them have witnessed between 10–100 accidents during the period.\n",
        "*   Accidents by cities follow an exponentially decreasing distribution.\n",
        "\n",
        "\n",
        "\n"
      ]
    },
    {
      "cell_type": "code",
      "execution_count": 40,
      "metadata": {
        "colab": {
          "base_uri": "https://localhost:8080/"
        },
        "id": "_jZnPc9A_h1i",
        "outputId": "521208f0-7b0c-4ff1-9571-ecd013374fc5"
      },
      "outputs": [
        {
          "output_type": "execute_result",
          "data": {
            "text/plain": [
              "False"
            ]
          },
          "metadata": {},
          "execution_count": 40
        }
      ],
      "source": [
        "'New York' in df.City"
      ]
    },
    {
      "cell_type": "code",
      "execution_count": 41,
      "metadata": {
        "colab": {
          "base_uri": "https://localhost:8080/"
        },
        "id": "cK9FFJZQ_vbF",
        "outputId": "37953bbe-3875-44b2-c06f-ca7a8e5d280f"
      },
      "outputs": [
        {
          "output_type": "execute_result",
          "data": {
            "text/plain": [
              "False"
            ]
          },
          "metadata": {},
          "execution_count": 41
        }
      ],
      "source": [
        "'NY' in  df.State"
      ]
    },
    {
      "cell_type": "markdown",
      "metadata": {
        "id": "OcyU6x61HrVo"
      },
      "source": [
        "###Start Time"
      ]
    },
    {
      "cell_type": "code",
      "execution_count": 42,
      "metadata": {
        "colab": {
          "base_uri": "https://localhost:8080/"
        },
        "id": "7OkhZ2QjHejZ",
        "outputId": "422f0cc2-5d21-4237-8f37-f2bd13e58739"
      },
      "outputs": [
        {
          "output_type": "execute_result",
          "data": {
            "text/plain": [
              "0          2016-02-08 00:37:08\n",
              "1          2016-02-08 05:56:20\n",
              "2          2016-02-08 06:15:39\n",
              "3          2016-02-08 06:51:45\n",
              "4          2016-02-08 07:53:43\n",
              "                  ...         \n",
              "2845337    2019-08-23 18:03:25\n",
              "2845338    2019-08-23 19:11:30\n",
              "2845339    2019-08-23 19:00:21\n",
              "2845340    2019-08-23 19:00:21\n",
              "2845341    2019-08-23 18:52:06\n",
              "Name: Start_Time, Length: 2845342, dtype: object"
            ]
          },
          "metadata": {},
          "execution_count": 42
        }
      ],
      "source": [
        "df.Start_Time"
      ]
    },
    {
      "cell_type": "markdown",
      "metadata": {
        "id": "RMiYyplULY7R"
      },
      "source": [
        "Convert the string to Timestamp format "
      ]
    },
    {
      "cell_type": "code",
      "execution_count": 43,
      "metadata": {
        "id": "a9QoyzgWIJHW"
      },
      "outputs": [],
      "source": [
        "df.Start_Time = pd.to_datetime(df.Start_Time)"
      ]
    },
    {
      "cell_type": "markdown",
      "metadata": {
        "id": "HMYDRwsKL1vF"
      },
      "source": [
        "We want to know what time of the day witnesses more accidents. To do this, we pull the hour from the timestamp "
      ]
    },
    {
      "cell_type": "code",
      "execution_count": 44,
      "metadata": {
        "colab": {
          "base_uri": "https://localhost:8080/",
          "height": 488
        },
        "id": "N_rxvFNrIhXG",
        "outputId": "d7fc6579-3ba5-4fe4-df88-f25534fbe796"
      },
      "outputs": [
        {
          "output_type": "stream",
          "name": "stderr",
          "text": [
            "<ipython-input-44-6b306e824aa4>:1: UserWarning: \n",
            "\n",
            "`distplot` is a deprecated function and will be removed in seaborn v0.14.0.\n",
            "\n",
            "Please adapt your code to use either `displot` (a figure-level function with\n",
            "similar flexibility) or `histplot` (an axes-level function for histograms).\n",
            "\n",
            "For a guide to updating your code to use the new functions, please see\n",
            "https://gist.github.com/mwaskom/de44147ed2974457ad6372750bbe5751\n",
            "\n",
            "  sns.distplot(df.Start_Time.dt.hour, bins=24, kde= False, norm_hist= True)\n"
          ]
        },
        {
          "output_type": "execute_result",
          "data": {
            "text/plain": [
              "<Axes: xlabel='Start_Time'>"
            ]
          },
          "metadata": {},
          "execution_count": 44
        },
        {
          "output_type": "display_data",
          "data": {
            "text/plain": [
              "<Figure size 432x288 with 1 Axes>"
            ],
            "image/png": "[encoded data removed]"
          },
          "metadata": {}
        }
      ],
      "source": [
        "sns.distplot(df.Start_Time.dt.hour, bins=24, kde= False, norm_hist= True)"
      ]
    },
    {
      "cell_type": "markdown",
      "metadata": {
        "id": "omnCzl3zLSXI"
      },
      "source": [
        "- A high percentage of accidents occur between 3 pm to 6 pm (assumption that rush hours in the evening could lead to more accidents)"
      ]
    },
    {
      "cell_type": "code",
      "execution_count": 45,
      "metadata": {
        "colab": {
          "base_uri": "https://localhost:8080/",
          "height": 488
        },
        "id": "uptRpbswJX1g",
        "outputId": "537b35ff-f587-4e78-8fe9-697eb7d91cf9"
      },
      "outputs": [
        {
          "output_type": "stream",
          "name": "stderr",
          "text": [
            "<ipython-input-45-6feb8850d911>:2: UserWarning: \n",
            "\n",
            "`distplot` is a deprecated function and will be removed in seaborn v0.14.0.\n",
            "\n",
            "Please adapt your code to use either `displot` (a figure-level function with\n",
            "similar flexibility) or `histplot` (an axes-level function for histograms).\n",
            "\n",
            "For a guide to updating your code to use the new functions, please see\n",
            "https://gist.github.com/mwaskom/de44147ed2974457ad6372750bbe5751\n",
            "\n",
            "  sns.distplot(monday_start_time.dt.hour, bins = 24, kde=False, norm_hist=True)\n"
          ]
        },
        {
          "output_type": "execute_result",
          "data": {
            "text/plain": [
              "<Axes: xlabel='Start_Time'>"
            ]
          },
          "metadata": {},
          "execution_count": 45
        },
        {
          "output_type": "display_data",
          "data": {
            "text/plain": [
              "<Figure size 432x288 with 1 Axes>"
            ],
            "image/png": "[encoded data removed]"
          },
          "metadata": {}
        }
      ],
      "source": [
        "monday_start_time = df.Start_Time[df.Start_Time.dt.dayofweek == 0]\n",
        "sns.distplot(monday_start_time.dt.hour, bins = 24, kde=False, norm_hist=True)"
      ]
    },
    {
      "cell_type": "markdown",
      "metadata": {
        "id": "z-CpVZUroJk6"
      },
      "source": [
        "Distribution of accidents on Monday"
      ]
    },
    {
      "cell_type": "code",
      "execution_count": 46,
      "metadata": {
        "colab": {
          "base_uri": "https://localhost:8080/",
          "height": 488
        },
        "id": "PH2NNpB1Ofyb",
        "outputId": "28ccd931-8f39-453b-8441-431ee77dc6cf"
      },
      "outputs": [
        {
          "output_type": "stream",
          "name": "stderr",
          "text": [
            "<ipython-input-46-244adfc686bc>:2: UserWarning: \n",
            "\n",
            "`distplot` is a deprecated function and will be removed in seaborn v0.14.0.\n",
            "\n",
            "Please adapt your code to use either `displot` (a figure-level function with\n",
            "similar flexibility) or `histplot` (an axes-level function for histograms).\n",
            "\n",
            "For a guide to updating your code to use the new functions, please see\n",
            "https://gist.github.com/mwaskom/de44147ed2974457ad6372750bbe5751\n",
            "\n",
            "  sns.distplot(sundays_start_time.dt.hour, bins =24, kde= False, norm_hist = True)\n"
          ]
        },
        {
          "output_type": "execute_result",
          "data": {
            "text/plain": [
              "<Axes: xlabel='Start_Time'>"
            ]
          },
          "metadata": {},
          "execution_count": 46
        },
        {
          "output_type": "display_data",
          "data": {
            "text/plain": [
              "<Figure size 432x288 with 1 Axes>"
            ],
            "image/png": "[encoded data removed]"
          },
          "metadata": {}
        }
      ],
      "source": [
        "sundays_start_time = df.Start_Time[df.Start_Time.dt.dayofweek == 6 ]\n",
        "sns.distplot(sundays_start_time.dt.hour, bins =24, kde= False, norm_hist = True)"
      ]
    },
    {
      "cell_type": "markdown",
      "metadata": {
        "id": "cudMWxKSoYoE"
      },
      "source": [
        "Distribution of accidents on Sunday"
      ]
    },
    {
      "cell_type": "markdown",
      "metadata": {
        "id": "AhMM2S9Poohq"
      },
      "source": [
        "While Monday follows the general 24-hour pattern- two peaks coinciding with work rush; the distribution for Sunday sees a peak between 2 pm and 5 pm. This could be due to people going out for leisurely activities on Sundays."
      ]
    },
    {
      "cell_type": "markdown",
      "metadata": {
        "id": "xQcNpo6uRGEn"
      },
      "source": [
        "On Sundays, the peak occurs between 12 pm to 6 pm, unlike weekdays"
      ]
    },
    {
      "cell_type": "code",
      "execution_count": 47,
      "metadata": {
        "id": "OCXh6Ob_pEq_",
        "colab": {
          "base_uri": "https://localhost:8080/",
          "height": 488
        },
        "outputId": "4a47372e-dbde-4598-b104-3e876671ffdc"
      },
      "outputs": [
        {
          "output_type": "stream",
          "name": "stderr",
          "text": [
            "<ipython-input-47-dd5a856c8086>:1: UserWarning: \n",
            "\n",
            "`distplot` is a deprecated function and will be removed in seaborn v0.14.0.\n",
            "\n",
            "Please adapt your code to use either `displot` (a figure-level function with\n",
            "similar flexibility) or `histplot` (an axes-level function for histograms).\n",
            "\n",
            "For a guide to updating your code to use the new functions, please see\n",
            "https://gist.github.com/mwaskom/de44147ed2974457ad6372750bbe5751\n",
            "\n",
            "  sns.distplot(df.Start_Time.dt.month, bins = 12, kde=False, norm_hist=True)\n"
          ]
        },
        {
          "output_type": "execute_result",
          "data": {
            "text/plain": [
              "<Axes: xlabel='Start_Time'>"
            ]
          },
          "metadata": {},
          "execution_count": 47
        },
        {
          "output_type": "display_data",
          "data": {
            "text/plain": [
              "<Figure size 432x288 with 1 Axes>"
            ],
            "image/png": "[encoded data removed]"
          },
          "metadata": {}
        }
      ],
      "source": [
        "sns.distplot(df.Start_Time.dt.month, bins = 12, kde=False, norm_hist=True)"
      ]
    },
    {
      "cell_type": "markdown",
      "metadata": {
        "id": "HWEfYJjhptMT"
      },
      "source": [
        "This could possibly be due to summer break and then the new school term around August-September.  "
      ]
    },
    {
      "cell_type": "code",
      "execution_count": 48,
      "metadata": {
        "id": "V1pBfhMYp8-h",
        "colab": {
          "base_uri": "https://localhost:8080/",
          "height": 488
        },
        "outputId": "611b7490-3472-4801-d6bf-147eaaecc0db"
      },
      "outputs": [
        {
          "output_type": "stream",
          "name": "stderr",
          "text": [
            "<ipython-input-48-7304fc6ad44d>:3: UserWarning: \n",
            "\n",
            "`distplot` is a deprecated function and will be removed in seaborn v0.14.0.\n",
            "\n",
            "Please adapt your code to use either `displot` (a figure-level function with\n",
            "similar flexibility) or `histplot` (an axes-level function for histograms).\n",
            "\n",
            "For a guide to updating your code to use the new functions, please see\n",
            "https://gist.github.com/mwaskom/de44147ed2974457ad6372750bbe5751\n",
            "\n",
            "  sns.distplot(df_2016.Start_Time.dt.month, bins = 12, kde=False, norm_hist=True)\n"
          ]
        },
        {
          "output_type": "execute_result",
          "data": {
            "text/plain": [
              "<Axes: xlabel='Start_Time'>"
            ]
          },
          "metadata": {},
          "execution_count": 48
        },
        {
          "output_type": "display_data",
          "data": {
            "text/plain": [
              "<Figure size 432x288 with 1 Axes>"
            ],
            "image/png": "[encoded data removed]"
          },
          "metadata": {}
        }
      ],
      "source": [
        "#2016\n",
        "df_2016 = df[df.Start_Time.dt.year == 2016]\n",
        "sns.distplot(df_2016.Start_Time.dt.month, bins = 12, kde=False, norm_hist=True)"
      ]
    },
    {
      "cell_type": "markdown",
      "metadata": {
        "id": "NPFCxrniqQp0"
      },
      "source": [
        "Clearly, there is data missing for the month of January (data was collected from February 2016) and July."
      ]
    },
    {
      "cell_type": "code",
      "execution_count": 49,
      "metadata": {
        "colab": {
          "base_uri": "https://localhost:8080/",
          "height": 488
        },
        "id": "FBEz917GR2Os",
        "outputId": "8135dbd2-dd80-4163-d524-fc5e9b3bd8d6"
      },
      "outputs": [
        {
          "output_type": "stream",
          "name": "stderr",
          "text": [
            "<ipython-input-49-1ce9c78f55ff>:2: UserWarning: \n",
            "\n",
            "`distplot` is a deprecated function and will be removed in seaborn v0.14.0.\n",
            "\n",
            "Please adapt your code to use either `displot` (a figure-level function with\n",
            "similar flexibility) or `histplot` (an axes-level function for histograms).\n",
            "\n",
            "For a guide to updating your code to use the new functions, please see\n",
            "https://gist.github.com/mwaskom/de44147ed2974457ad6372750bbe5751\n",
            "\n",
            "  sns.distplot(df_2019.Start_Time.dt.month, bins=12, kde=False, norm_hist = True)\n"
          ]
        },
        {
          "output_type": "execute_result",
          "data": {
            "text/plain": [
              "<Axes: xlabel='Start_Time'>"
            ]
          },
          "metadata": {},
          "execution_count": 49
        },
        {
          "output_type": "display_data",
          "data": {
            "text/plain": [
              "<Figure size 432x288 with 1 Axes>"
            ],
            "image/png": "[encoded data removed]"
          },
          "metadata": {}
        }
      ],
      "source": [
        "df_2019 = df[df.Start_Time.dt.year == 2019]\n",
        "sns.distplot(df_2019.Start_Time.dt.month, bins=12, kde=False, norm_hist = True)"
      ]
    },
    {
      "cell_type": "markdown",
      "metadata": {
        "id": "sOBuDA2ROl-1"
      },
      "source": [
        "2019 does not show a consistent increase in accidents over the months. So, the overall picture might be misleading due to the significant numbers missing. It could also be attributed to data mismatch if the sources of the collection are varied. This would need further investigation."
      ]
    },
    {
      "cell_type": "markdown",
      "metadata": {
        "id": "lf0djPIMrD5B"
      },
      "source": [
        "###Temperature"
      ]
    },
    {
      "cell_type": "code",
      "execution_count": 50,
      "metadata": {
        "id": "5cKGhqz-rOhv",
        "colab": {
          "base_uri": "https://localhost:8080/"
        },
        "outputId": "0c2d9c80-a69b-4764-8215-cd43c898d48e"
      },
      "outputs": [
        {
          "output_type": "execute_result",
          "data": {
            "text/plain": [
              " 73.0     64505\n",
              " 77.0     63575\n",
              " 75.0     60534\n",
              " 72.0     59681\n",
              " 68.0     58557\n",
              "          ...  \n",
              " 109.8        1\n",
              "-9.8          1\n",
              " 170.6        1\n",
              " 107.2        1\n",
              " 99.1         1\n",
              "Name: Temperature(F), Length: 788, dtype: int64"
            ]
          },
          "metadata": {},
          "execution_count": 50
        }
      ],
      "source": [
        "#take out the column with its frequency disribution\n",
        "df['Temperature(F)'].value_counts()"
      ]
    },
    {
      "cell_type": "markdown",
      "metadata": {
        "id": "1mRPkidErkyd"
      },
      "source": [
        "Column- Temperature (F)"
      ]
    },
    {
      "cell_type": "code",
      "execution_count": 51,
      "metadata": {
        "id": "yqylSx6hrg8s",
        "colab": {
          "base_uri": "https://localhost:8080/",
          "height": 282
        },
        "outputId": "e11d5c29-32e7-4d38-ca7e-70fc0519ceed"
      },
      "outputs": [
        {
          "output_type": "execute_result",
          "data": {
            "text/plain": [
              "<Axes: >"
            ]
          },
          "metadata": {},
          "execution_count": 51
        },
        {
          "output_type": "display_data",
          "data": {
            "text/plain": [
              "<Figure size 432x288 with 1 Axes>"
            ],
            "image/png": "[encoded data removed]"
          },
          "metadata": {}
        }
      ],
      "source": [
        "sns.boxenplot(df['Temperature(F)'])"
      ]
    },
    {
      "cell_type": "markdown",
      "metadata": {
        "id": "pewSHivnro2P"
      },
      "source": [
        "Distribution of Temperature"
      ]
    },
    {
      "cell_type": "markdown",
      "metadata": {
        "id": "3-VNBLqmrxqz"
      },
      "source": [
        "So, a chunk of the accidents happens to be in areas experiencing temperatures in the range of (50–60) degrees Fahrenheit. Most accidents occur in colder weather or regions."
      ]
    },
    {
      "cell_type": "code",
      "execution_count": 51,
      "metadata": {
        "id": "ypdAxptEsSOC"
      },
      "outputs": [],
      "source": []
    },
    {
      "cell_type": "markdown",
      "metadata": {
        "id": "bmdSQyWBr3HZ"
      },
      "source": [
        "###Weather Condition"
      ]
    },
    {
      "cell_type": "code",
      "execution_count": 52,
      "metadata": {
        "id": "9B-_aekhsAVY",
        "colab": {
          "base_uri": "https://localhost:8080/"
        },
        "outputId": "989361f2-fbd0-4a37-b5f2-464790e79b5d"
      },
      "outputs": [
        {
          "output_type": "execute_result",
          "data": {
            "text/plain": [
              "Fair                        1107194\n",
              "Mostly Cloudy                363959\n",
              "Cloudy                       348767\n",
              "Partly Cloudy                249939\n",
              "Clear                        173823\n",
              "                             ...   \n",
              "Sleet / Windy                     1\n",
              "Mist / Windy                      1\n",
              "Blowing Sand                      1\n",
              "Heavy Freezing Rain               1\n",
              "Thunder and Hail / Windy          1\n",
              "Name: Weather_Condition, Length: 127, dtype: int64"
            ]
          },
          "metadata": {},
          "execution_count": 52
        }
      ],
      "source": [
        "df.Weather_Condition.value_counts()"
      ]
    },
    {
      "cell_type": "code",
      "execution_count": 53,
      "metadata": {
        "id": "q0ULY4YLsJkp"
      },
      "outputs": [],
      "source": [
        "import seaborn as sns\n",
        "import matplotlib.pyplot as plt\n",
        "from wordcloud import WordCloud"
      ]
    },
    {
      "cell_type": "code",
      "execution_count": 54,
      "metadata": {
        "id": "AaN8FVmEsRTH",
        "colab": {
          "base_uri": "https://localhost:8080/",
          "height": 248
        },
        "outputId": "e08540ee-dcef-467e-d5d7-4b200a410c19"
      },
      "outputs": [
        {
          "output_type": "display_data",
          "data": {
            "text/plain": [
              "<Figure size 432x288 with 1 Axes>"
            ],
            "image/png": "[encoded data removed]"
          },
          "metadata": {}
        }
      ],
      "source": [
        "data = df['Weather_Condition'].value_counts().to_dict()\n",
        "wc = WordCloud(width = 900, height = 800,\n",
        "background_color ='white',\n",
        "min_font_size = 10).generate_from_frequencies(data)\n",
        "plt.imshow(wc)\n",
        "plt.axis('off')\n",
        "plt.show()"
      ]
    },
    {
      "cell_type": "markdown",
      "metadata": {
        "id": "hle92gX-tQV4"
      },
      "source": [
        "Word could for weather condition"
      ]
    },
    {
      "cell_type": "markdown",
      "metadata": {
        "id": "sXCNGpPVs7Jn"
      },
      "source": [
        "The most frequently used word is “Fair”, followed by “Clear” and “Mostly Cloudy”. "
      ]
    },
    {
      "cell_type": "markdown",
      "metadata": {
        "id": "Fmu_d4bAtTEW"
      },
      "source": [
        "###Crossing"
      ]
    },
    {
      "cell_type": "code",
      "execution_count": 55,
      "metadata": {
        "id": "NUyohUnotSfc",
        "colab": {
          "base_uri": "https://localhost:8080/",
          "height": 265
        },
        "outputId": "948a2ca1-b028-4ae6-a13f-44b2598be2fd"
      },
      "outputs": [
        {
          "output_type": "execute_result",
          "data": {
            "text/plain": [
              "<Axes: ylabel='Crossing'>"
            ]
          },
          "metadata": {},
          "execution_count": 55
        },
        {
          "output_type": "display_data",
          "data": {
            "text/plain": [
              "<Figure size 432x288 with 1 Axes>"
            ],
            "image/png": "[encoded data removed]"
          },
          "metadata": {}
        }
      ],
      "source": [
        "df['Crossing'].value_counts().plot(kind= 'pie')"
      ]
    },
    {
      "cell_type": "markdown",
      "metadata": {
        "id": "ep3wnreAtm9-"
      },
      "source": [
        "Presence of a crossing"
      ]
    },
    {
      "cell_type": "markdown",
      "metadata": {
        "id": "ZXE6sdW_tqgN"
      },
      "source": [
        "The accidents mostly happened away from a crossing. This brings to the query of proper signaling systems in these areas."
      ]
    },
    {
      "cell_type": "markdown",
      "metadata": {
        "id": "fTxMI8mMt9hL"
      },
      "source": [
        "###Traffic Signal"
      ]
    },
    {
      "cell_type": "code",
      "execution_count": 56,
      "metadata": {
        "id": "ipNwmRuguE7V",
        "colab": {
          "base_uri": "https://localhost:8080/",
          "height": 265
        },
        "outputId": "8bfd44a6-999e-4201-e30c-6d94218a7251"
      },
      "outputs": [
        {
          "output_type": "execute_result",
          "data": {
            "text/plain": [
              "<Axes: ylabel='Traffic_Signal'>"
            ]
          },
          "metadata": {},
          "execution_count": 56
        },
        {
          "output_type": "display_data",
          "data": {
            "text/plain": [
              "<Figure size 432x288 with 1 Axes>"
            ],
            "image/png": "[encoded data removed]"
          },
          "metadata": {}
        }
      ],
      "source": [
        "df['Traffic_Signal'].value_counts().plot(kind='pie')\n"
      ]
    },
    {
      "cell_type": "markdown",
      "metadata": {
        "id": "vYxs0UIkuI6h"
      },
      "source": [
        "Presence of a traffic signal nearby"
      ]
    },
    {
      "cell_type": "markdown",
      "metadata": {
        "id": "-_wqjaNnuNR9"
      },
      "source": [
        "Clearly, poor traffic management is a cause for the chunk of the accidents."
      ]
    },
    {
      "cell_type": "markdown",
      "metadata": {
        "id": "0fujVZU-jQV2"
      },
      "source": [
        "###Start Latitude & Longitude"
      ]
    },
    {
      "cell_type": "code",
      "execution_count": 57,
      "metadata": {
        "colab": {
          "base_uri": "https://localhost:8080/"
        },
        "id": "ANvr6go4lci4",
        "outputId": "dac145a5-5e0d-46ef-d296-26998a5286a1"
      },
      "outputs": [
        {
          "output_type": "execute_result",
          "data": {
            "text/plain": [
              "0          40.108910\n",
              "1          39.865420\n",
              "2          39.102660\n",
              "3          41.062130\n",
              "4          39.172393\n",
              "             ...    \n",
              "2845337    34.002480\n",
              "2845338    32.766960\n",
              "2845339    33.775450\n",
              "2845340    33.992460\n",
              "2845341    34.133930\n",
              "Name: Start_Lat, Length: 2845342, dtype: float64"
            ]
          },
          "metadata": {},
          "execution_count": 57
        }
      ],
      "source": [
        "df.Start_Lat"
      ]
    },
    {
      "cell_type": "code",
      "execution_count": 58,
      "metadata": {
        "colab": {
          "base_uri": "https://localhost:8080/"
        },
        "id": "1vjMmY_jlsEz",
        "outputId": "d8bf7fa8-2e37-4919-d45c-996471765c3f"
      },
      "outputs": [
        {
          "output_type": "execute_result",
          "data": {
            "text/plain": [
              "0          -83.092860\n",
              "1          -84.062800\n",
              "2          -84.524680\n",
              "3          -81.537840\n",
              "4          -84.492792\n",
              "              ...    \n",
              "2845337   -117.379360\n",
              "2845338   -117.148060\n",
              "2845339   -117.847790\n",
              "2845340   -118.403020\n",
              "2845341   -117.230920\n",
              "Name: Start_Lng, Length: 2845342, dtype: float64"
            ]
          },
          "metadata": {},
          "execution_count": 58
        }
      ],
      "source": [
        "df.Start_Lng"
      ]
    },
    {
      "cell_type": "code",
      "execution_count": 59,
      "metadata": {
        "id": "LelciCekmpuO"
      },
      "outputs": [],
      "source": [
        "sample_df = df.sample(int(0.1 * len(df)))"
      ]
    },
    {
      "cell_type": "code",
      "execution_count": 60,
      "metadata": {
        "colab": {
          "base_uri": "https://localhost:8080/",
          "height": 299
        },
        "id": "WaXGV5CSlx5c",
        "outputId": "f1c0894c-9c9b-4567-a1f1-6fe4a63583fb"
      },
      "outputs": [
        {
          "output_type": "execute_result",
          "data": {
            "text/plain": [
              "<Axes: xlabel='Start_Lng', ylabel='Start_Lat'>"
            ]
          },
          "metadata": {},
          "execution_count": 60
        },
        {
          "output_type": "display_data",
          "data": {
            "text/plain": [
              "<Figure size 432x288 with 1 Axes>"
            ],
            "image/png": "[encoded data removed]"
          },
          "metadata": {}
        }
      ],
      "source": [
        "sns.scatterplot(x = sample_df.Start_Lng, y = sample_df.Start_Lat, size = 0.001)"
      ]
    },
    {
      "cell_type": "code",
      "execution_count": 61,
      "metadata": {
        "id": "GU0K-bzAnkXI"
      },
      "outputs": [],
      "source": [
        "import folium"
      ]
    },
    {
      "cell_type": "code",
      "execution_count": 62,
      "metadata": {
        "colab": {
          "base_uri": "https://localhost:8080/"
        },
        "id": "l5NpoIOvn--G",
        "outputId": "02018043-c22a-4bab-fe70-0693315bcb07"
      },
      "outputs": [
        {
          "output_type": "execute_result",
          "data": {
            "text/plain": [
              "(40.10891, -83.09286)"
            ]
          },
          "metadata": {},
          "execution_count": 62
        }
      ],
      "source": [
        "lat, lon =  df.Start_Lat[0], df.Start_Lng[0]\n",
        "lat, lon"
      ]
    },
    {
      "cell_type": "code",
      "execution_count": 63,
      "metadata": {
        "colab": {
          "base_uri": "https://localhost:8080/"
        },
        "id": "ikXTKQwVqoVf",
        "outputId": "2b9127b9-f0e1-4f2a-f00f-2a5b7acd79f7"
      },
      "outputs": [
        {
          "output_type": "stream",
          "name": "stdout",
          "text": [
            "2639239    47.883120\n",
            "76030      38.735087\n",
            "692185     47.624571\n",
            "750594     34.135717\n",
            "380131     45.067586\n",
            "             ...    \n",
            "1892338    38.861570\n",
            "547826     42.382324\n",
            "2090514    39.401600\n",
            "888628     27.035789\n",
            "1270635    25.734897\n",
            "Name: Start_Lat, Length: 100, dtype: float64\n",
            "2639239   -122.264330\n",
            "76030      -76.991088\n",
            "692185    -122.352800\n",
            "750594    -117.374848\n",
            "380131    -123.728932\n",
            "              ...    \n",
            "1892338    -76.849280\n",
            "547826     -83.422032\n",
            "2090514    -76.567980\n",
            "888628     -82.113235\n",
            "1270635    -80.302950\n",
            "Name: Start_Lng, Length: 100, dtype: float64\n"
          ]
        }
      ],
      "source": [
        "for x in df[['Start_Lat', 'Start_Lng']].sample(100).iteritems():\n",
        "  print (x[1])"
      ]
    },
    {
      "cell_type": "code",
      "execution_count": 64,
      "metadata": {
        "colab": {
          "base_uri": "https://localhost:8080/"
        },
        "id": "EQSvL-hWvGX1",
        "outputId": "547aabe9-d9a6-460c-fd53-63dc02e4ba86"
      },
      "outputs": [
        {
          "output_type": "execute_result",
          "data": {
            "text/plain": [
              "[(40.10891, -83.09286),\n",
              " (39.86542, -84.0628),\n",
              " (39.10266, -84.52468),\n",
              " (41.06213, -81.53784),\n",
              " (39.172393, -84.49279200000002),\n",
              " (39.06324, -84.03243),\n",
              " (39.77565, -84.18603),\n",
              " (41.37531, -81.82016999999998),\n",
              " (40.702247, -84.075887),\n",
              " (40.10931, -82.96849),\n",
              " (39.19288, -84.47723),\n",
              " (39.13877, -84.53394),\n",
              " (41.4739, -81.704233),\n",
              " (39.582242, -83.677814),\n",
              " (40.151785, -81.312635),\n",
              " (40.151747, -81.312682),\n",
              " (39.97241, -82.84695),\n",
              " (39.9838, -82.85656999999998),\n",
              " (40.02664, -82.9944),\n",
              " (41.679361, -83.573037),\n",
              " (40.99613, -85.26613),\n",
              " (39.0381, -84.59243000000002),\n",
              " (40.03386, -82.99601),\n",
              " (39.85798, -84.28181),\n",
              " (39.15267, -84.5395),\n",
              " (39.30732, -85.95982),\n",
              " (39.77572, -84.04815),\n",
              " (39.97643, -83.12306),\n",
              " (39.58595, -85.82518),\n",
              " (39.3638, -85.51659000000002),\n",
              " (39.45132, -85.62516),\n",
              " (39.75067, -84.14148),\n",
              " (39.2675, -81.49929),\n",
              " (39.86025, -85.96623000000002),\n",
              " (41.95677, -83.67214),\n",
              " (38.27401, -85.74844),\n",
              " (41.95677, -83.67214),\n",
              " (40.52225, -80.06666),\n",
              " (40.487814, -80.009439),\n",
              " (40.156298, -83.018431),\n",
              " (41.47461, -81.71181999999997),\n",
              " (41.0618, -81.54608),\n",
              " (40.45112, -85.15048),\n",
              " (40.35429, -85.14993),\n",
              " (39.75855, -85.13715),\n",
              " (39.74408, -85.13749),\n",
              " (39.965148, -83.020499),\n",
              " (40.72813, -84.78965),\n",
              " (39.85223, -85.25846999999997),\n",
              " (41.46747, -81.75909),\n",
              " (41.83193, -80.10143000000002),\n",
              " (39.744287, -84.204939),\n",
              " (39.71548, -84.22033),\n",
              " (39.7504, -84.20561),\n",
              " (41.72316, -84.96444),\n",
              " (40.04376, -82.99708000000003),\n",
              " (38.1781, -85.71946),\n",
              " (38.18577, -85.80678),\n",
              " (38.27191, -85.80838),\n",
              " (39.923905, -82.87008),\n",
              " (41.035566, -81.569917),\n",
              " (39.9239, -83.68767),\n",
              " (41.851914, -80.175232),\n",
              " (39.93849, -82.84849),\n",
              " (38.96943, -80.1096),\n",
              " (41.66805, -83.57063000000002),\n",
              " (41.48339, -81.66297),\n",
              " (41.50127, -81.4804),\n",
              " (39.789093, -82.989106),\n",
              " (41.67073, -81.24561),\n",
              " (41.70846, -81.17636),\n",
              " (41.44246, -81.78485),\n",
              " (39.77128, -84.1923),\n",
              " (41.50499, -81.47417),\n",
              " (40.109653, -80.2029),\n",
              " (38.38852, -81.7687),\n",
              " (41.03572, -81.57809),\n",
              " (41.47487, -81.72095),\n",
              " (41.62845, -84.80559000000002),\n",
              " (41.62894, -84.80373),\n",
              " (41.16102, -81.78573),\n",
              " (41.628232, -84.808858),\n",
              " (41.62986, -84.76619000000002),\n",
              " (39.74729, -84.21426),\n",
              " (41.42099, -81.69051999999998),\n",
              " (41.42318, -81.84674),\n",
              " (38.79691, -84.48273),\n",
              " (38.80878, -84.49638),\n",
              " (38.30155, -85.85499),\n",
              " (38.33667, -81.65623000000002),\n",
              " (38.33614, -81.65623000000002),\n",
              " (41.0961, -81.58593),\n",
              " (41.12155, -85.18715999999998),\n",
              " (38.829993, -80.667067),\n",
              " (40.05642, -83.03097),\n",
              " (41.37717, -81.5139),\n",
              " (39.17397, -84.49031),\n",
              " (39.75513, -84.16614),\n",
              " (39.17397, -84.49031),\n",
              " (41.12624, -81.65299),\n",
              " (38.33667, -81.65623000000002),\n",
              " (41.10389, -81.5),\n",
              " (39.16417, -84.45275),\n",
              " (40.11184, -83.00883),\n",
              " (38.31922, -85.75301999999998),\n",
              " (39.09881, -84.50801),\n",
              " (41.473859, -81.708409),\n",
              " (41.039988, -81.565332),\n",
              " (41.73565, -84.99082),\n",
              " (39.26566, -84.43965),\n",
              " (41.46981, -81.81104),\n",
              " (41.25666, -81.63157),\n",
              " (40.58919, -80.09885),\n",
              " (41.06356, -81.49078),\n",
              " (41.06218, -81.50595),\n",
              " (39.17736, -84.4873),\n",
              " (38.33956, -81.60991999999997),\n",
              " (41.47889, -81.6934),\n",
              " (40.58919, -80.09885),\n",
              " (41.41119000000001, -81.64414000000002),\n",
              " (39.24907, -84.44561999999998),\n",
              " (39.28775, -84.40073000000002),\n",
              " (41.47379, -81.89631),\n",
              " (41.54941, -81.60676),\n",
              " (39.03347, -84.603),\n",
              " (39.74903, -84.20106),\n",
              " (39.89473, -83.044),\n",
              " (39.19641, -84.47331),\n",
              " (39.22461, -84.45364000000002),\n",
              " (39.15306, -84.44283),\n",
              " (39.97262, -82.98368),\n",
              " (40.535447, -80.03596),\n",
              " (40.529455, -80.03506999999998),\n",
              " (41.49647, -81.67733),\n",
              " (41.0634, -81.49079),\n",
              " (39.74284, -84.20479),\n",
              " (41.46822, -81.9476),\n",
              " (41.92479, -83.36026),\n",
              " (41.184738, -80.432713),\n",
              " (40.27317, -85.5577),\n",
              " (39.98264, -85.14301999999998),\n",
              " (40.27317, -85.5577),\n",
              " (40.42667, -85.54968000000002),\n",
              " (39.97527, -85.14018),\n",
              " (39.09889, -84.52118),\n",
              " (38.88012, -84.62527),\n",
              " (38.79256, -84.60423),\n",
              " (39.74284, -84.20479),\n",
              " (40.484222, -80.13755400000002),\n",
              " (41.20104, -80.06859),\n",
              " (39.05528, -84.39072),\n",
              " (41.623325, -83.692226),\n",
              " (40.53024, -80.00957),\n",
              " (40.06527, -82.99591),\n",
              " (40.43954, -80.00971),\n",
              " (41.422004, -81.730092),\n",
              " (39.3638, -85.51659000000002),\n",
              " (39.82083, -85.7749),\n",
              " (40.0366, -85.72561999999998),\n",
              " (39.855691, -84.29079200000002),\n",
              " (40.049152, -85.682047),\n",
              " (39.83939, -85.55752),\n",
              " (40.13386, -80.00666),\n",
              " (40.43954, -80.00971),\n",
              " (40.13386, -80.00666),\n",
              " (40.13386, -80.00666),\n",
              " (39.97859, -82.9763),\n",
              " (39.95459, -83.04255),\n",
              " (39.68291, -85.97372),\n",
              " (38.49304, -85.77156),\n",
              " (38.33428, -85.82177),\n",
              " (39.99921, -83.02875),\n",
              " (38.53844, -85.77702),\n",
              " (38.1781, -85.71946),\n",
              " (39.87433, -82.99882),\n",
              " (41.39546, -85.32855),\n",
              " (41.39469, -85.28893000000002),\n",
              " (41.90473, -83.36986),\n",
              " (40.77137000000001, -84.62203000000002),\n",
              " (40.80059, -84.61374),\n",
              " (39.87433, -82.99882),\n",
              " (40.78593, -84.61787),\n",
              " (40.80059, -84.61374),\n",
              " (41.67487, -83.57266),\n",
              " (41.47376, -81.86113),\n",
              " (38.33465, -85.75389),\n",
              " (39.14014, -84.53495),\n",
              " (41.80143, -85.34888000000002),\n",
              " (41.35761, -81.81988),\n",
              " (39.34392, -84.39043000000002),\n",
              " (39.816154, -83.18010500000003),\n",
              " (38.824929, -85.47449499999998),\n",
              " (38.82415, -85.63794),\n",
              " (40.593244, -85.150017),\n",
              " (40.600487, -85.150502),\n",
              " (41.19362, -80.2374),\n",
              " (40.55267, -85.14974000000002),\n",
              " (40.56744000000001, -85.14993),\n",
              " (40.14212, -81.55153),\n",
              " (39.94397, -82.41127),\n",
              " (39.96893, -83.11922),\n",
              " (40.6126, -80.09494000000002),\n",
              " (40.11184, -83.00883),\n",
              " (41.06347, -81.50372),\n",
              " (39.972931, -85.965783),\n",
              " (39.95459, -83.04255),\n",
              " (40.11184, -83.00883),\n",
              " (39.97241, -82.84695),\n",
              " (39.9912, -85.9188),\n",
              " (41.34965, -81.51146),\n",
              " (41.11987, -80.69004),\n",
              " (41.11851, -80.69242),\n",
              " (40.05642, -83.03097),\n",
              " (38.117487, -85.760397),\n",
              " (41.44134, -81.65055),\n",
              " (38.61531, -80.76034),\n",
              " (41.124052, -80.677589),\n",
              " (39.95085, -82.94428),\n",
              " (41.06257, -81.52228000000002),\n",
              " (40.11212, -83.03905999999998),\n",
              " (39.887033, -83.043909),\n",
              " (40.04916, -83.03336),\n",
              " (41.12906, -85.1612),\n",
              " (41.17798, -85.10323000000002),\n",
              " (38.08783, -83.90263),\n",
              " (41.63316, -83.54203000000003),\n",
              " (39.149639, -84.539381),\n",
              " (40.9605, -85.3528),\n",
              " (40.96051, -85.34522),\n",
              " (41.08204, -80.64846999999997),\n",
              " (41.61791, -83.54106999999998),\n",
              " (38.41592, -82.3465),\n",
              " (41.67571, -83.69385),\n",
              " (39.08272, -84.52264),\n",
              " (39.280947, -80.278075),\n",
              " (38.36387, -81.73867),\n",
              " (40.0187, -82.90465999999998),\n",
              " (41.53757, -81.64083000000002),\n",
              " (41.16522, -81.47454),\n",
              " (39.52352, -82.02360999999998),\n",
              " (39.517216, -82.025802),\n",
              " (40.322818, -83.071034),\n",
              " (41.73565, -84.99082),\n",
              " (39.14648, -84.45455),\n",
              " (39.82122, -85.76482),\n",
              " (41.11889, -81.65406999999998),\n",
              " (40.121557, -83.151457),\n",
              " (40.11017, -83.15876999999998),\n",
              " (41.57777, -81.54987),\n",
              " (40.121557, -83.151457),\n",
              " (40.11017, -83.15876999999998),\n",
              " (41.04592, -81.69463),\n",
              " (41.42099, -81.69051999999998),\n",
              " (39.27486, -84.346),\n",
              " (39.28266, -84.56742),\n",
              " (39.9467, -82.22232),\n",
              " (39.17397, -84.49031),\n",
              " (39.17736, -84.4873),\n",
              " (39.9467, -82.22232),\n",
              " (39.9467, -82.22232),\n",
              " (41.68518, -83.5678),\n",
              " (41.66572, -83.5652),\n",
              " (39.27125, -84.35176),\n",
              " (41.47395, -81.69931),\n",
              " (39.98505, -80.74006),\n",
              " (39.95813, -80.76219),\n",
              " (41.56544, -81.5835),\n",
              " (38.32587, -83.11389),\n",
              " (38.25869, -85.7622),\n",
              " (38.29322, -85.654625),\n",
              " (39.78609, -83.24606999999997),\n",
              " (41.53968, -81.62795),\n",
              " (39.08927, -84.5227),\n",
              " (38.25922, -85.76632),\n",
              " (41.55264, -81.60032),\n",
              " (39.02187, -84.50492),\n",
              " (41.06755, -81.57421),\n",
              " (40.49223, -80.01029),\n",
              " (41.48836, -81.66471),\n",
              " (39.95085, -82.94428),\n",
              " (41.42063, -81.80859),\n",
              " (41.06755, -81.57421),\n",
              " (40.82949, -81.39732),\n",
              " (41.40091, -81.81724),\n",
              " (41.13355, -85.13584),\n",
              " (38.870386, -84.624429),\n",
              " (41.47974, -81.6667),\n",
              " (40.30095, -80.16651999999998),\n",
              " (39.11543, -84.50003000000002),\n",
              " (41.1419, -81.47694),\n",
              " (39.14917, -84.44711),\n",
              " (39.81979000000001, -84.18908),\n",
              " (39.84509, -84.1899),\n",
              " (41.47461, -81.71181999999997),\n",
              " (39.17304, -84.47589),\n",
              " (39.1021, -84.49754),\n",
              " (41.49873, -81.67260999999998),\n",
              " (39.12627, -84.53509),\n",
              " (41.47394600000001, -81.699011),\n",
              " (39.9745, -83.09654),\n",
              " (39.85911, -84.2808),\n",
              " (39.24943, -84.36541),\n",
              " (38.31179, -85.58773000000002),\n",
              " (39.27486, -84.346),\n",
              " (39.29287, -84.31981),\n",
              " (39.15267, -84.5395),\n",
              " (41.4675, -81.49014),\n",
              " (39.26661, -84.35605),\n",
              " (39.27125, -84.35176),\n",
              " (38.20674, -85.74846),\n",
              " (40.13804, -82.97112),\n",
              " (41.47965, -81.66758),\n",
              " (39.08887, -84.52271),\n",
              " (41.6882, -83.64064),\n",
              " (40.06527, -82.99591),\n",
              " (39.86536, -84.05238),\n",
              " (38.420223, -82.293065),\n",
              " (41.47414000000001, -81.69893),\n",
              " (41.47542, -81.68721),\n",
              " (40.07297, -83.1347),\n",
              " (40.05609000000001, -80.679211),\n",
              " (38.19105, -85.71902),\n",
              " (38.25454000000001, -85.71969),\n",
              " (39.171694, -84.494399),\n",
              " (41.06239, -81.52229),\n",
              " (39.259254, -84.440978),\n",
              " (39.905178, -82.895471),\n",
              " (40.0988, -83.13331),\n",
              " (41.33991, -81.81739),\n",
              " (40.0999, -82.92089),\n",
              " (39.4728, -80.11963),\n",
              " (41.46631, -81.77065999999998),\n",
              " (38.34109, -81.70017),\n",
              " (41.160072, -85.232647),\n",
              " (41.163626, -85.24482900000002),\n",
              " (39.14014, -84.53495),\n",
              " (40.94537, -81.15473),\n",
              " (41.68591, -83.911307),\n",
              " (41.704523, -83.9136),\n",
              " (40.945772, -81.17219399999998),\n",
              " (38.82445, -82.98299),\n",
              " (38.84111, -82.98432),\n",
              " (39.00079, -84.42043000000002),\n",
              " (39.96071, -85.35383),\n",
              " (39.2675, -81.49929),\n",
              " (40.27317, -85.5577),\n",
              " (40.42667, -85.54968000000002),\n",
              " (38.130782, -81.388878),\n",
              " (38.545195, -85.778613),\n",
              " (38.362427, -81.714434),\n",
              " (38.39115, -81.58664),\n",
              " (40.08978, -82.98725999999998),\n",
              " (40.0122, -82.99188000000002),\n",
              " (41.68918, -83.53681999999998),\n",
              " (39.3781, -84.365),\n",
              " (39.11919, -84.53539),\n",
              " (39.05029, -83.77673),\n",
              " (39.04827, -83.77199),\n",
              " (40.0717, -82.90821),\n",
              " (39.09655, -84.48312),\n",
              " (40.43077, -80.02638),\n",
              " (41.443708, -85.19285),\n",
              " (41.438119, -85.15969399999999),\n",
              " (41.46747, -81.75909),\n",
              " (39.044435, -84.465864),\n",
              " (39.22461, -84.45364000000002),\n",
              " (41.104217, -81.499987),\n",
              " (41.1003, -81.4999),\n",
              " (39.1021, -84.49754),\n",
              " (41.46375, -81.69353000000002),\n",
              " (41.52134, -83.45642),\n",
              " (41.52549000000001, -83.46344),\n",
              " (41.43166, -81.68160999999998),\n",
              " (38.22363, -85.50532),\n",
              " (40.85466, -81.41646999999998),\n",
              " (38.22272, -85.50111),\n",
              " (39.12424, -84.53501),\n",
              " (39.09858, -84.51974),\n",
              " (39.63551, -84.19519),\n",
              " (40.39715, -80.10368000000003),\n",
              " (41.56709, -81.57816),\n",
              " (41.18225, -84.94275999999998),\n",
              " (39.10148, -84.52341),\n",
              " (41.55245, -83.60061999999998),\n",
              " (38.52006, -81.35221),\n",
              " (41.3513, -83.62276),\n",
              " (39.25015, -81.30566),\n",
              " (41.345031, -82.285379),\n",
              " (41.351335, -82.26144599999998),\n",
              " (38.38457, -81.804429),\n",
              " (40.41528, -80.01234000000002),\n",
              " (40.03598, -83.12479),\n",
              " (41.03669, -81.50492),\n",
              " (41.68971, -83.53045999999998),\n",
              " (39.587784, -83.723939),\n",
              " (39.626237, -83.73105),\n",
              " (41.06243, -81.49904000000002),\n",
              " (39.97262, -82.98368),\n",
              " (39.93658, -83.00941999999998),\n",
              " (41.208579, -82.807829),\n",
              " (41.4051, -81.8184),\n",
              " (39.29035, -84.39078),\n",
              " (39.90524, -82.89541),\n",
              " (40.04376, -82.99708000000003),\n",
              " (39.98793, -82.98568),\n",
              " (41.874915, -85.409527),\n",
              " (41.890234, -85.409642),\n",
              " (39.9335, -82.78939),\n",
              " (40.04916, -83.03336),\n",
              " (39.99493, -82.93332),\n",
              " (39.83727, -83.09326999999998),\n",
              " (40.98954000000001, -81.49372),\n",
              " (38.53844, -85.77702),\n",
              " (41.10389, -81.5),\n",
              " (38.577894, -85.77896),\n",
              " (41.42099, -81.69051999999998),\n",
              " (38.58054600000001, -85.77866),\n",
              " (39.833935, -84.061832),\n",
              " (38.30344, -85.88893),\n",
              " (39.93654, -83.40048),\n",
              " (39.95612, -83.37499),\n",
              " (39.17766, -84.39780999999998),\n",
              " (40.02155, -83.0354),\n",
              " (39.97518, -85.63374),\n",
              " (39.94576, -85.63454),\n",
              " (40.27744000000001, -85.72518000000002),\n",
              " (39.17304, -84.47589),\n",
              " (41.68648, -83.5669),\n",
              " (41.66267, -85.03312),\n",
              " (41.68976, -83.666),\n",
              " (39.94594, -82.9432),\n",
              " (41.4758, -81.66036),\n",
              " (41.628312, -84.812135),\n",
              " (39.96724, -83.02459),\n",
              " (41.96429000000001, -83.35018000000002),\n",
              " (41.282993, -83.638931),\n",
              " (41.63126, -83.48336),\n",
              " (41.427584, -85.8495),\n",
              " (41.471378, -85.839527),\n",
              " (41.46747, -81.75909),\n",
              " (39.18364, -84.48373000000002),\n",
              " (41.94495, -80.40234),\n",
              " (39.53078, -84.310264),\n",
              " (41.438774, -81.80341999999997),\n",
              " (39.9838, -82.85656999999998),\n",
              " (40.44413400000001, -80.028261),\n",
              " (39.97727, -83.15445),\n",
              " (39.9745, -83.09654),\n",
              " (39.97865, -83.11698),\n",
              " (39.97327, -83.12002),\n",
              " (39.22571, -84.36832),\n",
              " (39.986342, -83.118881),\n",
              " (39.73629, -84.20489),\n",
              " (41.4051, -81.8184),\n",
              " (41.41101, -81.66634),\n",
              " (39.24464, -84.44835),\n",
              " (40.11212, -83.03905999999998),\n",
              " (40.30095, -80.16651999999998),\n",
              " (41.49243, -81.67554),\n",
              " (40.1827, -80.26148),\n",
              " (39.95459, -83.04255),\n",
              " (39.97527, -85.14018),\n",
              " (39.98511, -85.14406),\n",
              " (38.29514, -85.75655),\n",
              " (39.93654, -83.40048),\n",
              " (39.11543, -84.50003000000002),\n",
              " (41.030684, -81.885739),\n",
              " (41.43166, -81.68160999999998),\n",
              " (40.6664, -80.227514),\n",
              " (40.67137, -80.22581),\n",
              " (41.305199, -81.438626),\n",
              " (40.354252, -85.843032),\n",
              " (40.402251, -85.842969),\n",
              " (41.26752000000001, -85.85673),\n",
              " (39.97307, -82.98405),\n",
              " (39.9672, -81.28699999999998),\n",
              " (39.96392, -81.27197),\n",
              " (41.52631, -83.62123000000003),\n",
              " (39.93292, -82.83025),\n",
              " (39.08272, -84.52264),\n",
              " (39.8552, -84.32502),\n",
              " (41.65404, -85.70526),\n",
              " (41.39465, -81.65326),\n",
              " (41.06211, -81.53053),\n",
              " (41.09598, -81.49976),\n",
              " (41.85222, -85.67843),\n",
              " (38.148808, -80.929665),\n",
              " (41.52447, -85.57791),\n",
              " (41.5105, -85.57781),\n",
              " (39.90524, -82.89541),\n",
              " (41.23598, -81.49325999999998),\n",
              " (38.70101, -80.66483000000002),\n",
              " (39.22498, -84.38094),\n",
              " (40.776023, -80.12718100000002),\n",
              " (38.86027, -80.65729),\n",
              " (39.88203, -83.04748000000002),\n",
              " (39.89253400000001, -83.038786),\n",
              " (39.89698, -83.03428000000002),\n",
              " (41.67439, -83.693727),\n",
              " (41.12999, -85.15503000000002),\n",
              " (39.09889, -84.52118),\n",
              " (41.52631, -83.62123000000003),\n",
              " (39.088552, -84.522724),\n",
              " (39.95423, -82.98879000000002),\n",
              " (39.21018, -84.46345),\n",
              " (39.95369, -82.96403000000002),\n",
              " (40.40934, -80.19247),\n",
              " (40.44126, -80.19314),\n",
              " (39.16161, -84.51375),\n",
              " (39.16161, -84.51375),\n",
              " (39.15141, -84.54061),\n",
              " (39.75855, -85.13715),\n",
              " (41.67571, -83.69385),\n",
              " (41.67571, -83.69385),\n",
              " (39.28805, -84.37462),\n",
              " (41.53618, -83.6176),\n",
              " (39.07202, -84.51907),\n",
              " (38.259133, -85.752672),\n",
              " (40.44425, -80.02821),\n",
              " (40.44278, -80.02468),\n",
              " (38.30155, -85.85499),\n",
              " (40.35405, -80.13756),\n",
              " (40.35449000000001, -80.13835999999998),\n",
              " (38.30344, -85.88893),\n",
              " (41.08789, -83.66011),\n",
              " (41.02454, -80.92163000000002),\n",
              " (41.02413, -80.90579),\n",
              " (39.08168, -84.7069),\n",
              " (38.18539000000001, -85.81793),\n",
              " (39.27734, -84.86438000000003),\n",
              " (39.16437, -84.43731),\n",
              " (39.748585, -84.226084),\n",
              " (39.4728, -80.11963),\n",
              " (41.187807, -80.149019),\n",
              " (41.19242, -80.15860500000002),\n",
              " (38.233483, -85.62671800000003),\n",
              " (38.33954, -81.609895),\n",
              " (40.07297, -83.1347),\n",
              " (40.08402, -83.13046),\n",
              " (38.34631, -83.40449),\n",
              " (38.35382, -83.40553),\n",
              " (39.04416, -84.46656),\n",
              " (38.41807, -81.54525),\n",
              " (38.309401, -85.847643),\n",
              " (41.64679, -83.54913),\n",
              " (38.198748, -85.733953),\n",
              " (39.97401, -82.99355),\n",
              " (39.17397, -84.49031),\n",
              " (41.68843, -83.56258000000003),\n",
              " (41.67904, -83.5732),\n",
              " (39.25249, -84.36493),\n",
              " (38.310736, -85.590395),\n",
              " (41.46941, -81.80535),\n",
              " (38.20674, -85.74846),\n",
              " (39.226317, -84.37107900000002),\n",
              " (41.68721, -83.55579),\n",
              " (40.09775, -84.22926),\n",
              " (41.42147, -81.70682),\n",
              " (38.29414600000001, -85.756847),\n",
              " (39.17304, -84.47589),\n",
              " (38.15982, -84.67308),\n",
              " (39.11675, -84.53355),\n",
              " (39.24943, -84.36541),\n",
              " (41.06146, -81.5049),\n",
              " (39.18364, -84.48373000000002),\n",
              " (39.98793, -82.98568),\n",
              " (39.95971, -83.04811),\n",
              " (39.1479, -84.53929000000002),\n",
              " (39.89555, -83.84997),\n",
              " (39.99226, -82.98517),\n",
              " (39.40983, -82.97548),\n",
              " (40.6126, -80.09494000000002),\n",
              " (39.22479000000001, -84.27783000000002),\n",
              " (39.11675, -84.53355),\n",
              " (41.43869, -81.80554000000002),\n",
              " (40.016819, -82.90411),\n",
              " (39.09757000000001, -84.51666),\n",
              " (41.06247000000001, -81.52405),\n",
              " (39.13219, -84.49464),\n",
              " (39.097654, -84.516019),\n",
              " (41.34965, -81.51146),\n",
              " (41.37717, -81.5139),\n",
              " (40.12589000000001, -80.13661),\n",
              " (40.13189000000001, -80.132407),\n",
              " (40.00507, -83.1186),\n",
              " (39.43794000000001, -82.53893000000002),\n",
              " (39.12627, -84.53509),\n",
              " (38.07759, -84.45711999999997),\n",
              " (40.09079000000001, -82.90783),\n",
              " (39.64731, -85.91696999999998),\n",
              " (39.08927, -84.5227),\n",
              " (38.26109, -85.73695),\n",
              " (38.19785, -85.70445),\n",
              " (39.05654000000001, -84.54283000000002),\n",
              " (41.42413, -81.64519),\n",
              " (39.28638, -84.42706),\n",
              " (41.37499, -83.61635),\n",
              " (41.06228, -81.50986999999998),\n",
              " (41.53907, -81.63354),\n",
              " (40.04916, -83.03336),\n",
              " (41.13613, -81.72196),\n",
              " (39.09891, -84.49181999999998),\n",
              " (39.96268, -82.84305),\n",
              " (39.17397, -84.49031),\n",
              " (39.16911, -84.42104),\n",
              " (39.003821, -80.391285),\n",
              " (39.17736, -84.4873),\n",
              " (39.14316, -84.47069),\n",
              " (39.2696, -84.34894),\n",
              " (40.521732, -81.64755),\n",
              " (40.513361, -81.651599),\n",
              " (41.52631, -83.62123000000003),\n",
              " (38.992607, -80.195782),\n",
              " (38.839151, -82.152877),\n",
              " (40.27675, -85.49916),\n",
              " (40.52168, -80.13163),\n",
              " (39.83711, -84.54392),\n",
              " (39.02296, -84.51784),\n",
              " (38.455787, -81.88205),\n",
              " (39.02397, -84.48039),\n",
              " (38.22433, -85.751),\n",
              " (39.05973, -84.42438),\n",
              " (39.27734, -84.86438000000003),\n",
              " (41.47965, -81.66758),\n",
              " (39.02257, -84.48631),\n",
              " (40.44846, -80.00755),\n",
              " (39.09891, -84.28556999999998),\n",
              " (41.06026, -81.55485999999998),\n",
              " (41.802758, -83.684687),\n",
              " (38.0791, -83.94591),\n",
              " (38.01846, -84.15159),\n",
              " (38.30344, -85.88893),\n",
              " (38.84109, -85.81618),\n",
              " (41.14181, -80.72015999999998),\n",
              " (39.14648, -84.45455),\n",
              " (41.04263, -81.50543),\n",
              " (38.21089, -85.82606),\n",
              " (39.75067, -84.14148),\n",
              " (38.28581, -85.50792),\n",
              " (39.15273300000001, -84.541403),\n",
              " (38.23585, -85.658849),\n",
              " (38.20249, -85.68697),\n",
              " (40.53491, -83.10678),\n",
              " (40.52035, -83.10043),\n",
              " (39.12965, -84.49555),\n",
              " (38.22811, -85.7514),\n",
              " (40.41233, -80.07815),\n",
              " (39.7504, -84.20561),\n",
              " (39.08272, -84.52264),\n",
              " (39.781457, -85.839651),\n",
              " (39.781457, -85.839651),\n",
              " (41.06076, -81.45923),\n",
              " (39.688148, -83.88431),\n",
              " (39.693164, -83.882745),\n",
              " (39.9488, -83.02845),\n",
              " (41.11584000000001, -81.61428000000002),\n",
              " (39.797697, -84.189677),\n",
              " (39.20326, -85.95763000000002),\n",
              " (39.24464, -84.44835),\n",
              " (39.73733, -84.25733000000002),\n",
              " (39.969853, -85.972976),\n",
              " (41.11889, -81.65406999999998),\n",
              " (39.13219, -84.49464),\n",
              " (41.458, -83.62201999999998),\n",
              " (40.09268, -83.03726),\n",
              " (40.066965, -83.289888),\n",
              " (40.045608, -83.29660799999998),\n",
              " (39.97307, -82.98405),\n",
              " (39.98248, -85.123922),\n",
              " (39.981095, -85.11027299999998),\n",
              " (40.43021, -80.02554),\n",
              " (40.43219000000001, -80.02781999999998),\n",
              " (39.976567, -83.128639),\n",
              " (41.256658, -85.363439),\n",
              " (41.37499, -83.61635),\n",
              " (41.252653, -85.347328),\n",
              " (39.93658, -83.00941999999998),\n",
              " (39.14014, -84.53495),\n",
              " (40.153014, -82.970316),\n",
              " (39.90524, -82.89541),\n",
              " (39.13219, -84.49464),\n",
              " (40.42581, -80.4294),\n",
              " (41.08789, -83.65977),\n",
              " (39.9488, -83.02845),\n",
              " (41.47585, -81.87980999999998),\n",
              " (39.1079, -84.50284),\n",
              " (38.340803, -81.680728),\n",
              " (40.96473, -85.28862),\n",
              " (38.441, -82.12679),\n",
              " (38.4413, -82.01529000000002),\n",
              " (38.441, -82.12679),\n",
              " (38.18977, -83.48379),\n",
              " (41.194131, -80.201982),\n",
              " (40.09601, -83.13626),\n",
              " (41.23632, -83.65401999999997),\n",
              " (38.1737, -84.81473000000003),\n",
              " (38.19016, -85.7616),\n",
              " (39.25249, -84.36493),\n",
              " (39.137217, -84.04718299999998),\n",
              " (39.141454, -84.016543),\n",
              " (38.344424, -81.613662),\n",
              " (41.93113, -83.35857),\n",
              " (40.89268, -84.61808),\n",
              " (40.46013, -80.19126),\n",
              " (41.119342, -80.698025),\n",
              " (41.117872, -80.693898),\n",
              " (39.15267, -84.5395),\n",
              " (38.27362, -85.80906),\n",
              " (41.458, -83.62201999999998),\n",
              " (39.35655, -84.26419),\n",
              " (38.4062, -81.54054000000002),\n",
              " (41.02525900000001, -81.5042),\n",
              " (38.27362, -85.80906),\n",
              " (38.11969000000001, -85.77235),\n",
              " (38.275406, -85.81314300000003),\n",
              " (38.27508, -85.81517099999998),\n",
              " (41.39769, -81.939),\n",
              " (39.46513, -80.13559000000002),\n",
              " (38.217994, -81.426024),\n",
              " (38.215401, -81.42437199999998),\n",
              " (39.042851, -84.612615),\n",
              " (38.26109, -85.73695),\n",
              " (39.05654000000001, -84.54283000000002),\n",
              " (41.840758, -84.361657),\n",
              " (41.841123, -84.361652),\n",
              " (41.63316, -83.54203000000003),\n",
              " (40.02874, -81.04368000000002),\n",
              " (41.43891, -81.80258),\n",
              " (41.0811, -81.50348000000002),\n",
              " (38.35575, -81.65420999999998),\n",
              " (39.94585, -82.94293),\n",
              " (41.69017, -83.5181),\n",
              " (40.11212, -83.03905999999998),\n",
              " (41.50259000000001, -81.66974),\n",
              " (39.989994, -83.02512),\n",
              " (41.480458, -81.692932),\n",
              " (39.22461, -84.45364000000002),\n",
              " (40.04376, -82.99708000000003),\n",
              " (39.93621, -82.88318000000002),\n",
              " (39.167788, -82.524172),\n",
              " (39.20655, -82.48212),\n",
              " (41.36576, -81.51602),\n",
              " (39.977322, -81.183327),\n",
              " (39.961933, -81.175436),\n",
              " (39.68292, -84.23004),\n",
              " (40.02664, -82.9944),\n",
              " (38.583372, -81.994824),\n",
              " (38.58119600000001, -82.004356),\n",
              " (40.07297, -83.1347),\n",
              " (41.58689, -83.56234),\n",
              " (38.31714, -85.57677),\n",
              " (40.07297, -83.1347),\n",
              " (39.07202, -84.51907),\n",
              " (41.46747, -81.75909),\n",
              " (40.82645, -81.39675),\n",
              " (40.82645, -81.39675),\n",
              " (39.05654000000001, -84.54283000000002),\n",
              " (39.06272, -84.65728),\n",
              " (39.03368, -84.59527),\n",
              " (40.02121, -82.99503),\n",
              " (39.866695, -84.9305),\n",
              " (39.05654000000001, -84.54283000000002),\n",
              " (39.03232, -84.59137),\n",
              " (41.04058, -81.61256999999998),\n",
              " (40.98884, -83.64875),\n",
              " (39.95658, -83.37075),\n",
              " (39.89857, -83.72139),\n",
              " (39.896448, -83.72312099999998),\n",
              " (41.47965, -81.66758),\n",
              " (39.71548, -84.22033),\n",
              " (40.0389, -85.71828000000002),\n",
              " (41.17516, -81.23116999999998),\n",
              " (41.15107, -81.21375),\n",
              " (40.0389, -85.71828000000002),\n",
              " (39.99336, -85.83861999999998),\n",
              " (40.46013, -80.19126),\n",
              " (41.68976, -83.666),\n",
              " (39.97326, -83.00690999999998),\n",
              " (39.48572, -83.94191),\n",
              " (39.83355, -85.99635),\n",
              " (39.79721, -85.97153),\n",
              " (39.98056, -83.11924),\n",
              " (41.458, -83.62243000000002),\n",
              " (39.905352, -82.995352),\n",
              " (39.99921, -83.02875),\n",
              " (40.869049, -81.95845600000001),\n",
              " (41.419021, -81.519515),\n",
              " (39.34392, -84.39043000000002),\n",
              " (39.9454, -82.60271),\n",
              " (38.353957, -81.73513100000002),\n",
              " (38.354505, -81.731585),\n",
              " (41.501623, -81.479519),\n",
              " (39.86477, -83.99871),\n",
              " (38.737813, -85.250959),\n",
              " (40.00507, -83.1186),\n",
              " (39.91978, -82.93149),\n",
              " (39.09757000000001, -84.51666),\n",
              " (41.07995, -81.50389),\n",
              " (41.63316, -83.54203000000003),\n",
              " (39.82529, -83.03175999999998),\n",
              " (39.83209, -82.99884),\n",
              " (39.83208, -83.000447),\n",
              " (38.416631, -84.861968),\n",
              " (40.55549, -80.11634000000002),\n",
              " (39.17736, -84.4873),\n",
              " (41.484589, -81.691778),\n",
              " (41.22734000000001, -81.62705),\n",
              " (39.04695, -84.57498000000002),\n",
              " (39.25595, -84.44287),\n",
              " (39.8888, -82.88181999999998),\n",
              " (39.74729, -84.21426),\n",
              " (39.97415, -83.09486),\n",
              " (39.08272, -84.52264),\n",
              " (39.949808, -83.02289300000002),\n",
              " (39.95141, -83.0137),\n",
              " (38.7056, -80.66107),\n",
              " (39.1479, -84.53929000000002),\n",
              " (41.7573, -83.48075),\n",
              " (39.98946, -85.9299),\n",
              " (39.98894, -83.025012),\n",
              " (41.110996, -80.82384),\n",
              " (41.68685900000001, -83.554005),\n",
              " (41.53907, -81.63354),\n",
              " (39.300562, -84.518869),\n",
              " (41.202543, -85.7011),\n",
              " (39.19288, -84.47723),\n",
              " (40.07297, -83.1347),\n",
              " (39.140991, -84.483618),\n",
              " (41.121599, -80.789503),\n",
              " (41.31438, -81.51286),\n",
              " (39.85922, -84.27762),\n",
              " (40.42005, -80.03531),\n",
              " (39.9589, -82.98257),\n",
              " (39.89087, -83.85382),\n",
              " (39.89862, -83.85353),\n",
              " (40.03938, -83.050567),\n",
              " (41.41218, -81.61371),\n",
              " (38.306159, -80.833765),\n",
              " (40.104, -82.94154),\n",
              " (38.24178, -85.62212),\n",
              " (41.55264, -81.60032),\n",
              " (39.99226, -82.98517),\n",
              " (38.31553, -85.58313000000003),\n",
              " (38.400331, -85.371049),\n",
              " (38.31251, -85.57741999999998),\n",
              " (38.400331, -85.371049),\n",
              " (39.88938, -82.88316),\n",
              " (38.15873, -80.90504),\n",
              " (39.9745, -83.09654),\n",
              " (41.47487, -81.72095),\n",
              " (39.26931, -84.4307),\n",
              " (38.2201, -85.82223),\n",
              " (41.48339, -81.66297),\n",
              " (39.16161, -84.51375),\n",
              " (41.42734, -82.08322),\n",
              " (41.52631, -83.62123000000003),\n",
              " (39.91732, -83.012335),\n",
              " (41.60867, -81.48891),\n",
              " (41.20554, -85.17116),\n",
              " (41.507189, -81.67124),\n",
              " (39.97415, -83.09486),\n",
              " (39.97043, -83.01961999999997),\n",
              " (39.93849, -82.84849),\n",
              " (39.89698, -83.03428000000002),\n",
              " (39.71452, -84.22281),\n",
              " (40.11468, -83.01644),\n",
              " (38.34244, -85.80447),\n",
              " (41.47036, -81.65984),\n",
              " (38.30056, -85.84703),\n",
              " (39.169389, -84.50389),\n",
              " (39.936838, -83.042661),\n",
              " (39.937567, -83.04209200000003),\n",
              " (39.9425, -82.53536),\n",
              " (39.27125, -84.35176),\n",
              " (41.398877, -83.616108),\n",
              " (39.24422, -84.30224),\n",
              " (40.412997, -80.07973299999998),\n",
              " (39.021521, -84.50784300000002),\n",
              " (41.12367, -80.76913),\n",
              " (41.073876, -83.66091999999998),\n",
              " (39.01992, -83.65886),\n",
              " (38.97914, -83.65465),\n",
              " (40.09927, -83.15793000000002),\n",
              " (39.93658, -83.00941999999998),\n",
              " (39.11543, -84.50003000000002),\n",
              " (41.474552, -81.711522),\n",
              " (39.78517, -84.18457),\n",
              " (41.47974, -81.6667),\n",
              " (38.27719, -85.69383),\n",
              " (38.495124, -85.771118),\n",
              " (39.73277, -84.20522),\n",
              " (41.458, -83.62243000000002),\n",
              " (39.045381, -84.462312),\n",
              " (41.526, -81.65974),\n",
              " (40.78725, -81.38592),\n",
              " (38.3657, -85.75495),\n",
              " (39.02575, -84.61272),\n",
              " (40.90923, -81.79765),\n",
              " (40.91649, -81.78869),\n",
              " (39.10051, -80.39199),\n",
              " (40.082643, -82.91367199999998),\n",
              " (41.47162, -81.90626),\n",
              " (40.08155, -82.91859000000002),\n",
              " (40.07976, -82.92689),\n",
              " (38.27511, -85.81238),\n",
              " (39.02908, -84.53565),\n",
              " (39.04455, -84.57798000000003),\n",
              " (39.83026, -81.45434),\n",
              " (39.81436, -81.46898),\n",
              " (38.41336, -82.3483),\n",
              " (38.20674, -85.74846),\n",
              " (38.10937, -85.70123000000002),\n",
              " (40.26758, -82.92745),\n",
              " (38.22285, -85.57436),\n",
              " (40.43827, -80.00527),\n",
              " (39.08272, -84.52264),\n",
              " (40.046599, -85.99359),\n",
              " (41.67904, -83.5732),\n",
              " (40.52225, -80.06666),\n",
              " (41.041763, -81.3932),\n",
              " (39.02541, -85.88784),\n",
              " (39.887572, -84.047499),\n",
              " (39.90803, -84.03969000000002),\n",
              " (39.8181, -81.45925),\n",
              " (39.8181, -81.45925),\n",
              " (39.81447, -81.46769),\n",
              " (41.47307, -80.36586),\n",
              " (41.460561, -80.366376),\n",
              " (39.75022, -84.19668),\n",
              " (39.16161, -84.51375),\n",
              " (39.82329, -84.166569),\n",
              " (39.818751, -84.167637),\n",
              " (39.15267, -84.5395),\n",
              " (40.480209, -85.719799),\n",
              " (39.02676, -84.61421),\n",
              " (40.480209, -85.719799),\n",
              " (40.48013, -85.72942900000002),\n",
              " (38.24863, -85.70467),\n",
              " (39.24907, -84.44561999999998),\n",
              " (39.18364, -84.48373000000002),\n",
              " (41.420898, -81.69322),\n",
              " (39.18976, -84.26285),\n",
              " (40.00921, -83.03149),\n",
              " (41.12369, -80.75595),\n",
              " (41.09705, -81.50012),\n",
              " (41.03011, -81.40292099999998),\n",
              " (39.9533, -83.0032),\n",
              " (39.91404, -83.01729),\n",
              " (39.11811, -84.49975),\n",
              " (39.73277, -84.20522),\n",
              " (41.47379, -81.69592),\n",
              " (41.47395, -81.69931),\n",
              " (39.62334, -81.83577),\n",
              " (39.98233, -82.98449000000002),\n",
              " (40.15106, -80.03243),\n",
              " (41.66332, -83.56385999999998),\n",
              " (39.35245, -84.37507),\n",
              " (41.67178, -83.6939),\n",
              " (38.38018, -82.60993),\n",
              " (39.03347, -84.603),\n",
              " (40.42116, -80.0438),\n",
              " (41.341147, -83.347543),\n",
              " (41.34131, -83.376561),\n",
              " (40.26758, -82.92745),\n",
              " (40.432459, -80.023538),\n",
              " (39.9912, -85.9188),\n",
              " (39.05654000000001, -84.54283000000002),\n",
              " (38.39328, -85.76223),\n",
              " (39.97165800000001, -80.017133),\n",
              " (39.98381, -80.01011),\n",
              " (39.84457, -85.51639399999998),\n",
              " (38.399528, -85.76430500000002),\n",
              " (38.38981, -81.76937),\n",
              " (41.47965, -81.66758),\n",
              " (39.97859, -82.9763),\n",
              " (40.68109000000001, -80.24616999999998),\n",
              " (41.47487, -81.72095),\n",
              " (40.68109000000001, -80.24616999999998),\n",
              " (40.1412, -82.97121),\n",
              " (39.85942, -84.27778),\n",
              " (39.10838, -84.50296999999998),\n",
              " (39.32662, -84.42002),\n",
              " (39.24907, -84.44561999999998),\n",
              " (41.11959, -81.64568),\n",
              " (39.04455, -84.57798000000003),\n",
              " (38.26109, -85.73695),\n",
              " (38.21911, -85.50582),\n",
              " (39.94976, -83.04032),\n",
              " (38.82584, -120.029214),\n",
              " (37.358209, -121.840017),\n",
              " (37.881943, -122.307987),\n",
              " (37.881038, -122.307788),\n",
              " (38.518811, -121.101664),\n",
              " (38.518811, -121.101664),\n",
              " (36.9903, -119.71146),\n",
              " (37.42592, -122.09879),\n",
              " (37.75745, -122.21131),\n",
              " (37.31648, -121.96746),\n",
              " (37.44415, -122.2688),\n",
              " (37.71981, -121.65943),\n",
              " ...]"
            ]
          },
          "metadata": {},
          "execution_count": 64
        }
      ],
      "source": [
        "list(zip(list(df.Start_Lat), list(df.Start_Lng)))"
      ]
    },
    {
      "cell_type": "code",
      "execution_count": 65,
      "metadata": {
        "id": "Xhrd6ugtxWjA"
      },
      "outputs": [],
      "source": [
        "from folium.plugins import HeatMap"
      ]
    },
    {
      "cell_type": "code",
      "execution_count": 66,
      "metadata": {
        "id": "E1muPXeQxm1U"
      },
      "outputs": [],
      "source": [
        "sample_df = df.sample(int(0.001 * len(df)))\n",
        "lat_lon_pairs = list(zip(list(sample_df.Start_Lat), list(sample_df.Start_Lng)))"
      ]
    },
    {
      "cell_type": "code",
      "execution_count": 67,
      "metadata": {
        "colab": {
          "base_uri": "https://localhost:8080/",
          "height": 583
        },
        "id": "P93O_aJpn7wa",
        "outputId": "42ff64ce-506b-42a4-b18f-5d47afadee8c"
      },
      "outputs": [
        {
          "output_type": "execute_result",
          "data": {
            "text/plain": [
              "<folium.folium.Map at 0x7fea84b5c8b0>"
            ],
            "text/html": [
              "<div style=\"width:100%;\"><div style=\"position:relative;width:100%;height:0;padding-bottom:60%;\"><span style=\"color:#565656\">Make this Notebook Trusted to load map: File -> Trust Notebook</span><iframe srcdoc=\"&lt;!DOCTYPE html&gt;\n",
              "&lt;html&gt;\n",
              "&lt;head&gt;\n",
              "    \n",
              "    &lt;meta http-equiv=&quot;content-type&quot; content=&quot;text/html; charset=UTF-8&quot; /&gt;\n",
              "    \n",
              "        &lt;script&gt;\n",
              "            L_NO_TOUCH = false;\n",
              "            L_DISABLE_3D = false;\n",
              "        &lt;/script&gt;\n",
              "    \n",
              "    &lt;style&gt;html, body {width: 100%;height: 100%;margin: 0;padding: 0;}&lt;/style&gt;\n",
              "    &lt;style&gt;#map {position:absolute;top:0;bottom:0;right:0;left:0;}&lt;/style&gt;\n",
              "    &lt;script src=&quot;https://cdn.jsdelivr.net/npm/leaflet@1.9.3/dist/leaflet.js&quot;&gt;&lt;/script&gt;\n",
              "    &lt;script src=&quot;https://code.jquery.com/jquery-1.12.4.min.js&quot;&gt;&lt;/script&gt;\n",
              "    &lt;script src=&quot;https://cdn.jsdelivr.net/npm/bootstrap@5.2.2/dist/js/bootstrap.bundle.min.js&quot;&gt;&lt;/script&gt;\n",
              "    &lt;script src=&quot;https://cdnjs.cloudflare.com/ajax/libs/Leaflet.awesome-markers/2.0.2/leaflet.awesome-markers.js&quot;&gt;&lt;/script&gt;\n",
              "    &lt;link rel=&quot;stylesheet&quot; href=&quot;https://cdn.jsdelivr.net/npm/leaflet@1.9.3/dist/leaflet.css&quot;/&gt;\n",
              "    &lt;link rel=&quot;stylesheet&quot; href=&quot;https://cdn.jsdelivr.net/npm/bootstrap@5.2.2/dist/css/bootstrap.min.css&quot;/&gt;\n",
              "    &lt;link rel=&quot;stylesheet&quot; href=&quot;https://netdna.bootstrapcdn.com/bootstrap/3.0.0/css/bootstrap.min.css&quot;/&gt;\n",
              "    &lt;link rel=&quot;stylesheet&quot; href=&quot;https://cdn.jsdelivr.net/npm/@fortawesome/fontawesome-free@6.2.0/css/all.min.css&quot;/&gt;\n",
              "    &lt;link rel=&quot;stylesheet&quot; href=&quot;https://cdnjs.cloudflare.com/ajax/libs/Leaflet.awesome-markers/2.0.2/leaflet.awesome-markers.css&quot;/&gt;\n",
              "    &lt;link rel=&quot;stylesheet&quot; href=&quot;https://cdn.jsdelivr.net/gh/python-visualization/folium/folium/templates/leaflet.awesome.rotate.min.css&quot;/&gt;\n",
              "    \n",
              "            &lt;meta name=&quot;viewport&quot; content=&quot;width=device-width,\n",
              "                initial-scale=1.0, maximum-scale=1.0, user-scalable=no&quot; /&gt;\n",
              "            &lt;style&gt;\n",
              "                #map_e6a7f75665b58742daea5f452f9d7c71 {\n",
              "                    position: relative;\n",
              "                    width: 100.0%;\n",
              "                    height: 100.0%;\n",
              "                    left: 0.0%;\n",
              "                    top: 0.0%;\n",
              "                }\n",
              "                .leaflet-container { font-size: 1rem; }\n",
              "            &lt;/style&gt;\n",
              "        \n",
              "    &lt;script src=&quot;https://cdn.jsdelivr.net/gh/python-visualization/folium@main/folium/templates/leaflet_heat.min.js&quot;&gt;&lt;/script&gt;\n",
              "&lt;/head&gt;\n",
              "&lt;body&gt;\n",
              "    \n",
              "    \n",
              "            &lt;div class=&quot;folium-map&quot; id=&quot;map_e6a7f75665b58742daea5f452f9d7c71&quot; &gt;&lt;/div&gt;\n",
              "        \n",
              "&lt;/body&gt;\n",
              "&lt;script&gt;\n",
              "    \n",
              "    \n",
              "            var map_e6a7f75665b58742daea5f452f9d7c71 = L.map(\n",
              "                &quot;map_e6a7f75665b58742daea5f452f9d7c71&quot;,\n",
              "                {\n",
              "                    center: [0, 0],\n",
              "                    crs: L.CRS.EPSG3857,\n",
              "                    zoom: 1,\n",
              "                    zoomControl: true,\n",
              "                    preferCanvas: false,\n",
              "                }\n",
              "            );\n",
              "\n",
              "            \n",
              "\n",
              "        \n",
              "    \n",
              "            var tile_layer_0fd3912b3ee90885475b03f0477ac1d5 = L.tileLayer(\n",
              "                &quot;https://{s}.tile.openstreetmap.org/{z}/{x}/{y}.png&quot;,\n",
              "                {&quot;attribution&quot;: &quot;Data by \\u0026copy; \\u003ca target=\\&quot;_blank\\&quot; href=\\&quot;http://openstreetmap.org\\&quot;\\u003eOpenStreetMap\\u003c/a\\u003e, under \\u003ca target=\\&quot;_blank\\&quot; href=\\&quot;http://www.openstreetmap.org/copyright\\&quot;\\u003eODbL\\u003c/a\\u003e.&quot;, &quot;detectRetina&quot;: false, &quot;maxNativeZoom&quot;: 18, &quot;maxZoom&quot;: 18, &quot;minZoom&quot;: 0, &quot;noWrap&quot;: false, &quot;opacity&quot;: 1, &quot;subdomains&quot;: &quot;abc&quot;, &quot;tms&quot;: false}\n",
              "            ).addTo(map_e6a7f75665b58742daea5f452f9d7c71);\n",
              "        \n",
              "    \n",
              "            var heat_map_1fc58c22f3a0abbea867715b5f077178 = L.heatLayer(\n",
              "                [[32.726475, -97.320368], [45.62518, -122.5597], [26.318789, -80.116392], [37.85515, -122.02963], [41.080275, -111.982717], [29.963549, -90.112448], [33.450751000000004, -117.640329], [32.759813, -97.183136], [30.320390000000003, -81.4586], [37.72297, -122.4477], [26.657263, -81.88223], [39.15318, -76.64036], [38.12909000000001, -79.03636], [33.683556, -117.858527], [27.295181, -82.530493], [34.06754, -117.55608], [27.889657, -82.848386], [35.227061, -78.641989], [44.586864, -92.982884], [36.216685, -119.37393], [33.953567, -117.387924], [44.892024, -93.275238], [29.608271, -82.41386700000002], [35.365401, -118.931989], [41.81928, -71.38756], [45.290182, -118.036154], [37.8974, -122.31172], [33.92685, -118.048125], [30.415617, -81.741381], [27.78635, -82.78423000000002], [45.241452, -123.861792], [39.04724, -76.62167], [27.729292, -82.74318199999998], [33.523684, -112.043855], [34.120767, -117.89014], [35.235577, -80.77496], [33.02740900000001, -117.229782], [27.298862, -82.526444], [38.23748, -122.62016], [39.1754, -94.5341], [35.176103000000005, -80.874909], [25.730304, -80.33560899999998], [29.733953000000003, -95.539183], [25.685221, -80.422499], [33.865578, -118.290531], [40.54976, -111.89592], [38.828603, -77.633416], [29.717751, -95.535976], [47.25871, -122.53009], [30.310118, -97.710059], [39.32437, -120.395854], [28.449056, -81.401078], [33.975108, -118.384369], [39.584105, -77.635674], [25.73589, -80.319411], [33.46141, -112.015104], [41.8334, -88.02566999999998], [34.636467, -112.412977], [34.045383, -117.944518], [36.844893, -76.26911700000002], [41.185694, -80.280865], [30.540329, -84.601067], [33.329840999999995, -117.16079], [42.2695, -88.07374], [41.001765, -73.651549], [35.946732, -78.536978], [27.447777, -82.5738], [43.009103, -85.075098], [40.57156, -74.32871999999998], [45.561622, -122.920264], [42.870179, -124.46765], [37.7392, -121.59158], [40.302954, -75.291882], [31.67007000000001, -106.2488], [38.43826, -122.71887], [37.89065, -122.30779], [33.85974, -118.29428], [41.702841, -93.578844], [38.61649, -121.53947], [37.943522, -122.323898], [36.107114, -86.719797], [30.153873, -97.791718], [40.10645, -82.9802], [25.734148, -80.28236700000002], [39.90923, -86.04285], [38.713744, -121.377733], [29.6665, -82.30183000000002], [41.544392, -73.07318599999998], [38.563713, -121.636483], [36.88231, -121.55982], [40.633966, -122.735583], [40.729588, -73.878488], [34.17715, -118.468424], [37.71127, -121.71885], [33.78153, -84.39121], [36.988768, -120.091906], [33.638605, -112.349839], [35.148689000000005, -80.831998], [37.728562, -121.107856], [37.484908, -121.938232], [39.431117, -123.806231], [35.707219, -78.615229], [34.052959, -117.54776], [40.46107, -74.41673], [35.527674, -77.144192], [28.50579, -81.58708], [41.5516, -73.051738], [42.942072, -124.445113], [33.976555, -118.213513], [43.01765200000001, -83.692825], [42.45927, -88.09184], [34.500246999999995, -81.848469], [29.153166, -82.16727], [33.462601, -80.521501], [38.879081, -77.253209], [42.40517, -83.42478], [35.112229, -89.86989100000002], [32.855828, -79.989451], [37.73475300000001, -122.191375], [46.583268, -92.584264], [38.012598, -122.001982], [38.67850900000001, -121.332525], [36.987356, -121.98793899999998], [43.604957, -116.355981], [38.877501, -77.274762], [41.182006, -112.015315], [35.088978000000004, -106.547145], [40.064761, -80.990034], [25.949326, -80.148812], [33.69206, -84.40299], [28.663541, -81.366553], [39.193114, -76.072479], [25.708586, -80.366559], [33.931044, -118.368524], [29.71491, -95.26631], [33.838302, -117.876194], [29.736832, -95.571701], [38.496404, -121.446465], [34.478569, -82.657894], [25.687169, -80.361937], [41.90542, -87.98835], [42.42851, -83.09448], [35.025406, -85.27529799999998], [34.030044000000004, -117.706845], [46.18006, -123.86432], [39.065288, -77.037141], [34.99126, -85.401595], [34.63636, -86.56679], [39.125951, -77.542887], [44.790346, -93.242627], [28.53546, -81.310448], [41.174177, -79.73925600000003], [37.99965, -122.07622], [25.823927, -80.240871], [40.77299, -73.99320999999998], [40.636687, -111.9767], [35.26054699999999, -80.795212], [38.628308, -77.293058], [34.877728999999995, -117.068777], [42.47215, -83.11028], [26.045612, -80.162826], [43.10066, -87.91825], [28.549709000000004, -81.379141], [42.77406, -73.69658000000003], [38.90842, -94.77624], [40.55018, -111.89602], [33.876983, -118.147963], [34.419391999999995, -119.295826], [38.647442, -120.696261], [34.760279, -92.380099], [32.303661, -95.315169], [45.5103, -93.001295], [44.337848, -120.947123], [25.829465, -80.24919], [34.07584, -117.62046], [37.873939, -79.311965], [41.045659, -111.956534], [45.015142, -123.416877], [25.945159, -80.170278], [25.694364, -80.305451], [48.1847, -122.19985], [36.76186, -119.892453], [39.895981, -75.108064], [34.017488, -118.422463], [33.49918, -112.26627], [45.164664, -122.487091], [35.15687, -80.98388], [28.183546000000003, -82.74006], [38.530633, -77.359564], [33.582576, -84.279845], [37.603895, -77.467484], [39.759866, -106.138047], [40.38707, -75.46888], [43.15935, -76.44719], [36.676205, -121.640933], [33.917169, -118.103464], [36.88275, -76.4309], [40.64354, -121.24831], [42.56244, -123.37173], [45.710839, -121.549333], [42.46528, -87.93794], [27.463535, -80.416005], [41.091315, -76.882933], [29.732999, -95.489829], [33.46559, -111.9785], [38.547753, -81.635187], [34.833394, -81.984161], [38.50924000000001, -122.77288], [27.85062000000001, -82.66684000000002], [29.668888, -95.262164], [34.704654999999995, -82.304936], [36.083064, -95.904354], [33.49135, -112.11296000000002], [28.55297, -81.395938], [40.133336, -75.113765], [33.883331, -117.536862], [43.096655, -83.689173], [35.111207, -120.093985], [38.665362, -121.355208], [27.96506, -82.44955999999998], [33.115554, -117.098867], [37.989589, -122.06728], [42.911844, -85.647046], [42.903403, -78.901158], [38.785567, -121.027026], [33.923342, -118.103681], [29.33556, -82.15154799999998], [28.053039, -82.333005], [33.606694, -112.116862], [39.086548, -77.173925], [39.670461, -86.364737], [45.589882, -118.551417], [25.925727, -80.280991], [34.127088, -118.474797], [32.752097, -117.108945], [41.93925, -88.11071], [28.507811, -81.417208], [45.438532, -123.829792], [38.7566, -111.440109], [30.510594, -87.22410699999998], [27.776643, -82.644897], [34.8857, -82.45630799999998], [34.0412, -118.06911], [36.118861, -80.656296], [33.952801, -118.280221], [32.764393, -96.856713], [35.784683, -78.642772], [25.751305, -80.311702], [42.29483, -71.50488], [37.718091, -121.700873], [37.211519, -122.156306], [35.132738, -85.281887], [29.867562, -81.396754], [35.22593, -80.82829], [28.393534, -81.618998], [37.531264, -77.430036], [30.46009, -97.79344], [34.042283000000005, -118.387317], [33.738398, -86.490751], [38.60702, -121.43153999999998], [39.82243, -86.198621], [38.990865, -76.933973], [43.051747, -76.1418], [44.50166, -92.53659], [33.958626, -118.281607], [25.92733, -80.217706], [36.233457, -86.81929699999998], [38.473017, -122.730338], [45.345995, -118.151274], [25.62705, -80.39022299999998], [34.311549, -118.486903], [33.177935, -117.228106], [33.104965, -82.024637], [36.201862, -121.725794], [29.47530900000001, -81.241453], [33.698769, -117.861574], [34.02753, -118.252045], [39.319139, -120.61021], [25.598565, -80.35525200000002], [27.821102000000003, -82.675432], [37.321232, -121.834055], [29.78497, -95.59269], [34.16149, -86.47522], [32.023720000000004, -81.22576], [42.26937, -83.214], [32.297261, -110.999454], [45.11558, -123.31674], [32.768879, -96.823489], [32.848359, -96.813615], [43.621044, -116.354633], [30.472446, -87.315949], [37.51146, -121.93772], [34.081853, -117.702637], [39.84492, -75.39289000000002], [34.308325, -118.429305], [35.0878, -80.84506999999998], [35.720384, -78.54789699999998], [28.56736, -81.286006], [42.79571, -86.10905], [27.712401, -82.36313], [25.851503, -80.19295], [38.398745, -81.776483], [39.04746, -94.4519], [29.729591, -95.309221], [42.245424, -88.125314], [47.605583, -122.328626], [38.711426, -121.322924], [41.96416, -80.33707], [37.43392, -77.60985], [35.309144, -80.718788], [44.826618, -123.014782], [28.669805, -81.38891600000002], [42.723101, -123.372421], [33.833247, -84.21764399999998], [36.862137, -76.29990500000002], [34.151762, -118.12123400000002], [28.395931, -81.244259], [45.53255, -122.620305], [35.25438, -80.87276999999997], [28.449055, -81.470923], [32.86868, -117.2294], [33.438459, -86.73494699999998], [25.580535, -80.369558], [45.551236, -122.563809], [41.76053, -72.65326999999998], [36.917887, -76.26799], [34.00445, -117.83033], [35.963055, -83.951145], [41.72328, -87.94363], [30.2643, -97.7351], [25.810836, -80.255562], [33.808805, -118.29042], [44.988509, -93.349553], [27.95412, -82.45579000000002], [37.622104, -120.66397], [28.262675, -80.698332], [37.667459, -122.110765], [35.162882, -80.876029], [40.320585, -104.811254], [41.770197, -76.41917], [33.96385, -118.36992], [37.9056, -122.51543999999998], [40.715836, -73.813351], [37.935722, -122.700168], [34.081994, -117.710671], [39.901429, -75.15244200000002], [37.712542, -122.407345], [38.519349, -121.439995], [32.631393, -96.82307], [44.113689, -92.517547], [36.216213, -86.77528000000002], [32.975159999999995, -117.25118], [38.95298, -93.08523], [41.01495, -76.48455], [32.450965999999994, -83.669353], [36.903349, -121.748312], [41.809307, -85.66253], [32.424887, -93.739545], [37.339686, -84.307397], [33.095176, -80.119553], [41.87113, -88.1948], [36.56642100000001, -121.91302], [27.834523, -82.349917], [41.347913, -95.982012], [27.96068, -82.77497], [25.888473, -80.32400799999998], [47.58315800000001, -122.301818], [32.677661, -80.840324], [32.856428, -96.770232], [40.272285, -77.021225], [32.869068, -96.900195], [27.99803, -80.58945], [45.56996, -122.67873], [36.087022, -86.771902], [28.449055, -81.470923], [45.62533, -123.08558700000002], [36.137586, -86.800763], [45.662838, -108.769122], [29.998046, -82.592733], [35.81831, -78.60829], [43.18735, -123.37121], [39.652479, -77.9158], [32.687824, -117.114717], [42.44117, -96.37516], [32.925055, -96.839523], [40.48278, -78.402537], [34.050225, -118.262592], [30.233122, -97.795763], [34.105611, -118.254352], [41.301373, -72.913781], [38.988417, -76.987685], [36.430647, -119.914158], [34.012457, -118.162975], [33.846607, -118.205578], [34.067208, -117.191197], [46.87775, -96.967105], [34.186514, -118.161967], [46.31704000000001, -92.8278], [38.269666, -122.052997], [29.965823, -90.046649], [37.24076, -93.297551], [39.227, -76.70149], [47.948076, -97.685717], [37.84625, -84.32883000000002], [37.551213, -77.428297], [34.11464, -118.481851], [34.067414, -117.427969], [35.26685399999999, -119.023148], [25.768146, -80.20009], [40.905448, -74.724397], [27.211085, -80.334326], [40.716187, -73.40953499999998], [34.18205, -118.39717], [34.757426, -82.475706], [45.91536, -119.355468], [34.227920000000005, -118.39076], [41.343181, -73.925802], [30.401201, -91.052906], [33.652653, -117.671704], [36.805435, -119.736109], [36.8235, -76.432968], [33.61485, -117.70758], [42.93656, -78.76644], [38.505378, -120.759161], [33.930913000000004, -118.17868], [39.49488, -76.67192], [40.06845, -76.3026], [33.604877, -117.690468], [37.6414, -122.09548999999998], [28.423899, -81.404781], [41.24178, -81.04885999999998], [33.952622, -118.28057], [33.932598, -117.410465], [35.148053000000004, -80.829296], [37.36338, -77.07472], [41.88212, -87.77472], [33.85907, -118.28964], [36.9673, -120.617625], [38.518001, -121.463855], [34.26965, -118.4467], [45.30666, -93.820034], [33.608826, -117.927578], [25.875198, -80.32347800000002], [32.982941, -86.689971], [44.464019, -118.205326], [37.757045, -121.963631], [48.17921, -122.19494], [30.314641, -81.668471], [34.889031, -81.74794399999998], [40.428582, -74.229093], [27.103964, -82.434198], [33.070458, -117.069345], [41.178141, -73.17590799999998], [34.184435, -79.761136], [43.956795, -70.329538], [40.35031, -83.51524], [41.82031, -88.47287], [43.876379, -94.429111], [39.594379, -104.884479], [25.627037, -80.41460699999998], [33.810911, -118.290395], [39.01898, -76.95983000000003], [25.76972, -80.333946], [35.332031, -82.432886], [40.906509, -74.163004], [44.863303, -93.140105], [38.03242, -78.59819], [40.764772, -111.986516], [33.674652, -117.318833], [25.970295, -80.165723], [34.133047999999995, -118.07331200000002], [37.77268400000001, -121.323991], [26.545118, -81.78617], [28.55113, -81.20429], [33.986304, -117.346364], [40.034208, -75.353436], [37.596641, -77.487677], [35.077853000000005, -82.026902], [36.842404, -121.457709], [41.044743, -124.11705], [33.585519, -84.379049], [40.454045, -124.05197], [34.074071999999994, -117.400834], [32.80296, -116.92759], [34.13576, -117.58502], [30.005823, -90.004897], [35.798872, -78.494288], [33.99475, -117.36075], [38.342515, -75.081588], [33.850178, -78.777066], [33.36334, -112.06598], [34.742859, -92.328844], [41.010276, -111.936799], [34.045689, -117.954341], [29.978743, -90.060108], [33.822414, -84.164904], [39.239919, -120.75254], [33.854017, -117.937554], [36.469, -86.68267], [39.014299, -121.689801], [25.630882, -80.38252800000002], [47.40107, -92.92643], [36.142015, -86.627537], [33.896214, -118.187654], [38.96374, -77.23093], [33.38656, -111.52154], [35.894116, -119.275145], [32.608847999999995, -96.823117], [29.996788, -90.135285], [38.244553, -122.081414], [35.83288, -78.63731999999997], [33.82818, -84.48708], [37.79271, -121.190175], [47.59362, -122.18146000000002], [39.800906, -84.219102], [39.39908, -112.06128], [34.402205, -119.2868], [25.89659, -80.28648000000003], [43.108068, -123.356067], [45.214068, -109.242463], [40.76444, -111.971491], [37.654297, -122.105118], [34.93986, -118.93008], [44.760178, -124.062734], [39.24708, -76.68481700000002], [36.066495, -86.583495], [34.466359999999995, -92.91829], [35.752739, -78.64931700000002], [29.165394, -82.64112], [41.189079, -73.193588], [34.137471000000005, -118.22908], [25.583199, -80.327687], [32.907539, -96.729608], [36.588162, -119.304244], [30.369339, -97.71061], [30.417324, -91.14523], [28.218148, -82.736858], [33.494240000000005, -112.2551], [43.17081, -117.03629], [44.8594, -93.414416], [34.27544, -118.65719], [30.465598, -87.248159], [39.001132, -75.455077], [32.79135, -96.81363], [38.747474, -77.258315], [34.238479, -118.415529], [40.807718, -73.926604], [38.64347, -90.18767], [28.545044, -81.59843000000002], [35.352276, -118.989411], [33.997051, -117.866027], [34.131013, -117.206751], [39.277062, -76.473348], [30.48197, -97.789527], [44.384561, -93.443387], [37.549623, -121.919057], [44.16681, -93.94881], [39.083126, -78.218339], [41.308089, -72.914274], [36.059679, -95.868526], [25.594514, -80.37414799999998], [37.730406, -122.404139], [43.945312, -121.350382], [37.328249, -121.110674], [25.833295, -80.205736], [34.347076, -82.56468199999998], [35.443729, -82.537976], [34.06496, -118.15803], [33.757031, -117.856326], [33.00473, -111.75198], [36.754849, -119.754011], [37.25052, -76.640625], [42.993868, -83.729456], [28.576429, -81.45146899999997], [39.14127, -94.565065], [41.052792, -84.964454], [25.943569, -80.121239], [33.945481, -118.29671299999998], [33.383838, -117.227798], [37.793322, -122.263509], [40.571302, -74.29300400000002], [39.894114, -118.85024], [32.237564, -80.962293], [43.15932, -77.63886], [39.190271, -76.81260400000002], [29.973753, -90.119982], [34.136249, -117.483265], [34.248568, -117.18957], [39.61085300000001, -75.913123], [35.80264000000001, -78.5936], [47.822508, -122.276645], [33.83242, -118.20899], [32.798418, -96.778828], [33.882046, -118.13393700000002], [35.087839, -81.696724], [38.640522, -121.327986], [37.209356, -120.99419], [38.338987, -75.082228], [35.239442, -80.969617], [47.26192800000001, -122.326101], [36.241315, -86.75715100000002], [42.262048, -123.027076], [33.84788, -117.856112], [33.917043, -118.050467], [33.96015, -118.24745], [36.988329, -122.007508], [37.432564, -105.484316], [45.222721, -93.603378], [33.74971, -118.01095], [37.822283, -122.259702], [33.1658, -87.545027], [40.1139, -75.15247], [48.375777, -114.324573], [33.67905, -114.08101200000002], [40.640369, -75.275176], [39.334133, -76.48989499999998], [40.90172800000001, -74.111347], [40.538411, -111.89321], [35.038048, -85.143633], [33.767228, -117.921613], [33.818893, -118.195841], [46.034291, -95.8283], [40.945102, -77.71623199999998], [33.72141, -84.23709000000002], [35.66525, -78.69936], [38.809397, -77.491664], [39.977511, -75.27529799999998], [39.079259, -77.17049], [40.32507, -74.36098], [27.59476, -81.895689], [40.86262, -74.40947], [33.940926, -117.268404], [40.6598, -111.86582], [34.171955, -118.607031], [30.18695, -81.51387], [30.504632, -91.141253], [39.5074, -77.747258], [33.659040999999995, -117.884], [35.207501, -80.79771600000002], [35.645484, -78.833383], [38.661061, -121.613764], [39.02026, -94.50114], [29.736718, -95.60592], [36.18758, -86.776038], [36.158505, -96.05131], [34.045704, -117.803274], [36.902389, -84.13404], [33.28543, -83.93422], [32.696138, -117.121134], [41.667607, -72.66448000000003], [34.048638000000004, -118.244932], [37.48245, -77.35678], [25.643213, -80.334324], [25.898042, -80.241702], [45.703488, -118.683301], [30.367386, -87.338673], [29.922118, -89.997948], [44.705556, -122.804405], [33.691494, -117.868475], [37.952867, -122.327994], [33.01044, -117.26452], [37.974189, -121.339498], [33.604754, -117.69048], [45.05414, -123.48857], [41.387878, -79.81731500000002], [30.220666, -81.592101], [40.699866, -111.89542], [37.413205, -120.755413], [35.25232800000001, -80.809223], [44.952963, -93.08281], [32.917064, -117.115797], [40.02274, -82.96471], [30.050525, -95.22597], [34.072166, -118.100845], [33.781088000000004, -117.278578], [40.002818, -75.220333], [41.13617, -81.79576], [34.15187, -118.125633], [34.029013, -118.210868], [37.916297, -84.55729699999998], [34.13462, -117.335398], [38.345807, -85.748266], [34.170297, -118.304497], [40.847092, -73.933364], [45.01679, -93.34926], [41.07254, -74.65576999999998], [45.57272, -93.21683], [32.393071, -93.763405], [40.63475, -111.896998], [29.808294, -95.492054], [38.74267, -76.9917], [45.50689000000001, -122.71238999999998], [38.44905, -122.72591], [33.770945000000005, -117.991178], [26.0817, -80.16351800000002], [40.766539, -124.180686], [28.568215, -81.271151], [37.79271, -121.190175], [45.745664, -119.104939], [41.89099, -87.65065], [25.77818, -80.165234], [34.070282, -117.864295], [32.444720000000004, -93.729804], [33.384170000000005, -117.57939], [34.915491, -82.71876800000003], [38.075692, -119.172553], [29.12495, -82.184914], [27.047155, -82.261336], [44.766203, -124.064712], [41.794062, -72.55996999999998], [40.716588, -111.88825], [35.512713, -82.601116], [38.75411, -90.45436], [30.314042, -81.652397], [39.969818, -75.125637], [42.11613, -87.77745], [37.575055, -122.046888], [33.745308, -84.392172], [38.051216, -78.500667], [37.3172, -121.93203], [37.889707, -122.308237], [36.658533, -119.45751], [38.588857, -121.410738], [45.1595, -93.03112], [40.108234, -75.144159], [28.45087100000001, -81.296313], [38.63583, -90.40021], [41.062825, -73.86196899999999], [43.413726, -118.58933], [34.173157, -118.535976], [26.693975, -81.781339], [34.45183, -118.614755], [28.355013, -81.677134], [32.902861, -96.897794], [25.74809500000001, -80.308588], [45.311425, -121.801182], [25.823117, -80.206385], [38.913516, -77.09753], [37.023475, -76.380581], [26.36322, -80.11997], [42.009039, -87.904175], [40.698572, -78.605873], [33.916589, -117.55707], [39.110713, -94.565329], [32.958984, -117.245568], [35.46998, -97.72775], [34.60171, -118.14244], [34.020235, -118.18396], [33.872705, -118.28521299999998], [38.006799, -84.49600000000002], [38.0025, -120.428246], [35.24954, -80.789911], [47.312918, -122.298177], [32.778793, -117.106071], [32.232721999999995, -111.053254], [30.427251, -86.630105], [37.764957, -121.410652], [38.825886, -77.43759], [45.473762, -122.56575], [38.135911, -77.509652], [28.551347, -81.447505], [36.990909, -77.39191], [33.893302, -118.045744], [35.81587899999999, -81.306022], [25.897997, -80.24355], [33.926721, -81.290019], [36.140116, -86.723295], [45.4079, -122.53775], [34.979513, -82.005912], [25.928151, -80.200342], [34.02187, -117.99054], [36.51544000000001, -80.889036], [38.43298, -121.399524], [35.67004, -88.83306], [36.330773, -94.004702], [34.145587, -117.2874], [25.713701, -80.289787], [33.854001000000004, -117.959244], [35.90510399999999, -78.771322], [35.207029, -120.62893400000002], [34.739574, -114.244304], [30.254815, -97.715015], [42.471266, -88.09356], [37.613936, -120.938742], [39.95278, -83.01775], [42.808024, -121.835043], [40.960272, -76.89210899999998], [34.028059000000006, -79.991937], [28.379969, -80.755053], [34.444365000000005, -82.494642], [33.914838, -118.077915], [29.783587, -95.360623], [32.841746, -117.113417], [28.607794, -81.29265], [42.74236, -84.50986], [33.433602, -79.277473], [34.056937, -118.27651000000002], [38.550388, -77.34358], [30.592986, -87.00125799999998], [39.01945900000001, -77.380643], [35.886654, -78.7274], [30.460192, -91.008332], [45.49834, -122.7907], [42.186553, -88.101617], [41.389195, -73.54190600000003], [33.833706, -117.368469], [28.036357, -82.502832], [37.615375, -120.977981], [26.299842, -80.197266], [36.769126, -76.26053399999998], [39.57179, -75.054], [33.530276, -86.707488], [38.108342, -122.509199], [35.234936, -80.940985], [38.30789, -122.30519], [32.90375, -117.11655], [44.738422, -92.928907], [38.889114, -122.604391], [33.775743, -117.853037], [29.521627, -98.480648], [40.68359, -74.09467], [42.50241, -71.13219000000002], [28.368340000000003, -81.513072], [33.48295, -112.08306], [44.950597, -123.22854], [29.96813, -90.069423], [34.072422, -117.926685], [43.92268, -90.269155], [33.872858, -117.880574], [40.770223, -73.947703], [45.624906, -111.072779], [45.541492, -122.678694], [45.64468, -122.56487], [40.05197, -75.53771], [26.203683, -80.130448], [42.78472, -121.83634], [35.640883, -78.565454], [45.5882, -94.05167], [34.304129, -117.463869], [37.36434000000001, -121.901809], [35.923117, -84.068579], [43.72645, -123.20397], [43.094505, -75.836251], [27.369185, -80.411113], [38.024921, -122.115244], [40.727305, -73.929076], [38.830071, -91.016825], [37.80763, -122.30404], [30.385791, -82.872716], [33.856109000000004, -118.095516], [37.82629, -121.99609], [25.840026, -80.312511], [37.66896, -122.1094], [27.44131, -82.459082], [38.433206, -122.869349], [41.829762, -71.417764], [33.91464000000001, -84.35777], [41.177079, -111.949244], [29.156098, -82.134349], [28.540779, -81.31064599999998], [41.02947, -81.50497], [25.840825, -80.324761], [35.557647, -119.474204], [39.732061, -75.64235500000002], [40.27601, -75.60838000000003], [38.366577, -81.581753], [35.027557, -81.871737], [34.151678000000004, -118.094919], [39.747408, -86.140526], [33.989435, -118.070143], [27.495253, -81.672152], [47.645803, -114.242022], [25.921103, -80.191582], [33.235972, -87.55154], [37.367433, -121.900983], [42.437595, -123.278602], [34.443849, -118.609174], [44.690011, -93.021637], [38.91306, -77.1154], [38.588389, -121.291479], [33.46222, -112.052825], [38.951264, -77.196646], [44.41448, -122.0444], [38.879397, -77.253006], [34.08747, -117.64564], [32.659789, -97.321368], [36.182152, -119.328681], [39.556882, -74.461435], [33.741929, -117.66756], [35.585746, -80.857667], [32.482731, -93.797234], [39.2997, -75.630045], [45.257416, -122.335113], [41.916082, -91.307208], [34.03663, -118.270121], [40.16433, -75.12208000000003], [37.358647, -121.87141499999998], [41.12898, -78.762569], [29.848756, -95.512917], [28.531124, -81.396294], [30.227940000000004, -81.76266], [40.9241, -74.95613], [43.45443, -124.22838], [38.84737, -77.42849], [33.18199, -117.302054], [38.49615, -122.756384], [25.796982, -80.336225], [47.390809, -114.202872], [40.79384, -73.93188], [34.033432, -84.577184], [32.470539, -93.74604], [34.135163, -117.961386], [38.83858, -76.94596], [43.593582, -116.425134], [28.605784000000003, -81.307547], [30.268439, -97.744106], [40.725921, -73.902121], [30.257538, -81.856909], [33.975767, -117.889387], [38.866692, -77.360615], [34.127583, -118.273705], [39.035872, -105.75391100000002], [35.73517800000001, -120.209345], [41.551805, -73.047741], [33.558758000000005, -112.113772], [42.890625, -78.76759], [38.340874, -120.591696], [30.618982, -86.96313599999998], [34.069699, -118.027369], [30.321503000000003, -81.69754300000002], [26.547039, -81.819934], [42.689653, -73.816447], [33.831529, -118.30162], [41.658471, -86.90879699999998], [29.680411, -95.419177], [30.280219, -97.540558], [35.482591, -120.661721], [40.208596, -75.30569200000002], [34.200537, -81.364228], [44.084226, -123.046531], [32.2068, -110.9382], [30.433709000000004, -91.042721], [36.736673, -119.700124], [35.200752, -120.60896], [33.82594, -118.23702], [41.667607, -72.66448000000003], [26.3124, -80.11719000000002], [41.77053, -72.677419], [47.806905, -122.305898], [26.368335, -80.11828], [39.878751, -75.10297800000002], [25.760897, -80.358795], [28.473612, -81.455179], [29.730482, -95.501126], [41.514812, -73.049458], [32.909814000000004, -96.449607], [35.225654, -118.568454], [40.425932, -103.221081], [33.090556, -117.080302], [41.183423, -112.013477], [47.933238, -97.173297], [33.912402, -84.383765], [38.42245, -121.48642], [32.88808, -96.890437], [33.40672, -112.09944], [39.04587, -94.409921], [38.306912, -119.314152], [32.85002, -96.771423], [34.15815, -118.46925], [29.40065, -98.51157], [40.92231, -73.817991], [43.668111, -116.672841], [40.772639, -73.674511], [37.889255, -121.62303], [40.472336, -75.860455], [36.046561, -86.661261], [33.994048, -117.887774], [41.019215, -73.631721], [33.874635999999995, -118.101965], [37.355521, -120.63551499999998], [38.56509000000001, -121.49801], [39.904907, -86.07001600000002], [34.08254, -117.69827], [29.5527, -98.58605], [39.12664, -77.789238], [43.210769, -86.205235], [34.029719, -118.403062], [33.814408, -118.176318], [33.490278, -86.822627], [43.07224, -76.08933], [34.963913, -81.150184], [27.308271, -82.48221099999998], [33.995959, -118.068091], [34.148976, -118.040357], [46.319786, -92.827187], [41.392445, -73.533263], [33.775237, -118.086443], [37.11199000000001, -80.443415], [32.902562, -117.222383], [42.051447, -75.493851], [26.06459, -80.24829], [40.728001, -74.13674499999998], [35.80116599999999, -78.683962], [34.11663, -118.26895], [33.365132, -111.563471], [44.841044, -93.244636], [40.434097, -74.388502], [39.522651, -80.010373], [26.605557, -81.87190799999998], [39.391855, -76.71288299999998], [30.320775, -81.688448], [30.228445, -97.888533], [38.859084, -77.36403], [40.768193, -111.939107], [37.50629, -77.715189], [34.750131, -114.564002], [24.623188, -81.602725], [38.553584, -76.042736], [42.94675, -85.67545], [38.70182, -76.87594], [40.73213, -73.84300999999998], [40.727359, -73.37306099999998], [40.53911, -76.39024599999998], [38.565782, -77.801513], [45.564112, -122.926214], [35.08187, -89.89745], [38.577995, -121.507371], [34.03042, -117.61545], [28.236378, -82.349739], [45.18312, -122.803085], [34.102495000000005, -80.959754], [38.895848, -77.272401], [33.916342, -118.309041], [34.26965, -118.4467], [33.96135, -84.06869], [44.885061, -93.410514], [40.86943, -72.62446], [35.264321, -81.08424000000002], [29.24585, -81.04160999999998], [33.945909, -81.255323], [27.91827, -82.61333], [33.96747, -118.232838], [44.77565, -93.31823], [34.023081, -118.17001], [33.68588, -117.86374], [34.05819, -118.25402], [35.401465, -78.494821], [33.668214, -112.108494], [31.464772, -84.117855], [43.36481, -123.32902], [34.22817, -117.288641], [28.60259000000001, -81.31508199999998], [48.070087, -114.107641], [41.91299, -87.66664], [45.74554000000001, -94.98637], [25.626431, -80.411215], [44.88165, -119.710839], [33.77537, -117.84701], [34.040194, -118.017156], [33.743326, -117.110879], [32.665585, -117.079859], [33.682896, -117.857078], [40.066001, -76.327124], [35.181408000000005, -80.891864], [42.414541, -88.07219], [35.725175, -79.741262], [34.095334, -118.2545], [42.786762, -85.66819], [42.914806, -85.647238], [45.35734, -92.909503], [25.888174, -80.164039], [33.710907, -117.954508], [45.52818, -122.667983], [41.639753000000006, -72.342518], [27.470986, -81.535234], [45.15003400000001, -93.391724], [33.117490000000004, -111.84189], [35.77595, -83.09879000000002], [38.27571, -85.749236], [37.926857, -122.512132], [43.375043, -124.289262], [28.361245, -81.500502], [28.333136, -81.588121], [25.773435, -80.165184], [34.445765, -117.572729], [37.71122, -122.16472], [29.753925, -95.586394], [25.629064, -80.335585], [45.003567, -123.368063], [42.700758, -70.967621], [40.853374, -73.961688], [37.57601, -77.46281], [34.128313, -117.961976], [38.63858, -121.27152], [33.657851, -117.777761], [38.619158, -121.417533], [32.79497, -96.719389], [38.707977, -76.87797900000002], [42.838708, -83.735185], [33.342742, -87.027744], [39.019219, -77.380848], [39.02959600000001, -76.685406], [36.961473, -120.06253], [25.900322, -80.165477], [28.349598, -81.577851], [36.948706, -120.04788], [38.463828, -121.334674], [25.522032, -80.390884], [37.822698, -122.260912], [34.938529, -89.995397], [45.346286, -122.96251399999998], [34.278349, -118.421249], [37.533116, -122.277189], [35.37596, -118.954805], [29.607237, -95.209858], [34.041354, -118.071712], [40.67532, -73.8017], [33.523684, -112.043855], [42.153607, -88.01391], [34.117752, -118.269591], [25.935213, -80.162502], [34.884583, -82.354303], [37.296206, -80.088771], [42.48484000000001, -83.26925], [27.93485200000001, -82.401916], [39.787655, -105.068953], [34.222043, -119.130643], [34.150706, -118.809866], [27.275265, -80.35952900000002], [33.903816, -79.81053399999998], [28.484197, -81.458986], [43.02856, -77.942065], [35.230044, -80.808389], [35.08524, -106.63594], [34.073388, -117.475583], [35.834065, -78.67267700000002], [41.727657, -72.757494], [41.793153, -78.24629499999998], [35.2446, -80.927061], [34.767061, -81.037076], [26.682195, -81.897481], [39.829721, -77.234972], [34.013259999999995, -118.159386], [25.942301, -80.31118599999998], [29.662206, -95.355597], [39.299269, -76.530487], [29.703619, -95.587765], [27.737448, -82.33520899999998], [47.7086, -122.325597], [35.77681, -78.63501], [33.87262800000001, -118.281212], [35.209055, -80.757341], [32.86365, -97.00566], [37.350821, -77.356374], [25.771052, -80.3123], [32.28281, -110.97827], [39.019595, -122.676385], [47.54362800000001, -92.556333], [36.12948, -115.24312], [35.165056, -80.79366999999998], [35.058203000000006, -81.358081], [33.612528999999995, -117.118631], [35.20349, -80.74661], [40.0715, -75.34525], [30.488299, -83.973314], [43.231668, -77.73357299999998], [34.149992, -79.396722], [40.593804, -77.588552], [45.03601, -92.81197], [43.04996, -88.03973], [45.532305, -122.575633], [47.84466, -122.25858999999998], [34.8744, -82.19921], [40.043292, -75.003169], [30.463973, -81.648329], [39.912975, -75.571826], [29.42976, -98.48092], [30.45406, -91.00831], [38.974549, -121.609703], [28.012701, -82.545379], [44.883072, -93.17007], [46.724956, -92.132193], [32.670352, -117.111212], [45.58352, -122.76803999999998], [33.71752, -85.02075], [44.75786, -123.0498], [25.702496, -80.33094799999998], [32.795986, -96.804973], [34.90895, -120.344601], [39.03039, -76.85348], [37.976597, -78.74967600000002], [43.157501, -77.665373], [33.80084, -118.20691], [45.933062, -93.125519], [33.726039, -117.804256], [36.07684, -87.02346], [41.43748, -81.77991999999998], [43.17648, -89.32083], [38.61673, -121.51317], [38.904327, -119.999093], [44.550508, -93.849332], [34.050174, -118.222768], [35.75644000000001, -78.67153], [42.37931, -87.94218000000002], [34.1397, -80.917187], [42.963661, -83.771697], [44.771853, -123.915201], [37.86644, -122.03878], [45.346286, -122.96251399999998], [34.561170000000004, -118.13291], [26.390415, -80.099676], [25.941869, -80.30255799999998], [28.635424, -81.448527], [30.314664, -97.720819], [39.04419, -84.57848], [40.98834, -73.66631], [42.15399, -87.91548], [40.378805, -85.553448], [45.08726, -93.40247], [26.546105, -81.85526], [33.971576, -81.02326500000002], [41.81382, -71.44129000000002], [36.211592, -86.73257], [41.50006, -72.71576], [38.824406, -121.381663], [40.174177, -74.888289], [45.53008, -122.61449], [39.011705, -76.49785899999998], [45.59554, -118.614243], [42.9663, -78.920825], [40.235064, -79.228337], [40.77109, -112.07506], [31.766654, -106.367886], [44.94861, -92.927262], [35.095518, -77.63928299999998], [40.245516, -75.255973], [25.68887, -80.35042800000002], [27.303911, -80.41405300000002], [39.446142, -74.61897900000002], [33.811873, -118.207039], [38.835262, -77.007132], [34.068657, -117.798854], [35.784683, -78.642772], [25.689114, -80.415998], [34.03325, -118.13003799999998], [37.496929, -77.038122], [36.26, -84.186891], [42.436891, -122.856019], [38.29138, -122.03451], [28.07986, -82.459512], [34.139826, -80.915192], [45.501412, -122.662214], [44.95623, -93.1924], [45.186536, -93.393655], [40.39656, -79.80785], [32.77835, -117.11681000000002], [28.447028000000003, -81.476688], [32.216903, -80.975801], [32.885913, -80.015235], [32.44335, -93.715774], [25.747541, -80.336836], [35.428514, -82.534719], [39.10598, -94.64939], [25.93785, -80.27734699999998], [39.362575, -77.38648], [36.707663, -119.718452], [37.80773, -122.36762], [32.72043, -96.82466], [43.16876, -86.20433], [42.305679, -87.983591], [37.29734000000001, -121.94006], [34.046153000000004, -118.932095], [25.927734, -80.18823499999998], [30.492027, -84.432281], [40.80721, -73.23011], [43.186842, -77.618392], [37.796975, -122.21028], [37.892387, -122.30732], [44.88977, -93.35351], [36.644663, -78.13588], [34.8226, -82.22869], [43.597344, -83.899682], [30.44600100000001, -81.608322], [43.567598, -121.480504], [30.604222, -88.148986], [34.019991, -117.544473], [33.933409999999995, -118.35269], [34.068851, -80.901164], [36.692413, -119.743343], [33.539468, -117.674614], [35.383941, -118.413905], [42.118637, -80.09454000000002], [40.721058, -74.006977], [44.966642, -93.224599], [40.47461, -75.4563], [38.351572, -121.983297], [48.463305, -115.895833], [34.794657, -82.388195], [26.193188, -80.151614], [43.65972100000001, -95.93325], [30.492027, -84.432281], [34.030486, -117.593402], [40.178697, -75.120401], [33.881822, -118.024835], [39.828323, -123.248142], [37.606131, -77.521175], [37.49509000000001, -77.0187], [45.50292, -122.67337], [41.56997, -87.39378599999998], [37.57813, -122.511932], [39.585901, -77.81937099999998], [33.483852, -86.783079], [39.82737, -104.98082], [29.79809, -95.479774], [25.86988, -80.38447], [33.621089000000005, -112.11648], [31.579052, -97.111469], [33.255638, -117.23968700000002], [29.240175, -82.162601], [34.935574, -82.007439], [33.490855, -117.285743], [25.90316, -80.324616], [32.975159999999995, -117.25118], [40.445402, -79.84855], [34.135814, -117.226201], [40.560701, -75.988013], [37.86541500000001, -121.237448], [38.044578, -122.226228], [34.058014, -118.253949], [34.066509, -117.226412], [37.45134, -113.22919], [27.127507, -80.33731999999998], [42.749272, -73.712521], [37.82194000000001, -121.291675], [33.941945000000004, -118.029672], [37.387901, -81.056345], [34.2168, -118.40873], [38.908392, -121.076723], [34.020182, -118.18263600000002], [34.056062, -117.546582], [37.385258, -77.45594799999998], [40.691255, -74.267834], [35.129964, -80.94337900000002], [45.395046, -94.02577], [41.08452, -73.81903], [33.928855, -118.249278], [34.222011, -79.78970799999998], [37.43823, -122.24685], [43.14287, -77.549647], [32.314135, -86.33694200000002], [37.512948, -77.164082], [33.939331, -117.17956399999998], [25.954287, -80.275487], [33.765946, -117.972327], [43.12918, -77.523854], [33.754957, -118.01728500000002], [38.709712, -122.91641], [38.854192, -121.185456], [32.90968, -96.863699], [38.435261, -121.400511], [30.518113, -87.307614], [44.751568, -119.636758], [33.76767, -78.976365], [25.925341, -80.153943], [37.552525, -77.47882800000002], [42.81802, -71.65194], [33.8727, -118.27064], [25.768453, -80.336301], [31.744281, -106.297726], [41.57427, -87.5023], [39.6144, -105.09141], [33.461615, -112.072427], [40.431949, -80.02454], [25.717003, -80.332031], [43.176367, -77.557356], [30.317241, -81.734667], [38.359253, -122.713063], [27.937787, -82.29293100000002], [32.663809, -96.722179], [25.73305, -80.313], [30.265804, -97.716688], [38.375616, -121.36143], [28.546067, -81.618783], [29.728341, -95.317853], [38.841289, -77.442993], [37.784482, -121.187814], [36.13148, -86.72676], [34.072283, -117.931505], [35.302649, -80.80311], [33.85216, -117.455977], [39.62401, -75.648358], [31.78231, -106.40259], [37.528899, -77.270482], [37.637813, -121.171679], [37.872184, -77.454037], [41.268765, -75.85291], [40.061143, -75.135071], [33.859188, -117.959286], [35.59465, -97.6207], [37.548543, -77.568774], [35.151947, -119.216648], [40.071328, -76.324039], [41.637486, -74.078675], [37.299854, -79.962571], [35.21055, -80.8372], [37.93278, -121.6411], [38.568531, -121.469146], [37.808664, -121.991567], [27.82130900000001, -82.65905], [36.765193, -76.481583], [40.894491, -73.88264000000002], [41.93915, -87.72384], [37.55382, -122.296399], [35.175656, -80.894227], [30.399781, -97.673639], [28.412628, -81.42340899999998], [34.550081, -79.203518], [25.960184, -80.294731], [40.689293, -73.99896], [39.20039000000001, -86.022789], [30.337656, -97.558458], [38.705778, -121.326921], [40.986441, -73.683452], [35.44245, -115.67819], [32.703284000000004, -96.661051], [42.999883, -89.17456899999998], [44.868882, -93.432766], [25.80927, -80.31626999999997], [40.691181, -74.267395], [40.397, -79.97869], [30.430015, -81.575621], [40.828579, -73.687011], [35.80370300000001, -78.699907], [39.28079, -123.720549], [27.497159000000003, -82.475169], [33.846736, -118.233026], [37.550977, -77.428505], [30.288351, -81.989303], [32.729394, -96.822759], [41.718141, -72.234751], [33.815425, -118.184967], [32.783327, -96.786502], [40.701062, -122.844356], [27.123993, -82.45348800000002], [39.21452, -85.955422], [40.310317, -79.937382], [25.89515, -80.20965], [27.97597, -82.32615], [40.85175, -74.17489], [36.835382, -76.050495], [42.416013, -122.857114], [30.467203, -91.129905], [35.46424000000001, -97.63667], [45.814416, -108.680679], [42.996378, -85.66462800000002], [41.25272, -121.824027], [38.90158, -77.265208], [34.15484, -118.39957], [34.886149, -80.910904], [40.718532, -116.133348], [39.023437, -76.428123], [35.879749, -119.270893], [38.798786, -77.018955], [25.701887, -80.345608], [46.871787, -113.94555], [34.216568, -119.02226], [34.023920000000004, -118.187695], [45.646187, -110.880578], [46.076379, -95.87384], [44.05031, -121.30694], [33.752627000000004, -117.83153], [40.005263, -75.285763], [34.217287, -118.23776200000002], [30.178504, -95.452026], [28.079881, -81.977704], [25.723511, -80.36623399999998], [36.150931, -86.86442199999998], [43.09859, -76.12777], [38.857494, -76.993764], [45.15121, -122.81146], [43.03346, -87.96751], [45.950235, -108.355332], [34.292623, -118.377734], [36.229777, -95.993312], [45.846224, -122.833507], [39.923683, -86.22337399999998], [36.203937, -121.140296], [42.717625, -84.66282700000002], [34.170314000000005, -118.304089], [38.528312, -121.757944], [31.902866, -106.43384], [36.47711, -119.441507], [40.62924, -75.475236], [38.61264, -121.538382], [29.921236, -90.09574], [33.73109, -117.399683], [45.451384, -122.57208500000002], [44.77825, -93.03467], [25.84576, -80.225367], [25.963301, -80.166], [26.010185, -80.20651099999998], [25.499552, -80.412352], [33.179547, -117.229199], [37.004793, -81.09787], [44.543179, -93.801169], [34.14865, -118.051626], [29.944492, -90.076764], [27.956224, -82.499288], [25.688518, -80.314911], [38.583, -121.503229], [37.811903, -122.364504], [38.66532700000001, -77.273306], [38.391047, -121.929928], [38.878681, -120.863203], [32.882928, -96.695458], [33.976523, -118.225221], [36.731961, -119.47707], [32.850840000000005, -96.90824], [42.97402, -73.801978], [39.805775, -104.983416], [35.083932, -80.933453], [39.532932, -76.348127], [37.212902, -75.96706999999998], [34.278641, -118.397542], [29.81282, -95.42516], [25.857733, -80.256493], [28.542812, -81.414901], [34.056062, -117.546582], [39.189637, -80.329531], [33.414838, -111.856515], [36.838419, -76.19645], [41.8818, -87.64555], [44.180811, -94.007061], [40.5935, -111.9027], [43.8388, -95.15066], [38.396119, -113.01096499999998], [40.525064, -74.316732], [29.995991, -90.110329], [33.687994, -117.907896], [34.153316, -80.976691], [35.813136, -117.87355], [39.98976, -75.25081], [38.27823, -76.61309], [26.013867, -80.207779], [35.008872, -81.90554300000002], [38.71803, -90.29966], [33.717543, -84.239082], [39.01251, -76.49575], [45.05355, -122.97038], [45.251107, -123.848114], [40.69649, -112.09], [40.808428, -74.079125], [33.314573, -117.193992], [36.923712, -120.019251], [33.852, -84.4312], [42.07887, -71.29293], [34.04365, -118.44373], [34.119826, -117.838639], [34.148666, -118.048915], [33.853125, -118.280407], [38.115366, -120.410156], [35.99764000000001, -86.79669], [25.559265, -80.36098], [28.743999, -81.367501], [34.281162, -92.150122], [38.566772, -77.336827], [40.853148, -73.961057], [35.147937, -80.80471], [30.749813, -86.114255], [29.87016, -95.372458], [34.00696, -117.96423], [44.25616, -73.7921], [29.456051, -98.627642], [42.895019, -85.62339899999998], [42.09466, -88.33514699999998], [36.76512, -76.55381], [34.07504, -118.46846], [41.332303, -73.817649], [38.24451, -122.624019], [38.91818, -76.94131999999998], [38.049233, -122.14319], [30.439909000000004, -91.20488], [37.378154, -121.903545], [33.767703999999995, -117.867495], [33.903465999999995, -118.20026], [30.259113, -97.614282], [47.5836, -122.32011], [45.50881, -122.68298], [40.24851, -75.242768], [25.867981, -80.248459], [36.159809, -86.769829], [40.039201, -76.36098299999998], [36.13321, -95.95825], [41.20801, -73.094583], [37.85515, -122.02963], [28.388503000000004, -81.404657], [34.183048, -117.16832], [33.882307, -117.366135], [26.12016, -80.11156], [37.75835, -122.2121], [32.813806, -117.217482], [28.32552, -81.39129], [44.940992, -93.456311], [38.813463, -77.143496], [25.881168, -80.242938], [39.721573, -105.008751], [45.409107, -122.626627], [39.442087, -76.343275], [34.041526, -118.347063], [44.862509, -93.128861], [29.72457600000001, -95.571508], [35.495325, -120.680331], [33.802820000000004, -118.12519], [37.443564, -77.440263], [33.571936, -84.330508], [34.054764, -117.299217], [40.731009, -113.466796], [45.351895, -109.904647], [40.944985, -124.100963], [29.935141, -95.248749], [34.083369, -118.221753], [39.812752, -84.227464], [43.787098, -122.541516], [32.28663, -110.9611], [39.753817, -79.370014], [30.480497, -91.101379], [33.91173, -118.16002], [27.955786, -82.355584], [32.748776, -117.204696], [41.68084, -72.65361], [33.842055, -118.286795], [34.079192, -117.625819], [33.971432, -118.377391], [40.809069, -73.21245], [33.730806, -117.39884], [40.80126, -77.82921999999998], [41.635855, -91.033846], [32.14513, -110.926249], [37.492593, -122.38478700000002], [36.876058, -76.195153], [30.246766, -92.667843], [27.89372100000001, -82.73123000000002], [45.019123, -93.18865], [32.659875, -117.07058], [25.934316, -80.162462], [37.529512, -77.313401], [41.06816, -73.49557], [35.779807, -78.620719], [32.790954, -96.60007], [34.066026, -117.396148], [45.17974, -117.984098], [34.379641, -117.417813], [42.066616, -88.263019], [35.865295, -78.571525], [34.01475, -118.4858], [30.693959000000003, -87.437859], [44.712718, -122.767184], [39.37529, -76.74996999999998], [33.806036, -78.89244599999998], [45.474139, -122.787655], [34.57663, -118.13353], [34.278362, -118.524145], [34.689467, -118.13036], [38.028183, -78.589488], [35.42688300000001, -118.992274], [40.526, -74.329172], [33.371520000000004, -111.8934], [34.069087, -117.344408], [34.156557, -118.422514], [42.956252, -78.912042], [29.80844, -95.33012], [47.64631, -122.32293], [36.923171, -119.96498400000002], [45.588186, -121.121445], [45.652195, -120.954011], [39.064636, -77.55218], [42.8683, -73.772924], [32.791509999999995, -96.6017], [40.987883, -73.66775200000002], [32.200832, -110.996135], [26.351325, -80.11782], [37.550977, -77.428505], [38.958133, -76.650006], [39.569857, -76.84026899999998], [34.969106, -104.82149], [33.643273, -117.136891], [32.818146, -117.160488], [25.68619, -80.430098], [47.874383, -114.236724], [35.688175, -78.617122], [48.241426, -122.444505], [32.759689, -97.201591], [32.939462, -96.374351], [39.11374, -94.616119], [34.004944, -117.395278], [40.83847, -74.01912], [39.270517, -76.642333], [37.634663, -120.934496], [47.21957, -122.463451], [37.34887, -121.907998], [41.298154, -72.90321999999998], [35.369722, -119.0425], [34.05108, -118.26127], [47.523004, -122.290971], [34.25846, -118.1052], [37.061423, -76.420673], [39.657461, -104.840296], [34.060993, -118.17213], [45.703421, -118.967972], [33.454345, -112.108236], [44.95552100000001, -117.857209], [44.972836, -123.021148], [28.29933, -82.20429], [25.927492, -80.21419300000002], [42.3756, -83.06103], [40.306993, -121.231478], [42.348232, -83.105122], [39.95436, -82.84469], [45.192801, -121.689211], [34.194167, -80.86153900000002], [35.600046, -78.576475], [37.545491, -122.022126], [44.55153, -123.06163], [40.845722, -73.929606], [37.148384, -121.987721], [43.16463, -77.65453000000002], [42.78950800000001, -78.847], [44.13548, -122.54668999999998], [39.07718, -121.549074], [38.196477, -81.370048], [27.464153000000003, -82.58762], [39.210838, -120.783637], [34.342821, -119.415882], [32.82633, -96.78401], [40.082849, -75.138315], [39.816767, -123.221427], [37.843211, -122.22576399999998], [25.642258, -80.334766], [35.19705, -80.93557], [37.59477, -120.892703], [45.329772, -121.58559], [42.08065, -87.75873], [45.397295, -122.26098799999998], [29.715251, -95.500299], [29.964345, -90.089668], [38.99023, -94.700768], [45.54723, -122.54533], [47.61958, -122.32865], [34.156935, -114.273809], [38.793243, -90.565237], [33.525117, -86.800825], [45.13769, -93.46221], [40.650326, -76.928402], [36.764706, -76.558324], [30.420136, -91.122039], [39.243229, -94.506394], [30.514492, -91.166479], [28.408404, -81.447057], [43.094108, -77.39256400000002], [32.950720000000004, -96.58366], [32.192442, -110.938577], [32.683647, -97.431358], [39.84495, -104.98484], [30.291090000000004, -81.62959000000002], [41.72711, -87.62476], [32.803709999999995, -117.15085], [38.6419, -121.149549], [34.241904, -118.924293], [41.318355, -87.103598], [38.50658, -121.45698], [40.74509000000001, -111.72865], [45.405989, -117.980471], [27.364888, -81.465819], [25.620964, -80.374086], [35.20963, -80.89344], [28.478422, -81.43245300000002], [41.171165, -73.192768], [41.91487, -88.20871], [32.192763, -110.979477], [35.06597, -110.82987], [33.54916, -84.26865], [25.688298, -80.327492], [41.17979, -81.24638], [43.65836, -95.53389], [34.025768, -118.275323], [30.00654, -90.01901], [35.595161, -87.298405], [39.148869, -76.68738499999998], [37.797126, -121.27058], [30.329857, -97.966379], [40.05049, -80.72621], [26.521782, -80.1725], [33.883777, -117.52868], [40.61364, -111.90593], [38.420556, -121.943405], [29.74078, -95.45813], [42.335323, -83.090091], [36.08917, -79.88446], [35.499702, -119.163617], [32.135345, -110.934733], [39.09419000000001, -76.80501], [25.852418, -80.32234], [34.15758, -118.4525], [40.215223, -75.239837], [34.690521000000004, -77.945369], [34.00416, -117.35017], [45.518343, -122.687194], [47.690544, -122.341812], [34.032062, -118.153565], [37.504988, -122.486433], [25.763884, -80.320623], [39.863004, -77.05460500000002], [39.509948, -119.94069], [43.1629, -76.31746], [33.5349, -80.19635699999998], [38.12182, -85.70206999999998], [26.562248, -81.604741], [34.00354, -117.93046499999998], [27.176282, -82.480489], [37.544535, -122.288059], [37.398936, -77.424141], [45.194512, -93.394012], [34.10256, -117.8196], [38.95136, -77.19655999999998], [37.668957, -122.109386], [45.084361, -122.790865], [37.958328, -120.418228], [36.148487, -86.74557800000002], [34.185067, -117.417437], [30.230523, -97.7426], [47.57693, -122.31978], [36.771701, -114.239197], [36.16095, -86.79321], [30.376414, -81.76082199999998], [39.87145, -84.18843000000003], [34.029325, -118.444794], [42.980834, -85.63460500000002], [40.402489, -79.593147], [34.594402, -82.972092], [34.066945000000004, -117.448231], [25.60872, -80.349575], [33.964319, -118.120005], [45.39141, -122.61295], [28.14552, -81.45895300000002], [37.394755, -121.873794], [41.81277, -87.63072], [34.07503, -80.946074], [26.032652, -80.16428], [33.778882, -117.878902], [33.648579999999995, -117.738386], [38.73636, -90.3337], [33.922208000000005, -117.428773], [26.114645, -80.16906999999998], [33.66357, -117.79471], [29.666226, -95.346077], [32.82618, -96.784052], [35.383074, -119.045145], [41.091302, -78.51728], [39.686377, -84.220218], [34.226772, -82.27414399999998], [35.645845, -78.843151], [33.25499600000001, -117.214926], [35.21541, -80.853429], [38.459961, -122.727943], [32.766773, -96.75124], [35.412229, -119.052877], [37.869528, -122.304762], [34.154123, -118.819594], [30.43966, -91.086491], [35.010422, -85.700536], [33.990011, -117.945315], [41.159135, -111.939739], [27.99341, -82.45359], [33.33465, -111.91118], [32.78579000000001, -96.763162], [35.100127, -80.714224], [25.911716, -80.20990400000002], [45.62472, -121.52573999999998], [44.807538, -93.227722], [41.77875, -87.90762], [29.94382, -95.4155], [42.37106, -83.05438000000002], [28.69101, -81.38835999999998], [34.10492, -118.189683], [35.636868, -78.671188], [38.654505, -90.405299], [30.46823, -91.168069], [40.036856, -76.308341], [33.876142, -118.168574], [35.715639, -78.58413399999998], [42.739345, -83.384742], [40.191943, -75.106335], [39.335643, -94.389791], [29.753039, -95.40894], [27.976594, -82.546465], [32.76292, -117.16127], [25.760875, -80.419195], [34.140702000000005, -80.90747900000002], [37.037847, -76.391476], [39.98464600000001, -76.682661], [40.756848, -73.62116800000003], [32.79654, -117.20921], [37.487649, -77.510199], [28.337635, -81.406705], [29.610611, -98.512543], [39.257143, -76.695224], [33.943643, -118.098364], [33.773393, -118.039162], [39.018349, -76.969522], [39.06270900000001, -94.488912], [34.995139, -85.23088800000002], [42.137822, -83.382187], [33.428596, -81.887], [33.83782, -117.87595], [33.91219, -84.38374], [37.542203, -121.270684], [42.570723, -123.372763], [40.01685, -75.6644], [29.416385, -82.93046700000002], [47.63244, -122.18807], [25.969657, -80.165319], [43.692083, -116.498225], [33.945418, -118.327851], [26.333428, -81.806251], [37.496088, -120.871695], [34.456726, -84.919641], [29.932236, -90.089992], [30.449091, -84.283107], [38.994218, -77.096391], [39.03693, -94.78827], [31.903382, -83.736351], [38.61314, -121.36452], [39.036276, -77.00005], [32.588286, -117.08789], [33.870699, -117.70305], [32.20683, -110.87509], [38.660687, -77.277737], [39.224445, -76.661694], [29.954702, -90.06915], [26.12938, -80.21771], [40.76761, -73.90428], [33.469572, -112.038717], [35.169728000000006, -118.474938], [37.551736, -122.309369], [40.846641, -73.93196800000003], [32.23627800000001, -110.89266200000002], [33.491499, -112.263742], [29.018422, -81.819234], [27.965677000000003, -82.782123], [38.825782, -77.016549], [42.953344, -85.705541], [40.128968, -75.32143], [39.01623, -94.12458], [25.912714, -80.17946500000002], [41.38465, -72.89281700000002], [37.55797000000001, -121.91367], [30.4724, -91.042884], [33.854499, -118.281959], [45.415572, -122.74389], [27.970214, -82.76750799999998], [35.012066, -85.32401800000002], [30.20099, -97.785372], [33.908303000000004, -117.882817], [41.30136, -73.88235999999998], [44.024373, -123.818407], [25.794286, -80.205507], [28.410788, -81.471118], [38.775665, -90.527544], [38.560391, -121.457601], [40.800015, -74.188364], [37.384074, -121.81601299999998], [33.564677, -84.536374], [38.546502, -121.47379], [42.01117, -87.86864], [37.70459, -121.73462], [45.54236, -122.499431], [37.891793, -122.151758], [40.104741, -75.31910500000002], [25.882968, -80.210528], [34.122015000000005, -118.004447], [33.646987, -117.171314], [45.62284, -123.08108], [39.286798, -76.737023], [38.474298, -121.418912], [34.081149, -117.740289], [29.703698, -95.59625], [37.956164, -121.319565], [28.452192, -81.400388], [41.001116, -73.85730600000002], [44.890726, -93.272541], [37.637805, -77.61601800000003], [42.51223, -71.0068], [42.200198, -87.888928], [33.726606, -117.835057], [26.153439, -80.16662099999998], [40.507918, -111.89132], [34.06819, -81.171681], [37.629979, -77.576774], [30.00338, -90.20516], [34.051990999999994, -117.144694], [27.287504, -82.530755], [35.15005900000001, -84.95222199999998], [28.06566500000001, -82.705308], [44.036689, -121.310445], [32.759883, -117.188248], [35.033077, -80.823441], [37.129885, -93.459902], [34.60550300000001, -82.456007], [37.317477, -77.89054499999997], [45.37571, -122.75544], [40.704935, -73.817421], [32.699721999999994, -117.094699], [44.610961, -122.937515], [33.069759000000005, -86.730397], [37.33012, -113.28294], [37.34145, -77.21448000000002], [29.961127, -90.073232], [33.80344, -117.50538], [34.235584, -118.476318], [33.765706, -117.960142], [25.910739000000003, -80.17535600000002], [40.130531, -75.375237], [37.740322, -121.01696], [27.600426, -80.414026], [37.74298, -121.55992], [25.944571, -80.148689], [32.811848, -97.20923], [37.956357, -121.263959], [45.518789, -122.666462], [34.117503, -117.848094], [34.487735, -118.620002], [40.114648, -75.330102], [44.914759, -93.275052], [34.024445, -118.469257], [38.767682, -90.338133], [33.52388, -112.0824], [40.692636, -111.981489], [34.27814, -82.29187399999998], [41.05746, -73.82185], [25.941505, -80.189667], [41.107667, -76.898573], [32.760562, -117.194255], [39.78683, -75.048698], [28.23715, -82.35559], [36.918343, -81.25225400000002], [38.496008, -121.451268], [34.225965, -81.546371], [36.848198, -81.48625], [38.243082, -122.27916], [37.891667, -121.4875], [35.414561, -119.034477], [33.90504, -118.18406], [37.583834, -122.050546], [42.937044, -85.663457], [36.317721, -119.397179], [40.841444, -81.403834], [37.411939, -121.911903], [25.753544, -80.388902], [32.790894, -96.792033], [37.650398, -77.606433], [38.98592, -110.24024], [26.045011, -80.162547], [38.19429, -85.56546999999998], [41.95277, -87.80725], [33.842040000000004, -118.26618], [37.676616, -122.135033], [34.179013, -118.165736], [33.90999, -84.36346], [35.28971400000001, -80.758004], [35.139225, -81.51264499999998], [41.034054, -73.81796899999998], [39.99684600000001, -75.264689], [35.75229, -78.707267], [28.044398, -82.680611], [36.844861, -76.28104300000003], [37.678251, -122.388248], [45.630587, -108.930269], [40.2467, -75.65016999999997], [39.28066, -76.66015], [34.23858, -117.286942], [39.989003, -75.551558], [39.69059, -84.09891], [44.142152, -94.158587], [34.020983, -118.425568], [33.928724, -118.102845], [41.18376, -95.93931], [34.137683, -81.498863], [37.96084000000001, -122.5067], [46.835693, -114.105259], [38.41081, -81.79442], [36.757797, -76.279567], [41.099552, -112.000203], [37.492799, -122.222453], [37.791639, -120.890993], [36.15027, -90.410723], [34.398043, -119.299784], [34.89038, -82.16528000000002], [34.08978, -117.934232], [42.997361, -82.440635], [33.91636, -118.255708], [38.774572, -120.295659], [26.746162, -81.43790600000001], [38.52944, -121.755176], [40.771374, -73.876357], [25.747541, -80.336836], [38.778438, -76.88932700000002], [45.666461, -94.807685], [45.20512, -93.39629], [40.77051, -72.9639], [41.55279, -81.59963], [32.836494, -96.772542], [39.2545, -76.68236999999998], [28.090394, -82.459834], [45.50601, -122.68153], [37.26173, -121.80026], [38.641895, -121.150006], [39.0647, -76.91193], [37.58106, -77.46938], [25.848342, -80.241889], [30.33283, -97.70427], [38.742077, -77.518654], [40.068537, -75.148301], [38.61009, -122.87568], [39.036097, -94.36164], [33.719120000000004, -84.39681], [33.930812, -118.210003], [40.63867, -112.02455], [34.154405, -118.384235], [34.760526, -85.001846], [30.455642, -87.24994699999998], [37.040008, -120.11066], [39.875734, -75.052591], [38.623971, -121.417755], [36.189339, -119.690688], [37.807637, -121.296892], [38.81903300000001, -77.017699], [33.853962, -117.924344], [36.859441, -76.19528100000002], [42.387002, -83.44484200000002], [36.07967, -86.959887], [35.92085, -119.281968], [38.772049, -90.301878], [38.629914, -122.877842], [32.78136, -117.13897], [36.829124, -76.06717900000002], [33.953513, -118.300256], [37.7859, -121.8635], [39.21609, -84.49911999999998], [44.140994, -122.605518], [27.33747, -82.51526], [29.735676, -95.631004], [35.408606, -119.034159], [40.169717, -86.54901600000002], [25.671986, -80.38261899999998], [35.09115, -80.9328], [44.908913, -93.274632], [41.02877, -111.94657], [42.66649, -85.9935], [45.13123, -117.96504], [25.67213, -80.37835799999998], [47.75303, -122.33008999999998], [25.81151, -80.19982900000002], [35.924423, -77.669466], [36.638761, -121.565732], [35.132712, -85.332557], [34.722128999999995, -78.995593], [39.711563, -75.353102], [44.666862, -93.29426], [33.876295, -118.102509], [33.825317, -118.226582], [41.87098, -71.43123], [44.592531, -121.13201], [39.87145, -84.18843000000003], [33.749668, -118.272467], [33.877193, -118.146453], [38.68204, -121.07612], [45.094681, -93.290115], [37.972642, -121.739487], [45.156437, -93.278592], [34.066109000000004, -81.027138], [37.35397, -121.83786], [33.383942, -117.578832], [32.80491, -79.93529000000002], [30.28831, -81.62711], [34.153282, -118.360846], [39.136338, -77.675985], [40.256109, -75.726989], [30.344592, -81.668297], [36.018082, -95.886343], [40.50854, -78.401013], [34.13881, -118.71878999999998], [30.251444, -81.584912], [33.618732, -84.457622], [40.911392, -73.785105], [26.600362, -81.700691], [43.684033, -93.321722], [43.852726, -122.66531299999998], [41.178753, -73.176906], [38.751368, -121.484448], [38.57007, -76.06369000000002], [30.251809, -81.46037199999998], [27.818315, -82.664896], [46.611846, -92.554289], [35.890018, -78.742462], [38.474344, -121.417148], [34.134532, -117.652834], [34.343672, -118.358448], [42.35999, -84.980946], [41.244081, -73.688124], [35.176755, -118.481345], [35.040914, -85.151551], [31.608749, -90.464869], [36.852111, -119.729717], [30.277843, -97.73028], [41.092225, -114.715729], [33.846582, -118.215418], [41.38946, -82.16136999999998], [33.138899, -117.141541], [33.668364000000004, -117.892173], [34.645683, -118.183034], [38.728512, -76.88126199999998], [25.90497, -80.227177], [28.811592, -81.359726], [38.474344, -121.416669], [32.890555, -96.769077], [36.75362, -119.68836], [32.948197, -117.10608899999998], [35.986521999999994, -89.877637], [35.02063, -85.26004], [34.14522, -117.28291000000002], [35.656535, -118.335008], [34.231986, -118.403723], [37.516547, -119.835197], [39.746226, -75.558875], [36.766179, -119.778032], [34.00083, -117.3524], [34.074891, -84.61908199999998], [34.304927, -118.481358], [34.16108, -118.46961], [34.066505, -117.207033], [38.2448, -122.44602], [37.783044, -121.258012], [38.459384, -121.405691], [38.88627, -94.676847], [39.919939, -77.78546999999998], [38.5518, -121.69899], [34.064524, -117.796738], [29.839614, -95.371647], [32.651721, -117.098153], [42.73855, -73.78599], [31.52484, -106.13519], [33.76605, -117.92581], [28.368340000000003, -81.513072], [28.567786, -81.290028], [38.801901, -77.325561], [29.390678, -81.608315], [36.30493, -86.70599], [26.166691, -80.141038], [33.45142, -112.13451], [35.220443, -80.88335699999998], [33.46691, -117.66986], [34.37012, -84.37239], [34.269309, -118.446308], [39.82722, -104.9154], [41.14986, -74.025417], [37.116891, -121.625078], [39.948981, -77.13486], [45.516212, -122.66724], [30.174533, -85.565552], [48.125681, -103.776843], [44.903527, -93.274709], [40.0608, -82.99825], [44.78439, -93.41336], [25.732169, -80.380549], [43.609969, -116.314303], [42.26952100000001, -85.511602], [38.303468, -77.507767], [33.659843, -84.394707], [37.358788, -122.39762], [33.463755, -112.08259], [33.912876000000004, -118.179553], [29.713153, -95.614675], [34.056366, -80.991946], [37.376855, -122.403992], [27.4603, -82.55485], [38.850906, -76.960259], [29.808473, -95.379714], [38.574347, -121.406114], [37.573817, -77.342611], [41.82988, -71.41796], [38.461731, -90.37372], [34.02367, -117.74939], [36.804902, -119.792718], [38.94205, -94.81315], [37.214241, -93.303085], [37.702243, -120.921719], [28.493789000000003, -81.46001600000002], [34.128282, -118.156302], [29.55633, -98.32453], [42.62185, -71.17713], [37.8083, -119.04784], [38.092466, -120.472356], [35.86368, -80.04174], [40.676525, -74.40225699999998], [42.713781, -112.223335], [32.841589, -117.126666], [33.754967, -117.189175], [34.210789, -117.412402], [33.759842, -117.827465], [33.774366, -117.502617], [38.674638, -121.34508999999998], [38.483653, -121.413341], [33.806166, -117.507167], [40.694402, -111.902234], [35.33294, -80.91209], [36.972075, -121.871484], [33.177949, -117.228101], [32.758823, -117.108695], [30.145889, -81.76077], [38.863669, -77.771651], [41.519514, -90.513006], [25.94559, -80.18654000000002], [32.164881, -110.940202], [34.223025, -118.248799], [40.274617, -75.652658], [28.339375, -81.410286], [34.000214, -117.35259], [40.388733, -122.378459], [34.505342, -120.226446], [38.984098, -77.094127], [37.60368, -122.06436], [33.772024, -117.275681], [29.736998, -95.559818], [29.950275, -90.085462], [32.99411, -96.84372], [45.71194000000001, -121.5475], [38.881694, -77.449143], [30.492142, -91.123985], [34.170216, -118.60313], [37.700954, -121.829563], [30.3698, -97.716997], [25.529989, -80.396302], [35.039831, -120.472635], [45.839417, -122.837309], [33.790662, -118.282782], [38.21907, -76.43006], [39.03681, -76.98937], [32.628678, -96.904429], [32.63263, -96.8231], [42.423218, -122.850318], [42.196213, -122.67497], [34.595532, -82.974365], [37.53201, -122.00654], [37.692285, -122.130095], [38.803416, -77.075273], [28.23636500000001, -82.34976800000003], [37.76424, -122.21704], [39.770295, -104.991607], [45.788805, -118.197787], [40.743244, -73.837618], [30.13126, -95.44392], [40.45264, -78.082448], [39.48874, -84.32431], [33.969716, -118.22242], [40.850323, -73.94553499999998], [26.72340100000001, -80.09125], [29.97168, -90.038088], [38.94635, -76.848388], [44.950801, -93.009513], [25.925298, -80.271617], [33.988418, -117.907319], [33.846686, -118.203299], [33.549073, -112.112482], [35.235146, -80.940905], [32.94683, -117.24298], [30.477181, -84.298435], [29.342283, -98.625265], [42.18266, -87.96548], [32.789978000000005, -117.149142], [29.48749, -98.48273], [40.01075, -76.133292], [32.866277000000004, -117.108972], [36.050928000000006, -120.200227], [43.12543, -75.60009000000002], [25.651361, -80.331497], [43.626462, -116.619712], [44.528752, -93.846866], [33.91144, -117.283179], [34.018822, -117.728551], [41.36498, -72.10306], [45.46565, -122.82611], [39.013556, -77.045263], [40.878274, -73.869973], [40.055919, -81.281314], [37.742047, -121.523658], [40.0377, -76.27175], [32.776255, -117.134128], [47.324563, -122.160898], [39.29532, -78.08131999999998], [36.999225, -121.525111], [25.67081, -80.362747], [42.07365, -87.70665], [34.033308, -118.125032], [44.28738, -117.21911], [29.955890000000004, -95.41851], [29.95138, -95.339137], [34.819894, -82.601505], [43.58988, -116.193494], [39.286092, -94.416083], [39.40743300000001, -76.661857], [40.43264, -111.86886], [40.396481, -123.943966], [36.52642, -119.57171], [25.715341, -80.389], [39.008342, -77.152529], [43.05087, -88.04068199999998], [41.87523, -87.69376], [28.474417, -81.396743], [33.892915, -118.276215], [37.602151, -120.996555], [34.274392, -118.376287], [33.765436, -84.493955], [26.164479, -81.68677], [40.461584, -74.281622], [39.177826, -77.661178], [40.78209, -74.24410999999998], [47.70049, -117.19703], [42.190906, -121.78125], [34.038463, -118.02102], [40.01329000000001, -75.180162], [28.552384000000004, -81.44975], [40.241612, -75.20501800000002], [33.996768, -117.930579], [46.23506, -123.87196000000002], [33.183506, -117.290049], [28.515088, -81.75179200000002], [41.03615, -73.75524], [37.860004, -121.21858], [34.057941, -118.255208], [33.386340000000004, -111.80013], [36.15326, -86.84353], [30.419844, -91.084567], [25.581611, -80.366138], [38.300608, -120.277192], [45.349255, -122.656806], [40.428196, -74.22911500000002], [38.366196, -120.79512], [37.881075, -121.266415], [39.862379, -104.98771], [39.96026, -75.603262], [38.218249, -121.258601], [36.152522, -119.71731], [34.121052, -117.879815], [25.68692, -80.416652], [38.064182, -112.692915], [28.257157, -81.632023], [29.797344, -95.450302], [29.74895200000001, -95.369964], [41.85964, -88.03986], [34.07504, -118.46846], [37.980867, -122.042207], [44.862857, -93.136293], [38.970104, -77.431737], [35.163209, -80.88681899999997], [41.8153, -87.63048], [37.761351, -122.392638], [26.330487, -81.811083], [30.65555100000001, -88.066325], [47.531959, -122.69143400000002], [35.992552, -86.592189], [45.05028, -93.0591], [35.820745, -120.096048], [41.32299, -72.884562], [34.13558, -117.9951], [35.112191, -89.86972], [43.58674, -93.35779], [33.876975, -118.147948], [33.89952, -84.26938], [39.824333, -110.948777], [39.724781, -114.749696], [33.85917, -118.20152], [45.306785, -93.556096], [25.928189, -80.199392], [32.83895, -96.63328], [33.873166999999995, -118.060037], [36.255454, -119.994666], [27.98192, -82.326169], [39.164543, -84.455096], [42.405107, -83.123002], [25.748356, -80.335763], [33.215504, -81.102387], [39.17061, -84.75955], [33.310546, -117.479071], [37.631274, -81.111942], [29.719423, -95.496114], [29.703839, -95.58457], [25.939703, -80.188672], [32.64204, -96.82996], [27.319582, -82.49954100000002], [25.684325, -80.41642900000002], [40.024945, -122.095098], [42.962628, -85.67836], [41.79733, -71.40356], [43.149701, -75.26826700000002], [41.660519, -93.575814], [41.09119000000001, -73.92904399999998], [34.67147, -118.15498], [37.47052, -122.1582], [28.336029, -81.542002], [40.998799, -73.727311], [32.763433, -96.761723], [40.82454, -73.931003], [33.929205, -118.237512], [26.138595, -80.219142], [25.68619, -80.393897], [45.690861, -94.86955], [40.72965, -74.03591], [40.68669000000001, -73.59425999999998], [40.03147, -75.02133], [25.926038, -80.151679], [45.52247, -122.52354], [45.37542, -122.75555], [40.60948, -111.97169], [37.558857, -79.65864300000001], [41.52937, -75.6528], [40.37018, -111.76924], [25.572457, -80.37736600000002], [36.116303, -86.791831], [35.738686, -78.649846], [47.37222, -110.921691], [41.996011, -87.875001], [43.170722, -117.036248], [42.665559, -84.62804], [42.301448, -83.443149], [34.32054, -118.49452], [42.298881, -83.865105], [40.73098, -73.87383], [40.57301500000001, -74.329972], [40.598505, -102.627271], [36.926411, -120.024036], [30.582205, -84.14556], [46.974137, -123.606282], [38.923786, -121.055868], [40.009115, -75.580653], [38.661172, -121.375503], [38.560071, -121.478187], [29.957488, -90.102137], [35.25256500000001, -118.878354], [43.864589, -111.771752], [32.81476, -96.6445], [32.8507, -83.48479], [35.094248, -118.979283], [38.644021, -121.378451], [29.736238, -95.521025], [34.080711, -117.628468], [29.69245, -82.449742], [40.064661, -76.337294], [41.57801, -87.665766], [39.270311, -76.657143], [33.842037, -118.290014], [35.585746, -80.857667], [25.903491, -80.174972], [25.598557, -80.355518], [26.323723, -80.116385], [36.823457, -76.433247], [39.031902, -77.131522], [37.54505, -77.48531899999998], [39.563296, -74.696951], [37.73432800000001, -121.616469], [44.943726, -93.274591], [34.468318, -117.148513], [42.0566, -87.92129], [34.07504, -118.46846], [30.408905, -84.980368], [26.756651, -81.760871], [39.95341, -111.292929], [32.742709999999995, -97.22419], [38.832453, -77.10661], [47.309199, -122.300158], [39.541844, -119.733778], [30.191727, -81.705247], [34.919593, -80.921572], [38.639925, -121.197395], [39.363016, -121.687907], [35.75485, -78.53668], [35.2901, -80.75721999999998], [38.605152, -121.137024], [28.56369, -81.26718000000002], [33.75692, -118.290706], [43.579258, -121.984695], [34.036763, -118.023745], [25.76973, -80.321849], [44.935026, -123.041327], [37.472148, -122.295947], [41.13035900000001, -77.430004], [29.580990000000003, -98.59663], [33.879690000000004, -117.56507], [37.16062, -93.31643], [28.577684, -81.474816], [38.626283, -77.288539], [40.67432, -111.8883], [41.91582, -87.66803], [36.156987, -95.909028], [30.236057, -89.7689], [37.131393, -79.970044], [32.11975, -110.866561], [33.579021000000004, -79.0167], [34.047408000000004, -118.008272], [37.770429, -121.289156], [41.04474, -73.55943], [29.643976, -95.576444], [25.699599, -80.382101], [27.238705, -82.49762700000002], [33.789833, -118.207746], [33.461779, -112.26466299999998], [32.711372999999995, -117.100514], [34.130691, -117.945731], [26.602331, -80.06890600000001], [41.521831, -73.265473], [47.32318, -122.24517], [29.797979, -95.450216], [25.88735, -80.211279], [37.83655200000001, -120.236578], [39.305718, -123.798361], [35.2286, -80.82891], [33.752438, -80.357239], [35.34079000000001, -80.7403], [38.93475, -94.42667], [35.59472, -97.43562], [35.060945000000004, -80.95699599999998], [40.77622, -111.94933], [38.371633, -122.535026], [41.980893, -88.08031], [40.606233, -74.48805899999998], [32.443281, -80.995448], [37.3479, -121.91928], [33.96049, -117.31275], [39.273195, -120.12078], [44.888791, -93.180134], [33.914491, -117.88268], [28.394583, -81.31034], [29.93848400000001, -82.56406899999998], [33.925083, -118.177882], [25.700111, -80.333988], [42.076338, -73.975034], [43.597375, -116.34735], [33.648988, -112.114802], [32.925909999999995, -96.8303], [39.656425, -79.650134], [43.083539, -77.432097], [37.178546, -93.292089], [33.773851, -80.925802], [25.624906, -80.382162], [37.476586, -113.222297], [37.193647, -121.697711], [30.588044, -84.487104], [35.312224, -117.986958], [38.95243, -76.86225], [45.820638, -119.311052], [33.698451, -117.861378], [36.323597, -78.973984], [35.83277800000001, -86.419427], [37.403029, -122.04691499999998], [39.89717, -83.03412], [30.650432, -91.16728], [40.877431, -80.417161], [28.482248, -81.396664], [33.92633, -82.317222], [40.90512, -74.19029], [33.835284, -118.287484], [28.483836, -81.45898000000003], [33.77152, -84.63884], [33.88212, -118.02538], [36.080947, -86.751589], [37.715381, -77.44805], [35.82180800000001, -78.569862], [34.063507, -117.287646], [32.78553, -96.62459], [42.332148, -88.123801], [39.46273, -75.72142], [25.946072, -80.147246], [44.08227, -121.30131000000002], [39.444986, -76.30954399999997], [38.388576, -75.139971], [33.072284, -117.294554], [25.728868, -80.42265400000002], [39.716891, -75.560975], [34.063957, -81.138657], [32.729962, -117.06389], [30.356351, -81.66864], [38.871141, -76.988915], [37.82649, -109.0768], [26.434784000000004, -81.81088299999998], [30.78477, -85.323673], [43.167525, -77.68315600000003], [25.931997, -80.20795], [34.106584000000005, -117.88543500000002], [39.8871, -121.909097], [41.07416, -85.2749], [34.638588, -82.228701], [45.901782, -119.174756], [43.413106, -124.224037], [34.021609000000005, -118.19653], [40.92677800000001, -73.837032], [35.568851, -120.700532], [39.090133, -94.591094], [29.80154000000001, -95.37191], [45.52245, -122.81575], [34.211870000000005, -118.22786], [39.330632, -77.666313], [28.417676, -81.422934], [27.964294, -82.451074], [30.493145, -84.27734699999998], [27.777541, -82.648723], [40.057125, -76.366843], [30.404169, -91.096997], [39.296218, -94.584892], [42.94853, -71.47395], [28.693655, -81.873841], [39.688837, -105.882339], [33.41153, -112.1694], [39.37589000000001, -74.47879], [44.05387800000001, -123.101582], [40.162421, -75.478938], [38.874961, -78.525992], [37.76432, -122.21711], [38.723491, -77.496432], [36.215146, -86.602457], [38.923777, -76.85341], [28.03291500000001, -82.646585], [41.99508, -73.8756], [39.889474, -77.670604], [38.745906, -90.337215], [33.915656, -117.440279], [32.96118, -96.72705], [44.518762, -87.955807], [33.92845, -118.24418], [34.408375, -119.549435], [25.879073, -80.242992], [39.104558, -94.571417], [39.16643, -88.39767900000002], [34.15967, -118.466151], [33.661564, -112.11412], [39.461239, -104.87424], [38.364521, -81.678978], [41.184428, -79.242657], [28.004017, -82.3145], [37.96661, -122.048744], [35.86102, -78.60074], [33.86448, -118.326481], [39.264557, -83.598639], [40.314298, -76.828154], [44.64967100000001, -117.56312], [33.941413, -117.555459], [38.086268, -122.214264], [27.901940000000003, -82.401944], [38.846887, -77.378333], [34.013576, -118.130355], [47.6246, -122.359309], [29.949304, -90.075333], [25.931511, -80.324842], [33.783871000000005, -118.09131], [33.997181, -117.550522], [34.066714000000005, -117.235028], [32.779029, -117.102938], [37.4596, -77.54697], [47.09500900000001, -122.617303], [36.76771, -77.82377], [40.783201, -73.550239], [40.257267, -77.065451], [40.85306, -73.96011], [39.325572, -94.705656], [42.70586, -71.45045999999998], [32.497824, -93.757037], [37.31813, -121.97838], [37.14435, -121.98468], [26.115913, -80.168601], [36.15152, -86.75153], [32.526681, -93.684718], [41.042937, -111.954299], [34.167538, -80.858627], [37.40782, -77.56496], [40.766531, -73.863301], [36.167188, -119.082911], [25.627905, -80.34143399999998], [29.675044, -95.570492], [33.873865, -118.212394], [37.424315, -121.919006], [33.633717, -117.336023], [39.113831, -121.525838], [34.49094, -118.20267], [32.92459, -96.78684], [29.732034, -95.459485], [47.451936, -121.954067], [26.16479, -80.20318], [28.398632, -82.660697], [38.928859, -76.930554], [32.779394, -117.101415], [30.317407, -81.730634], [38.496708, -121.372249], [28.026907, -82.50506899999998], [33.75741, -84.46986], [43.610097, -84.579541], [25.712548, -80.382427], [32.133856, -111.028855], [48.045756, -117.608098], [34.30733, -79.619346], [30.014544, -89.986056], [30.04515, -89.99290699999996], [47.56567800000001, -122.288612], [37.657977, -121.902949], [34.156676000000004, -118.41677], [33.960856, -118.282705], [33.52366, -112.0996], [36.829328, -76.313163], [39.23818, -76.7063], [38.828968, -77.115269], [30.328743, -83.007111], [37.754211, -121.434976], [25.703697, -80.290273], [38.944148, -76.941508], [35.77987, -78.62228], [34.17877, -81.32545999999998], [43.040481, -83.655509], [43.700769, -123.260167], [42.913514, -85.628504], [42.447921, -83.219922], [39.984234, -75.816148], [37.474684, -122.281931], [37.003011, -121.556597], [37.82506, -122.31199], [30.39112, -97.72184], [34.009884, -117.823873], [42.622951, -73.779234], [41.609411, -122.399613], [28.356042, -82.64970600000002], [25.942626, -80.205114], [25.842872, -80.249798], [47.234986, -122.425709], [36.845666, -76.175497], [39.7764, -104.872624], [39.77997, -86.16781], [42.00539000000001, -88.14471999999998], [34.319454, -83.789087], [44.093487, -121.300992]],\n",
              "                {&quot;blur&quot;: 15, &quot;maxZoom&quot;: 18, &quot;minOpacity&quot;: 0.5, &quot;radius&quot;: 25}\n",
              "            ).addTo(map_e6a7f75665b58742daea5f452f9d7c71);\n",
              "        \n",
              "&lt;/script&gt;\n",
              "&lt;/html&gt;\" style=\"position:absolute;width:100%;height:100%;left:0;top:0;border:none !important;\" allowfullscreen webkitallowfullscreen mozallowfullscreen></iframe></div></div>"
            ]
          },
          "metadata": {},
          "execution_count": 67
        }
      ],
      "source": [
        "map = folium.Map()\n",
        "HeatMap(lat_lon_pairs).add_to(map)\n",
        "map\n"
      ]
    },
    {
      "cell_type": "markdown",
      "metadata": {
        "id": "Tj2amz7kuYBt"
      },
      "source": [
        "##Conclusion\n",
        "The project analyzed various parameters on accident occurrence and the following insights have been found upon drilling the above parameters:\n",
        "\n",
        "\n",
        "*  The top 5 states by accidents include populous ones like Los Angeles, Houston, and Florida.\n",
        "*   Less than 5% (~ 4.35%) of cities have more than 1000 accidents in the period between February 2016 and December 2021.\n",
        "*   No data from New York\n",
        "*  Over 1100 cities have had just one accident in 4yeaars- needs further investigation.\n",
        "*  The majority of them have witnessed between 10–100 accidents during the period.\n",
        "*  Accidents by cities follow an exponentially decreasing distribution.\n",
        "*   The hypothesis that weekdays see more accidents during morning and evening rush hours is corroborated by the data. Weekends have the peak during the afternoon.\n",
        "*   The weather conditions seem to be “Fair”, “Clear” and “Mostly Cloudy” in most cases.\n",
        "*   Most accidents happened away from the main crossing where there was inadequate or absence of traffic management infrastructures like traffic signaling systems.\n",
        "*   The year-wise analysis seems to show missing data about certain months. So nothing much can be conclusively said about the overall increasing trend in the latter half of the year.\n",
        "\n",
        "\n",
        "\n",
        "\n",
        "\n",
        "\n",
        "\n"
      ]
    },
    {
      "cell_type": "markdown",
      "metadata": {
        "id": "jiPto5ask3I2"
      },
      "source": [
        "## Ask & Answer Questions\n",
        "\n",
        "1. Are there more accidents in warmer or colder areas?\n",
        "2. Which 5 state have the highest number of accidents? How about per capita?\n",
        "3. Does New York sjow up in the data? If yes, why is the count lower if this the most populated city.\n",
        "4. Among the top 100 cities in number of accidents, which states do they belong to most frequently.\n",
        "5. What time of the day are accidents most frequent in? - ANSWERED\n",
        "6. Which days of the week have the post accidents?\n",
        "7. Which months have the most accidents?\n",
        "8. What is the trend of accidents year over year(decreasing/increasing?)\n",
        "9. When is accidents per unit of traffic the highest."
      ]
    },
    {
      "cell_type": "markdown",
      "metadata": {
        "id": "ndvToe0ww6L1"
      },
      "source": [
        "##Future Scope\n",
        "\n",
        "1. Analyze year-on-year trends of accidents.\n",
        "2. Explore per-capita accident figures by adding a state and city-wise population data set.\n",
        "3. The question of missing data in certain months could be analyzed if there is some data available on the source/s of this one.\n",
        "\n",
        "\n"
      ]
    }
  ],
  "metadata": {
    "accelerator": "GPU",
    "colab": {
      "collapsed_sections": [
        "8ChBypjYhZtU"
      ],
      "provenance": []
    },
    "gpuClass": "standard",
    "kernelspec": {
      "display_name": "Python 3",
      "language": "python",
      "name": "python3"
    },
    "language_info": {
      "codemirror_mode": {
        "name": "ipython",
        "version": 3
      },
      "file_extension": ".py",
      "mimetype": "text/x-python",
      "name": "python",
      "nbconvert_exporter": "python",
      "pygments_lexer": "ipython3",
      "version": "3.7.6"
    }
  },
  "nbformat": 4,
  "nbformat_minor": 0
}